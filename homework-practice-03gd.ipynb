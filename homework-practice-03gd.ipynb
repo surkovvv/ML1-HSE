{
 "cells": [
  {
   "cell_type": "markdown",
   "metadata": {},
   "source": [
    "# Машинное обучение, ФКН ВШЭ\n",
    "\n",
    "## Практическое задание 3. Градиентный спуск своими руками\n",
    "\n",
    "### Общая информация\n",
    "Дата выдачи: 05.10.2020\n",
    "\n",
    "Мягкий дедлайн: 06:59MSK 19.10.2020 (за каждый день просрочки снимается 1 балл)\n",
    "\n",
    "Жесткий дедлайн: 06:59MSK 22.10.2020"
   ]
  },
  {
   "cell_type": "markdown",
   "metadata": {},
   "source": [
    "### О задании\n",
    "\n",
    "В данном задании необходимо реализовать обучение линейной регрессии с помощью различных вариантов градиентного спуска.\n",
    "\n",
    "\n",
    "### Оценивание и штрафы\n",
    "Каждая из задач имеет определенную «стоимость» (указана в скобках около задачи). Максимально допустимая оценка за работу — 10 баллов + 2 балла бонус.\n",
    "\n",
    "Сдавать задание после указанного срока сдачи нельзя. При выставлении неполного балла за задание в связи с наличием ошибок на усмотрение проверяющего предусмотрена возможность исправить работу на указанных в ответном письме условиях.\n",
    "\n",
    "Задание выполняется самостоятельно. «Похожие» решения считаются плагиатом и все задействованные студенты (в том числе те, у кого списали) не могут получить за него больше 0 баллов (подробнее о плагиате см. на странице курса). Если вы нашли решение какого-то из заданий (или его часть) в открытом источнике, необходимо указать ссылку на этот источник в отдельном блоке в конце вашей работы (скорее всего вы будете не единственным, кто это нашел, поэтому чтобы исключить подозрение в плагиате, необходима ссылка на источник).\n",
    "\n",
    "Неэффективная реализация кода может негативно отразиться на оценке.\n",
    "Также оценка может быть снижена за плохо читаемый код и плохо считываемые диаграммы.\n",
    "\n",
    "Все ответы должны сопровождаться кодом или комментариями о том, как они были получены.\n",
    "\n",
    "\n",
    "### Формат сдачи\n",
    "Задания сдаются через систему Anytask. Инвайт можно найти на странице курса. Присылать необходимо ноутбук с выполненным заданием. Сам ноутбук называйте в формате homework-practice-03-gd-Username.ipynb, где Username — ваша фамилия.\n",
    "\n",
    "Для удобства проверки самостоятельно посчитайте свою максимальную оценку (исходя из набора решенных задач) и укажите ниже.\n",
    "\n",
    "**Оценка**: ..."
   ]
  },
  {
   "cell_type": "markdown",
   "metadata": {},
   "source": [
    "Напомним, что на лекциях и семинарах мы разбирали некоторые подходы к оптимизации функционалов по параметрам. В частности, был рассмотрен градиентный спуск и различные подходы к его реализации — стохастический, метод импульса и другие. В качестве модели у нас будет выступать линейная регрессия.\n",
    "\n",
    "В этом домашнем задании вам предстоит реализовать 4 различных вариации градиентного спуска, написать свою реализацию линейной регресии, сравнить методы градиентного спуска между собой на реальных данных и разобраться как подбирать гиперпараметры для этих методов."
   ]
  },
  {
   "cell_type": "markdown",
   "metadata": {},
   "source": [
    "## Задание 1. Реализация градиентного спуска (3.5 балла)"
   ]
  },
  {
   "cell_type": "markdown",
   "metadata": {},
   "source": [
    "В этом задании вам предстоит написать собственные реализации различных подходов к градиентному спуску с опорой на подготовленные шаблоны в файле  `utils.py`:\n",
    "\n",
    "**Задание 1.1. (0.5 балла)** Полный градиентный спуск **GradientDescent**:\n",
    "\n",
    "$$\n",
    "    w_{k + 1} = w_{k} - \\eta_{k} \\nabla_{w} Q(w_{k}).\n",
    "$$\n",
    "\n",
    "**Задание 1.2. (1 балл)** Стохастический градиентный спуск **StochasticDescent**:\n",
    "\n",
    "$$\n",
    "    w_{k + 1} = w_{k} - \\eta_{k} \\nabla_{w} q_{i_{k}}(w_{k}).\n",
    "$$ \n",
    "\n",
    "$\\nabla_{w} q_{i_{k}}(w_{k}) \\,$ - это оценка градиента по батчу объектов, выбранных случайно.\n",
    "\n",
    "**Задание 1.3. (1 балл)** Метод Momentum **MomentumDescent**:\n",
    "\n",
    "$$\n",
    "    h_0 = 0, \\\\\n",
    "    h_{k + 1} = \\alpha h_{k} + \\eta_k \\nabla_{w} Q(w_{k}), \\\\\n",
    "    w_{k + 1} = w_{k} - h_{k + 1}.\n",
    "$$\n",
    "\n",
    "**Задание 1.4. (1 балл)** Метод Adaptive gradient algorithm **Adagrad**:\n",
    "\n",
    "$$\n",
    "    G_0 = 0, \\\\\n",
    "    G_{k + 1} = G_{k} + \\left(\\nabla_{w} Q(w_{k})\\right) ^ 2, \\\\\n",
    "    w_{k + 1} = w_{k} - \\dfrac{\\eta_k}{\\sqrt{\\varepsilon + G_{k + 1}}} \\nabla_{w} Q(w_{k}).\n",
    "$$\n",
    "\n",
    "\n",
    "Во всех вышеназванных методах мы будем использовать следующую формулу для длины шага:\n",
    "\n",
    "$$\n",
    "    \\eta_{k} = \\lambda \\left(\\dfrac{s_0}{s_0 + k}\\right)^p\n",
    "$$\n",
    "На практике достаточно настроить параметр $\\lambda$, а остальным выставить параметры по умолчанию: $s_0 = 1, \\, p = 0.5.$"
   ]
  },
  {
   "cell_type": "markdown",
   "metadata": {},
   "source": [
    "Мы будем использовать функцию потерь MSE:\n",
    "\n",
    "$$\n",
    "    Q(w) = \\dfrac{1}{\\ell} \\sum\\limits_{i=1}^{\\ell} (a_w(x_i) - y_i)^2\n",
    "$$\n",
    "\n",
    "Все вычисления должны быть векторизованы."
   ]
  },
  {
   "cell_type": "markdown",
   "metadata": {},
   "source": [
    "## Задание 2. Реализация линейной регресии (1.5 балла)"
   ]
  },
  {
   "cell_type": "markdown",
   "metadata": {},
   "source": [
    "В этом задании вам предстоит написать свою реализацию линейной регресии, обучаемой с использованием градиентного спуска, с опорой на подготовленные шаблоны в файле `utils.py` - **LinearRegression**.\n",
    "\n",
    "Необходимо соблюдать следующие условия:\n",
    "\n",
    "* Все вычисления должны быть векторизованы.\n",
    "* Циклы средствами python допускаются только для итераций градиентного спуска.\n",
    "* В качестве критерия останова необходимо использовать (одновременно):\n",
    "    * Квадрат евклидовой нормы разности весов на двух соседних итерациях меньше `tolerance`.\n",
    "    * Достижение максимального числа итераций `max_iter`.\n",
    "* Чтобы проследить за сходимостью оптимизационного процесса будем использовать `loss_history`, в нём будем хранить значения функции потерь до каждого шага, начиная с нулевого (до первого шага по антиградиенту).\n",
    "* Инициализировать веса нужно нулевым вектором или из нормального $\\mathcal{N}(0, 1)$ распределения (тогда нужно зафиксировать seed)."
   ]
  },
  {
   "cell_type": "markdown",
   "metadata": {},
   "source": [
    "## Задание 3. Проверка кода (0 баллов)"
   ]
  },
  {
   "cell_type": "code",
   "execution_count": 1,
   "metadata": {},
   "outputs": [],
   "source": [
    "%load_ext autoreload"
   ]
  },
  {
   "cell_type": "code",
   "execution_count": 2,
   "metadata": {},
   "outputs": [],
   "source": [
    "%autoreload 2\n",
    "\n",
    "import numpy as np\n",
    "\n",
    "from utils import (\n",
    "    Adagrad,\n",
    "    GradientDescent,\n",
    "    MomentumDescent,\n",
    "    StochasticDescent,\n",
    ")\n",
    "from utils import LinearRegression"
   ]
  },
  {
   "cell_type": "code",
   "execution_count": 3,
   "metadata": {},
   "outputs": [],
   "source": [
    "num_objects = 100\n",
    "dimension = 5\n",
    "\n",
    "X = np.random.rand(num_objects, dimension)\n",
    "y = np.random.rand(num_objects)\n",
    "\n",
    "lambda_ = 1e-2\n",
    "w0 = np.zeros(dimension)\n",
    "\n",
    "max_iter = 10\n",
    "tolerance = 0"
   ]
  },
  {
   "cell_type": "code",
   "execution_count": 4,
   "metadata": {},
   "outputs": [],
   "source": [
    "# GradientDescent\n",
    "\n",
    "descent = GradientDescent(lambda_ = lambda_, w0 = w0)\n",
    "\n",
    "gradient = descent.calc_gradient(X, y)\n",
    " \n",
    "assert gradient.shape[0] == dimension, 'Gradient failed'\n",
    "\n",
    "diff = descent.step(X, y, 0)\n",
    "\n",
    "assert diff.shape[0] == dimension, 'Weights failed'"
   ]
  },
  {
   "cell_type": "code",
   "execution_count": 5,
   "metadata": {},
   "outputs": [],
   "source": [
    "# StochasticDescent\n",
    "\n",
    "descent = StochasticDescent(lambda_ = lambda_, w0 = w0)\n",
    "\n",
    "gradient = descent.calc_gradient(X, y)\n",
    "\n",
    "assert gradient.shape[0] == dimension, 'Gradient failed'\n",
    "\n",
    "diff = descent.step(X, y, 0)\n",
    "\n",
    "assert diff.shape[0] == dimension, 'Weights failed'"
   ]
  },
  {
   "cell_type": "code",
   "execution_count": 6,
   "metadata": {},
   "outputs": [],
   "source": [
    "# MomentumDescent\n",
    "\n",
    "descent = MomentumDescent(lambda_ = lambda_, w0 = w0)\n",
    "\n",
    "gradient = descent.calc_gradient(X, y)\n",
    "\n",
    "assert gradient.shape[0] == dimension, 'Gradient failed'\n",
    "\n",
    "diff = descent.step(X, y, 0)\n",
    "\n",
    "assert diff.shape[0] == dimension, 'Weights failed'"
   ]
  },
  {
   "cell_type": "code",
   "execution_count": 7,
   "metadata": {},
   "outputs": [],
   "source": [
    "# Adagrad\n",
    "\n",
    "descent = Adagrad(lambda_ = lambda_, w0 = w0)\n",
    "\n",
    "gradient = descent.calc_gradient(X, y)\n",
    "\n",
    "assert gradient.shape[0] == dimension, 'Gradient failed'\n",
    "\n",
    "diff = descent.step(X, y, 0)\n",
    "\n",
    "assert diff.shape[0] == dimension, 'Weights failed'"
   ]
  },
  {
   "cell_type": "code",
   "execution_count": 8,
   "metadata": {},
   "outputs": [
    {
     "name": "stdout",
     "output_type": "stream",
     "text": [
      "current predict:  [14.6888626  17.0562176  17.46908602 13.05516343 12.23041882 14.72882928\n",
      " 20.5698629  14.99843536 24.91540433 11.40148169 20.74193814 15.90168914\n",
      "  8.43923109  9.28564991 13.36860785 19.45784895 12.41750513 13.66238774\n",
      " 12.10710051 22.23196601  7.96680507 20.40525799 11.41337009 14.34499032\n",
      " 15.13043703 13.79666155 15.38303179 23.43097126 12.47602981 22.36688227\n",
      " 13.17213897 12.42745545 14.34346188 18.24660931 10.06756441 10.35240985\n",
      " 14.57755688 17.68244628  9.53737827 13.03760517 12.73711289 11.98385727\n",
      " 12.84510563 11.65525568 14.45710922 14.83086777 12.48167424 15.85639901\n",
      " 15.11555097 12.80791895 17.92442216 15.10781124 20.7000849  18.72702755\n",
      " 12.69013857 12.0230207  15.84458366 10.00622214  4.10184171  8.93416343\n",
      " 14.71837336 17.01009581 15.90085185 11.71154951 15.21300674 20.42721926\n",
      " 10.63656819 18.58251951 20.09348951 14.56109223 12.62938569 12.09415017\n",
      " 11.4873336  17.19560617 13.21264884 23.1111578   8.25170462 15.05475217\n",
      " 14.67864398 12.66323316 18.74171042 21.22132739 14.93863112 11.88141715\n",
      " 15.35107674  9.62788078 10.62786965 16.09945542 16.83465322 15.77071778\n",
      " 13.90359702 15.85604885 22.36761142 21.33702125  9.72528582  5.09835545\n",
      " 12.40305968  8.95987705 11.33886747 13.31619865]\n",
      "current predict:  [14.41533526 16.66248535 17.0851943  12.80326926 11.95221446 14.45009169\n",
      " 20.15780605 14.68881313 24.38550876 11.17585211 20.29870136 15.58167974\n",
      "  8.29862128  9.06916609 13.07732312 19.07409801 12.13360436 13.36621966\n",
      " 11.79498091 21.77181574  7.79236085 19.96120896 11.12739102 14.0589118\n",
      " 14.82565028 13.43926686 15.09605604 22.92667949 12.1945724  21.91242761\n",
      " 12.96079983 12.13567899 14.10364527 17.84470077  9.82022613 10.16297004\n",
      " 14.23363633 17.33577648  9.35566859 12.70632363 12.4662516  11.6953325\n",
      " 12.59412962 11.40773937 14.13800541 14.50626031 12.20142344 15.49196242\n",
      " 14.76545007 12.53232557 17.55286828 14.82675967 20.29823307 18.36092546\n",
      " 12.38764865 11.74606845 15.4771476   9.78794235  4.01165104  8.72446892\n",
      " 14.4011191  16.63311822 15.60582098 11.49802976 14.91838791 19.99702994\n",
      " 10.38209135 18.21994109 19.63573387 14.22485979 12.35444688 11.87685501\n",
      " 11.24312297 16.82897092 12.87495865 22.61860689  8.08152496 14.71207646\n",
      " 14.37936093 12.40620686 18.38569841 20.72280799 14.59361165 11.63431788\n",
      " 15.01221435  9.38887662 10.43168485 15.78968715 16.41757359 15.43660428\n",
      " 13.60697576 15.5610655  21.87525803 20.87071471  9.5489902   4.9785294\n",
      " 12.12604779  8.75796887 11.05614278 13.00545918]\n",
      "current predict:  [14.18561281 16.38928689 16.82524026 12.60000203 11.75355093 14.20280587\n",
      " 19.8482115  14.4888651  23.97813947 11.01216149 19.96042413 15.34153628\n",
      "  8.17809095  8.91671024 12.85225634 18.74150338 11.97524266 13.12301746\n",
      " 11.61398745 21.43691101  7.64742333 19.65261599 10.94474345 13.88440483\n",
      " 14.573586   13.24099167 14.83631745 22.57322834 11.95462751 21.53159382\n",
      " 12.74355697 11.92006197 13.85494071 17.58558689  9.66068142  9.96797352\n",
      " 13.95661182 17.03293568  9.19166679 12.54453186 12.22552863 11.52552436\n",
      " 12.42328458 11.17641768 13.95446593 14.21757508 12.01435979 15.22946412\n",
      " 14.53054968 12.34930761 17.28797729 14.55775669 19.95554738 18.0308985\n",
      " 12.17576697 11.53651247 15.21712168  9.60863924  3.93703998  8.55918996\n",
      " 14.17602405 16.38060159 15.32967487 11.34230899 14.67913889 19.66073747\n",
      " 10.22140797 17.94642647 19.2895778  13.97791919 12.10308742 11.65198419\n",
      " 11.05100108 16.56428765 12.66542054 22.26563344  7.93525755 14.47950936\n",
      " 14.1228505  12.22639186 18.06378973 20.3697517  14.304804   11.42542907\n",
      " 14.78473079  9.23156162 10.30132558 15.56442466 16.18278142 15.22979558\n",
      " 13.39654514 15.30876404 21.54334025 20.53469175  9.36474728  4.92734055\n",
      " 11.92561127  8.59421914 10.91953794 12.78495056]\n",
      "current predict:  [13.99189816 16.16771936 16.63097856 12.40862621 11.56922342 14.02234153\n",
      " 19.567242   14.29225531 23.6251971  10.85822808 19.69048199 15.0834066\n",
      "  8.06857709  8.76958494 12.6535733  18.4828321  11.79010631 12.93117594\n",
      " 11.4099138  21.13158991  7.53402075 19.37063473 10.74753601 13.70882739\n",
      " 14.40932324 13.0094256  14.61381739 22.22924997 11.80111378 21.21124593\n",
      " 12.59365762 11.72797644 13.69712051 17.32315868  9.50181824  9.86702925\n",
      " 13.72312798 16.74679165  9.07561012 12.39615936 12.02909614 11.39849619\n",
      " 12.24733871 11.01898585 13.75030908 13.99545211 11.81127676 15.01707288\n",
      " 14.37005618 12.20926047 17.05738729 14.37691227 19.68184717 17.75532749\n",
      " 11.96541141 11.33528703 15.00294685  9.48066422  3.85730414  8.41919816\n",
      " 13.94707867 16.13330535 15.08526954 11.21660873 14.46536613 19.35238163\n",
      " 10.05508247 17.72664311 18.99982454 13.8063313  11.91962203 11.50057098\n",
      " 10.91055495 16.30561248 12.43689806 21.9252374   7.78788807 14.2696609\n",
      " 13.92612297 12.0524564  17.82460451 20.0677646  14.0802282  11.24378159\n",
      " 14.53247644  9.04947563 10.17089896 15.36206669 15.93320154 15.03296449\n",
      " 13.24677354 15.1270966  21.21787703 20.24118122  9.25639873  4.87507786\n",
      " 11.79024417  8.47597338 10.79260906 12.56620625]\n",
      "current predict:  [13.86038467 15.98785912 16.470452   12.2814491  11.44448548 13.88751132\n",
      " 19.35618683 14.13310003 23.38247518 10.74461357 19.49910457 14.92098849\n",
      "  7.98957351  8.66828829 12.52108002 18.30194327 11.64572094 12.80373213\n",
      " 11.27352641 20.9172152   7.46286458 19.15833802 10.61672402 13.5671391\n",
      " 14.27749217 12.8449373  14.47019494 21.98918516 11.69573961 21.00265788\n",
      " 12.48533237 11.59796181 13.57780193 17.1353097   9.39869203  9.78576413\n",
      " 13.57634046 16.57231482  8.99120988 12.26561048 11.90251852 11.28057879\n",
      " 12.12202959 10.91028401 13.59977309 13.84932614 11.68407584 14.85982358\n",
      " 14.22630018 12.0842751  16.88029136 14.24488468 19.48541288 17.57391144\n",
      " 11.83306271 11.20183403 14.84069695  9.38697976  3.80769896  8.32776411\n",
      " 13.80053545 15.94817439 14.93477436 11.11123156 14.32924231 19.15085819\n",
      "  9.94584448 17.55503274 18.79812431 13.66467224 11.80110863 11.40128399\n",
      " 10.79642715 16.12937439 12.28768235 21.68977257  7.69781545 14.10374194\n",
      " 13.78401007 11.92754733 17.65671788 19.85310068 13.93712323 11.13228649\n",
      " 14.3670473   8.93376319 10.06770618 15.21306436 15.7491934  14.88306386\n",
      " 13.12059027 14.98877822 20.98591318 20.02904818  9.1805258   4.81963079\n",
      " 11.66859996  8.38549852 10.67677737 12.42047257]\n",
      "current predict:  [13.62587949 15.71826375 16.22026249 12.07011355 11.25605691 13.6359912\n",
      " 19.02365826 13.90775014 22.98675463 10.56837035 19.17901262 14.67194321\n",
      "  7.85122183  8.52060314 12.30639776 17.97337565 11.46842671 12.58030121\n",
      " 11.10691383 20.58041949  7.33480627 18.84235632 10.44468477 13.36882173\n",
      " 14.03355442 12.6518823  14.20710793 21.63181712 11.49191568 20.63604631\n",
      " 12.25588878 11.39775252 13.32107373 16.87203693  9.25656476  9.59990002\n",
      " 13.33158793 16.26996725  8.82904816 12.1147384  11.67537019 11.11841627\n",
      " 11.93564849 10.69778504 13.40564585 13.58327672 11.50464683 14.61395019\n",
      " 14.00450201 11.89525841 16.60556815 13.97887322 19.1365342  17.24501124\n",
      " 11.64016584 10.99895694 14.59308778  9.22056925  3.73137591  8.17850619\n",
      " 13.58085705 15.68493596 14.65641136 10.93742606 14.09339601 18.8230348\n",
      "  9.79771483 17.26960208 18.47505822 13.43412333 11.57511452 11.18539177\n",
      " 10.60433003 15.86234088 12.0957817  21.3331712   7.55001389 13.86449632\n",
      " 13.53080339 11.73846632 17.33749402 19.52653652 13.68433962 10.93657309\n",
      " 14.13596696  8.78185157  9.91408134 14.974263   15.52225509 14.67052838\n",
      " 12.91519341 14.73145018 20.65087292 19.70004268  9.00713319  4.75917116\n",
      " 11.47215207  8.23065276 10.54311448 12.20821811]\n",
      "current predict:  [13.55850347 15.65967384 16.15745113 12.00611922 11.19546862 13.58301715\n",
      " 18.94107498 13.85054326 22.871788   10.51926846 19.08850235 14.58189575\n",
      "  7.81570191  8.47570976 12.24163141 17.89291775 11.41371101 12.51730529\n",
      " 11.03746951 20.47672124  7.29488436 18.75774986 10.38170439 13.30992931\n",
      " 13.98422328 12.57930586 14.13369906 21.51915736 11.4412715  20.52807163\n",
      " 12.20791883 11.33824637 13.27518561 16.78392277  9.19988065  9.57251534\n",
      " 13.25696958 16.17406122  8.79346257 12.06334509 11.61611563 11.08158391\n",
      " 11.87365488 10.65383205 13.33468397 13.5182842  11.43018486 14.54886334\n",
      " 13.95960283 11.85593758 16.53420487 13.92568628 19.05347988 17.1598919\n",
      " 11.5678208  10.93920912 14.53046112  9.18269972  3.70875429  8.13509198\n",
      " 13.49896837 15.61212645 14.57518993 10.89639288 14.01448647 18.72005238\n",
      "  9.73792622 17.19922249 18.38527812 13.38779991 11.51955337 11.13599369\n",
      " 10.5681809  15.77735661 12.0196991  21.22166798  7.50443462 13.80865345\n",
      " 13.47433699 11.67986355 17.26240658 19.43132637 13.61252798 10.87356226\n",
      " 14.05067869  8.72452785  9.87050096 14.90388968 15.44002895 14.5996967\n",
      " 12.86854392 14.6737058  20.54524212 19.6066257   8.97294874  4.74475601\n",
      " 11.43899879  8.20028676 10.50135186 12.13979082]\n",
      "current predict:  [13.40056293 15.47361814 15.97324836 11.86908043 11.06035301 13.41405639\n",
      " 18.73286396 13.71528922 22.59387188 10.40804112 18.85379154 14.42149538\n",
      "  7.73428156  8.37374076 12.08884597 17.66624553 11.30826977 12.35048961\n",
      " 10.91490036 20.24666412  7.19471538 18.54844891 10.26005837 13.18851289\n",
      " 13.80791739 12.44692166 13.95854872 21.27948786 11.27319368 20.26835741\n",
      " 12.05847771 11.19270485 13.10430247 16.60671199  9.09008838  9.43646679\n",
      " 13.06977108 15.97233458  8.68071866 11.94556806 11.45497102 10.96050383\n",
      " 11.75642761 10.49680388 13.20816071 13.3241237  11.30285597 14.3681982\n",
      " 13.79366133 11.72798104 16.3525167  13.74130663 18.82083656 16.93867577\n",
      " 11.42439844 10.80083037 14.35255978  9.05935091  3.66141438  8.02355745\n",
      " 13.34573506 15.44271348 14.3905204  10.78714051 13.84961953 18.49241752\n",
      "  9.62740998 17.00939231 18.14956436 13.21655433 11.34906962 10.98151539\n",
      " 10.43721936 15.59865513 11.87895327 20.98260771  7.40937913 13.65259971\n",
      " 13.30066958 11.55682313 17.04209768 19.18935286 13.41570343 10.73161701\n",
      " 13.89867833  8.62205331  9.78062828 14.74756937 15.27877118 14.45386999\n",
      " 12.71982819 14.49861504 20.319695   19.37654506  8.84493755  4.70800811\n",
      " 11.29995641  8.08925616 10.40245962 11.99275437]\n",
      "current predict:  [13.19380351 15.27408234 15.76568251 11.67716549 10.89117809 13.23140671\n",
      " 18.45499417 13.51254015 22.25632686 10.24829022 18.5855787  14.1691238\n",
      "  7.61159266  8.24588394 11.90551139 17.41405726 11.13080133 12.17339938\n",
      " 10.73566354 19.9355978   7.08927216 18.27824806 10.09362688 12.98693236\n",
      " 13.63575151 12.2472883  13.73906681 20.9462648  11.13309106 19.95907997\n",
      " 11.88773101 11.02770077 12.93227161 16.34587858  8.94527013  9.33064411\n",
      " 12.87677382 15.70476116  8.56294416 11.7863105  11.28682094 10.82964822\n",
      " 11.56428494 10.36316457 12.9950908  13.13908674 11.10762269 14.17265368\n",
      " 13.63298691 11.5792926  16.11700472 13.55991782 18.55049857 16.68240553\n",
      " 11.23883567 10.63323637 14.15897629  8.94226828  3.59849018  7.90684717\n",
      " 13.12269403 15.21163177 14.15590706 10.63408355 13.62570707 18.20094452\n",
      "  9.4709035  16.76892862 17.89137055 13.05952267 11.19441042 10.82867428\n",
      " 10.30615947 15.35069421 11.68418859 20.65335796  7.28291799 13.46419205\n",
      " 13.11810187 11.37549651 16.801809   18.91740758 13.22673898 10.5616596\n",
      " 13.6616375   8.47309897  9.62770419 14.52177001 15.04485697 14.234542\n",
      " 12.55827975 14.29977852 20.00534971 19.09422094  8.73302477  4.64696028\n",
      " 11.17035952  7.9892333  10.26487669 11.80369619]\n",
      "current predict:  [13.12853318 15.18177494 15.68533067 11.61504525 10.8355323  13.15874643\n",
      " 18.34354053 13.42673246 22.14210734 10.18963673 18.49584892 14.09513943\n",
      "  7.56764888  8.19939501 11.84519764 17.32308101 11.0578492  12.11608743\n",
      " 10.68037381 19.8329637   7.05976693 18.17177676 10.03814052 12.91198557\n",
      " 13.56597886 12.17514114 13.66861389 20.83252403 11.08746257 19.86260583\n",
      " 11.82606604 10.9697332  12.86316766 16.25757861  8.90453336  9.28439833\n",
      " 12.81586622 15.62481023  8.5187568  11.72602304 11.22801505 10.76962421\n",
      " 11.50206666 10.31010787 12.92381524 13.07129595 11.05537518 14.09840152\n",
      " 13.55881111 11.51135084 16.02588485 13.48905348 18.44858865 16.59304183\n",
      " 11.18533137 10.57211546 14.08057694  8.89667687  3.57531641  7.86719073\n",
      " 13.05920186 15.11903403 14.08404583 10.57458859 13.56376295 18.10885704\n",
      "  9.42641203 16.67798018 17.79868143 12.9877754  11.14083813 10.77859108\n",
      " 10.24474427 15.26788741 11.62372212 20.54172177  7.24133764 13.37861933\n",
      " 13.04527527 11.31383094 16.71566791 18.8202189  13.16647247 10.51341342\n",
      " 13.58754877  8.42422722  9.5712348  14.44585322 14.96269194 14.16206755\n",
      " 12.49284203 14.22540171 19.89534051 18.99256412  8.69339968  4.61612143\n",
      " 11.10418381  7.9433265  10.2086984  11.7385753 ]\n"
     ]
    }
   ],
   "source": [
    "# LinearRegression\n",
    "\n",
    "regression = LinearRegression(\n",
    "    descent = StochasticDescent(lambda_ = lambda_, w0 = w0, batch_size = 2),\n",
    "    tolerance = tolerance,\n",
    "    max_iter = max_iter\n",
    ")\n",
    "\n",
    "regression.fit(X, y)\n",
    "\n",
    "assert len(regression.loss_history) == max_iter, 'Loss history failed'\n",
    "\n",
    "prediction = regression.predict(X)\n",
    "\n",
    "assert prediction.shape[0] == num_objects, 'Predict failed'"
   ]
  },
  {
   "cell_type": "markdown",
   "metadata": {},
   "source": [
    "Если ваше решение прошло все тесты локально, то теперь осталось протестировать его в Яндекс Контесте - **https://contest.yandex.ru/contest/19551**.\n",
    "\n",
    "Для каждой задачи из контеста вставьте ссылку на успешную посылку:\n",
    "\n",
    "* **GradientDescent**: \n",
    "* **StochasticDescent**:\n",
    "* **MomentumDescent**:\n",
    "* **Adagrad**:\n",
    "* **LinearRegression**:"
   ]
  },
  {
   "attachments": {
    "image.png": {
     "image/png": "[encoded data removed]"
    }
   },
   "cell_type": "markdown",
   "metadata": {},
   "source": [
    "![image.png](attachment:image.png)"
   ]
  },
  {
   "cell_type": "markdown",
   "metadata": {},
   "source": [
    "## Задание 4. Работа с данными (1 балл)"
   ]
  },
  {
   "cell_type": "markdown",
   "metadata": {},
   "source": [
    "Мы будем использовать датасет объявлений по продаже машин на немецком Ebay. В задаче предсказания целевой переменной для нас будет являться цена.\n",
    "Для дальнейшей работы сделайте следующее:\n",
    "* Проведите разумную предобработку данных.\n",
    "* Замените целевую переменную на её логарифм.\n",
    "* Разделите данные на обучающую, валидационную и тестовую выборки в отношении 3:1:1."
   ]
  },
  {
   "cell_type": "code",
   "execution_count": 9,
   "metadata": {},
   "outputs": [],
   "source": [
    "# YOUR CODE:\n",
    "import pandas as pd\n",
    "import seaborn as sns\n",
    "import matplotlib.pyplot as plt\n",
    "df = pd.read_csv('auto.csv')"
   ]
  },
  {
   "cell_type": "code",
   "execution_count": 10,
   "metadata": {
    "scrolled": true
   },
   "outputs": [
    {
     "data": {
      "text/html": [
       "<div>\n",
       "<style scoped>\n",
       "    .dataframe tbody tr th:only-of-type {\n",
       "        vertical-align: middle;\n",
       "    }\n",
       "\n",
       "    .dataframe tbody tr th {\n",
       "        vertical-align: top;\n",
       "    }\n",
       "\n",
       "    .dataframe thead th {\n",
       "        text-align: right;\n",
       "    }\n",
       "</style>\n",
       "<table border=\"1\" class=\"dataframe\">\n",
       "  <thead>\n",
       "    <tr style=\"text-align: right;\">\n",
       "      <th></th>\n",
       "      <th>brand</th>\n",
       "      <th>model</th>\n",
       "      <th>vehicleType</th>\n",
       "      <th>gearbox</th>\n",
       "      <th>fuelType</th>\n",
       "      <th>notRepairedDamage</th>\n",
       "      <th>powerPS</th>\n",
       "      <th>kilometer</th>\n",
       "      <th>yearOfRegistration</th>\n",
       "      <th>monthOfRegistration</th>\n",
       "      <th>dateCreated</th>\n",
       "      <th>lastSeen</th>\n",
       "      <th>postalCode</th>\n",
       "      <th>price</th>\n",
       "    </tr>\n",
       "  </thead>\n",
       "  <tbody>\n",
       "    <tr>\n",
       "      <th>0</th>\n",
       "      <td>volkswagen</td>\n",
       "      <td>golf</td>\n",
       "      <td>kleinwagen</td>\n",
       "      <td>manuell</td>\n",
       "      <td>benzin</td>\n",
       "      <td>nein</td>\n",
       "      <td>75</td>\n",
       "      <td>150000</td>\n",
       "      <td>2001</td>\n",
       "      <td>6</td>\n",
       "      <td>2016-03-17 00:00:00</td>\n",
       "      <td>2016-03-17 17:40:17</td>\n",
       "      <td>91074</td>\n",
       "      <td>1500</td>\n",
       "    </tr>\n",
       "    <tr>\n",
       "      <th>1</th>\n",
       "      <td>skoda</td>\n",
       "      <td>fabia</td>\n",
       "      <td>kleinwagen</td>\n",
       "      <td>manuell</td>\n",
       "      <td>diesel</td>\n",
       "      <td>nein</td>\n",
       "      <td>69</td>\n",
       "      <td>90000</td>\n",
       "      <td>2008</td>\n",
       "      <td>7</td>\n",
       "      <td>2016-03-31 00:00:00</td>\n",
       "      <td>2016-04-06 10:17:21</td>\n",
       "      <td>60437</td>\n",
       "      <td>3600</td>\n",
       "    </tr>\n",
       "    <tr>\n",
       "      <th>2</th>\n",
       "      <td>bmw</td>\n",
       "      <td>3er</td>\n",
       "      <td>limousine</td>\n",
       "      <td>manuell</td>\n",
       "      <td>benzin</td>\n",
       "      <td>ja</td>\n",
       "      <td>102</td>\n",
       "      <td>150000</td>\n",
       "      <td>1995</td>\n",
       "      <td>10</td>\n",
       "      <td>2016-04-04 00:00:00</td>\n",
       "      <td>2016-04-06 19:17:07</td>\n",
       "      <td>33775</td>\n",
       "      <td>650</td>\n",
       "    </tr>\n",
       "    <tr>\n",
       "      <th>3</th>\n",
       "      <td>peugeot</td>\n",
       "      <td>2_reihe</td>\n",
       "      <td>cabrio</td>\n",
       "      <td>manuell</td>\n",
       "      <td>benzin</td>\n",
       "      <td>nein</td>\n",
       "      <td>109</td>\n",
       "      <td>150000</td>\n",
       "      <td>2004</td>\n",
       "      <td>8</td>\n",
       "      <td>2016-04-01 00:00:00</td>\n",
       "      <td>2016-04-05 18:18:39</td>\n",
       "      <td>67112</td>\n",
       "      <td>2200</td>\n",
       "    </tr>\n",
       "    <tr>\n",
       "      <th>4</th>\n",
       "      <td>mazda</td>\n",
       "      <td>3_reihe</td>\n",
       "      <td>limousine</td>\n",
       "      <td>manuell</td>\n",
       "      <td>benzin</td>\n",
       "      <td>nein</td>\n",
       "      <td>105</td>\n",
       "      <td>150000</td>\n",
       "      <td>2004</td>\n",
       "      <td>12</td>\n",
       "      <td>2016-03-26 00:00:00</td>\n",
       "      <td>2016-04-06 10:45:34</td>\n",
       "      <td>96224</td>\n",
       "      <td>2000</td>\n",
       "    </tr>\n",
       "  </tbody>\n",
       "</table>\n",
       "</div>"
      ],
      "text/plain": [
       "        brand    model vehicleType  gearbox fuelType notRepairedDamage  \\\n",
       "0  volkswagen     golf  kleinwagen  manuell   benzin              nein   \n",
       "1       skoda    fabia  kleinwagen  manuell   diesel              nein   \n",
       "2         bmw      3er   limousine  manuell   benzin                ja   \n",
       "3     peugeot  2_reihe      cabrio  manuell   benzin              nein   \n",
       "4       mazda  3_reihe   limousine  manuell   benzin              nein   \n",
       "\n",
       "   powerPS  kilometer  yearOfRegistration  monthOfRegistration  \\\n",
       "0       75     150000                2001                    6   \n",
       "1       69      90000                2008                    7   \n",
       "2      102     150000                1995                   10   \n",
       "3      109     150000                2004                    8   \n",
       "4      105     150000                2004                   12   \n",
       "\n",
       "           dateCreated             lastSeen  postalCode  price  \n",
       "0  2016-03-17 00:00:00  2016-03-17 17:40:17       91074   1500  \n",
       "1  2016-03-31 00:00:00  2016-04-06 10:17:21       60437   3600  \n",
       "2  2016-04-04 00:00:00  2016-04-06 19:17:07       33775    650  \n",
       "3  2016-04-01 00:00:00  2016-04-05 18:18:39       67112   2200  \n",
       "4  2016-03-26 00:00:00  2016-04-06 10:45:34       96224   2000  "
      ]
     },
     "execution_count": 10,
     "metadata": {},
     "output_type": "execute_result"
    }
   ],
   "source": [
    "df.head()"
   ]
  },
  {
   "cell_type": "code",
   "execution_count": 11,
   "metadata": {},
   "outputs": [
    {
     "data": {
      "text/plain": [
       "array(['benzin', 'diesel', 'lpg', 'andere', 'hybrid', 'cng', 'elektro'],\n",
       "      dtype=object)"
      ]
     },
     "execution_count": 11,
     "metadata": {},
     "output_type": "execute_result"
    }
   ],
   "source": [
    "df.fuelType.unique()"
   ]
  },
  {
   "cell_type": "code",
   "execution_count": 12,
   "metadata": {},
   "outputs": [],
   "source": [
    "df = df.drop(index = df[df['fuelType'].apply(lambda x : x in ['lpg', 'andere', 'hybrid', 'cng', 'elektro'])].index)"
   ]
  },
  {
   "cell_type": "code",
   "execution_count": 13,
   "metadata": {},
   "outputs": [
    {
     "data": {
      "text/plain": [
       "(array([1.92153e+05, 3.66130e+04, 9.90400e+03, 2.80900e+03, 9.99000e+02,\n",
       "        4.37000e+02, 2.69000e+02, 1.17000e+02, 7.30000e+01, 4.80000e+01]),\n",
       " array([1.00000e+00, 1.00008e+04, 2.00006e+04, 3.00004e+04, 4.00002e+04,\n",
       "        5.00000e+04, 5.99998e+04, 6.99996e+04, 7.99994e+04, 8.99992e+04,\n",
       "        9.99990e+04]),\n",
       " <BarContainer object of 10 artists>)"
      ]
     },
     "execution_count": 13,
     "metadata": {},
     "output_type": "execute_result"
    },
    {
     "data": {
      "image/png": "[encoded data removed]",
      "text/plain": [
       "<Figure size 432x288 with 1 Axes>"
      ]
     },
     "metadata": {
      "needs_background": "light"
     },
     "output_type": "display_data"
    }
   ],
   "source": [
    "plt.hist(df['price'])"
   ]
  },
  {
   "cell_type": "code",
   "execution_count": 14,
   "metadata": {},
   "outputs": [],
   "source": [
    "df['dateCreated'] = pd.to_datetime(df['dateCreated'])\n",
    "df['lastSeen'] = pd.to_datetime(df['lastSeen'])"
   ]
  },
  {
   "cell_type": "code",
   "execution_count": 15,
   "metadata": {},
   "outputs": [],
   "source": [
    "df['price'] = np.log1p(df['price'])"
   ]
  },
  {
   "cell_type": "code",
   "execution_count": 16,
   "metadata": {},
   "outputs": [
    {
     "data": {
      "text/plain": [
       "(array([2.9200e+02, 1.8000e+01, 8.4000e+01, 9.7100e+02, 5.4410e+03,\n",
       "        4.0584e+04, 7.0660e+04, 8.0667e+04, 4.1172e+04, 3.5330e+03]),\n",
       " array([ 0.69314718,  1.77512501,  2.85710284,  3.93908067,  5.02105849,\n",
       "         6.10303632,  7.18501415,  8.26699198,  9.34896981, 10.43094764,\n",
       "        11.51292546]),\n",
       " <BarContainer object of 10 artists>)"
      ]
     },
     "execution_count": 16,
     "metadata": {},
     "output_type": "execute_result"
    },
    {
     "data": {
      "image/png": "[encoded data removed]",
      "text/plain": [
       "<Figure size 432x288 with 1 Axes>"
      ]
     },
     "metadata": {
      "needs_background": "light"
     },
     "output_type": "display_data"
    }
   ],
   "source": [
    "plt.hist(df['price'])"
   ]
  },
  {
   "cell_type": "code",
   "execution_count": 17,
   "metadata": {},
   "outputs": [],
   "source": [
    "mask = (df['price'] > np.quantile(df['price'], 0.0015))\n",
    "df = df[mask]"
   ]
  },
  {
   "cell_type": "code",
   "execution_count": 18,
   "metadata": {},
   "outputs": [],
   "source": [
    "from sklearn.model_selection import train_test_split\n",
    "X_train, X_test, y_train, y_test = train_test_split(df.drop(['price', 'postalCode', 'dateCreated', \n",
    "                                                             'lastSeen', 'model', 'vehicleType', 'gearbox', 'fuelType'], axis = 1),\n",
    "                                                   df['price'], \n",
    "                                                   train_size = 0.6, \n",
    "                                                   random_state = 10)\n",
    "X_test, X_val, y_test, y_val = train_test_split(X_test, y_test, train_size = 0.5, random_state = 10)"
   ]
  },
  {
   "cell_type": "code",
   "execution_count": 19,
   "metadata": {
    "scrolled": true
   },
   "outputs": [
    {
     "data": {
      "text/html": [
       "<div>\n",
       "<style scoped>\n",
       "    .dataframe tbody tr th:only-of-type {\n",
       "        vertical-align: middle;\n",
       "    }\n",
       "\n",
       "    .dataframe tbody tr th {\n",
       "        vertical-align: top;\n",
       "    }\n",
       "\n",
       "    .dataframe thead th {\n",
       "        text-align: right;\n",
       "    }\n",
       "</style>\n",
       "<table border=\"1\" class=\"dataframe\">\n",
       "  <thead>\n",
       "    <tr style=\"text-align: right;\">\n",
       "      <th></th>\n",
       "      <th>brand</th>\n",
       "      <th>notRepairedDamage</th>\n",
       "      <th>powerPS</th>\n",
       "      <th>kilometer</th>\n",
       "      <th>yearOfRegistration</th>\n",
       "      <th>monthOfRegistration</th>\n",
       "    </tr>\n",
       "  </thead>\n",
       "  <tbody>\n",
       "    <tr>\n",
       "      <th>136577</th>\n",
       "      <td>volkswagen</td>\n",
       "      <td>nein</td>\n",
       "      <td>60</td>\n",
       "      <td>150000</td>\n",
       "      <td>2001</td>\n",
       "      <td>0</td>\n",
       "    </tr>\n",
       "    <tr>\n",
       "      <th>24043</th>\n",
       "      <td>mercedes_benz</td>\n",
       "      <td>nein</td>\n",
       "      <td>90</td>\n",
       "      <td>150000</td>\n",
       "      <td>2000</td>\n",
       "      <td>12</td>\n",
       "    </tr>\n",
       "    <tr>\n",
       "      <th>105782</th>\n",
       "      <td>bmw</td>\n",
       "      <td>nein</td>\n",
       "      <td>105</td>\n",
       "      <td>150000</td>\n",
       "      <td>1999</td>\n",
       "      <td>3</td>\n",
       "    </tr>\n",
       "    <tr>\n",
       "      <th>64530</th>\n",
       "      <td>renault</td>\n",
       "      <td>nein</td>\n",
       "      <td>88</td>\n",
       "      <td>125000</td>\n",
       "      <td>2006</td>\n",
       "      <td>3</td>\n",
       "    </tr>\n",
       "    <tr>\n",
       "      <th>122935</th>\n",
       "      <td>alfa_romeo</td>\n",
       "      <td>nein</td>\n",
       "      <td>120</td>\n",
       "      <td>20000</td>\n",
       "      <td>2010</td>\n",
       "      <td>10</td>\n",
       "    </tr>\n",
       "  </tbody>\n",
       "</table>\n",
       "</div>"
      ],
      "text/plain": [
       "                brand notRepairedDamage  powerPS  kilometer  \\\n",
       "136577     volkswagen              nein       60     150000   \n",
       "24043   mercedes_benz              nein       90     150000   \n",
       "105782            bmw              nein      105     150000   \n",
       "64530         renault              nein       88     125000   \n",
       "122935     alfa_romeo              nein      120      20000   \n",
       "\n",
       "        yearOfRegistration  monthOfRegistration  \n",
       "136577                2001                    0  \n",
       "24043                 2000                   12  \n",
       "105782                1999                    3  \n",
       "64530                 2006                    3  \n",
       "122935                2010                   10  "
      ]
     },
     "execution_count": 19,
     "metadata": {},
     "output_type": "execute_result"
    }
   ],
   "source": [
    "X_val.sample(5)"
   ]
  },
  {
   "cell_type": "code",
   "execution_count": 20,
   "metadata": {},
   "outputs": [
    {
     "data": {
      "text/plain": [
       "array([False])"
      ]
     },
     "execution_count": 20,
     "metadata": {},
     "output_type": "execute_result"
    }
   ],
   "source": [
    "X_val.isna().notRepairedDamage.unique() # проверка на NaN(вручную перебрал колонки)"
   ]
  },
  {
   "cell_type": "code",
   "execution_count": 21,
   "metadata": {},
   "outputs": [
    {
     "data": {
      "image/png": "[encoded data removed]",
      "text/plain": [
       "<Figure size 1152x432 with 1 Axes>"
      ]
     },
     "metadata": {
      "needs_background": "light"
     },
     "output_type": "display_data"
    }
   ],
   "source": [
    "numeric_data = X_val.select_dtypes([np.number])\n",
    "numeric_data_mean = numeric_data.mean()\n",
    "numeric_features = numeric_data.columns\n",
    "\n",
    "#X_train = X_train.fillna(numeric_data_mean)\n",
    "#X_test = X_test.fillna(numeric_data_mean)\n",
    "#X_val = X_val.fillna(numeric_data_mean)\n",
    "\n",
    "#correlations = X_val[numeric_features].corrwith(y_val).sort_values(ascending=False)\n",
    "correlations = df.drop(\n",
    "    columns = ['monthOfRegistration', 'dateCreated', 'lastSeen', 'postalCode', 'price']).corrwith(df['price']).sort_values(ascending=False)\n",
    "\n",
    "plot = sns.barplot(y=correlations.index, x=correlations)\n",
    "plot.figure.set_size_inches(16, 6)"
   ]
  },
  {
   "cell_type": "code",
   "execution_count": 22,
   "metadata": {},
   "outputs": [
    {
     "data": {
      "image/png": "[encoded data removed]",
      "text/plain": [
       "<Figure size 1152x360 with 3 Axes>"
      ]
     },
     "metadata": {
      "needs_background": "light"
     },
     "output_type": "display_data"
    }
   ],
   "source": [
    "fig, axs = plt.subplots(figsize=(16, 5), ncols=3)\n",
    "for i, feature in enumerate([\"yearOfRegistration\", \"powerPS\", \"kilometer\"]):\n",
    "    axs[i].scatter(X_val[feature], y_val, alpha=0.2)\n",
    "    axs[i].set_xlabel(feature)\n",
    "    axs[i].set_ylabel(\"price\")\n",
    "plt.tight_layout()"
   ]
  },
  {
   "cell_type": "markdown",
   "metadata": {},
   "source": [
    "## Задание 5. Сравнение методов градиентного спуска (2 балла)"
   ]
  },
  {
   "cell_type": "markdown",
   "metadata": {},
   "source": [
    "В этом задании вам предстоит сравнить методы градиентного спуска на подготовленных вами данных из предыдущего задания.\n",
    "\n",
    "* **Задание 5.1. (1.5 балла)** Подберите по валидационной выборке наилучшую длину $\\lambda$ шага для каждого метода. Для этого можно сделать перебор по логарифмической сетке, так как нас интересует скорее порядок величины, нежели её точное значение. Сравните качество методов по метрикам MSE и R^2 на обучающей и тестовой выборках, сравните количество итераций до сходимости. Все параметры кроме $\\lambda$ стоит выставить равным значениям по умолчанию.\n",
    "\n",
    "* **Задание 5.2. (0.5 балла)** Постройте график зависимости значения функции ошибки от номера итерации (все методы на одном графике).\n",
    "\n",
    "Посмотрите на получившиеся результаты. Сравните методы между собой."
   ]
  },
  {
   "cell_type": "code",
   "execution_count": 23,
   "metadata": {},
   "outputs": [],
   "source": [
    "from sklearn.compose import ColumnTransformer\n",
    "from sklearn.preprocessing import OneHotEncoder\n",
    "from sklearn.preprocessing import StandardScaler\n",
    "from sklearn.preprocessing import LabelEncoder\n",
    "from sklearn.metrics import mean_squared_error\n",
    "from sklearn.metrics import r2_score\n",
    "\n",
    "lambda_ = 1e-2\n",
    "max_iter = 100\n",
    "tolerance = 1e-3\n",
    "\n",
    "numeric = ['powerPS', 'kilometer', 'yearOfRegistration', 'monthOfRegistration']\n",
    "categorical = ['brand','notRepairedDamage']\n",
    "\n",
    "column_transformer = ColumnTransformer([\n",
    "    #('LE', LabelEncoder(), categorical),\n",
    "    #('ohe', OneHotEncoder(handle_unknown=\"ignore\"), ['notRepairedDamage']),\n",
    "    ('scaling', StandardScaler(), numeric)\n",
    "])\n",
    "\n",
    "X_val_transformed = column_transformer.fit_transform(X_val)\n",
    "X_train_transformed = column_transformer.transform(X_train)\n",
    "X_test_transformed = column_transformer.transform(X_test)\n",
    "w0 = np.zeros(X_test_transformed.shape[1])"
   ]
  },
  {
   "cell_type": "code",
   "execution_count": 24,
   "metadata": {},
   "outputs": [
    {
     "data": {
      "text/plain": [
       "(48606, 4)"
      ]
     },
     "execution_count": 24,
     "metadata": {},
     "output_type": "execute_result"
    }
   ],
   "source": [
    "X_val_transformed.shape"
   ]
  },
  {
   "cell_type": "code",
   "execution_count": 29,
   "metadata": {},
   "outputs": [
    {
     "data": {
      "text/plain": [
       "array([1.00000000e-03, 1.83298071e-03, 3.35981829e-03, 6.15848211e-03,\n",
       "       1.12883789e-02, 2.06913808e-02, 3.79269019e-02, 6.95192796e-02,\n",
       "       1.27427499e-01, 2.33572147e-01, 4.28133240e-01, 7.84759970e-01,\n",
       "       1.43844989e+00, 2.63665090e+00, 4.83293024e+00, 8.85866790e+00,\n",
       "       1.62377674e+01, 2.97635144e+01, 5.45559478e+01, 1.00000000e+02])"
      ]
     },
     "execution_count": 29,
     "metadata": {},
     "output_type": "execute_result"
    }
   ],
   "source": [
    "lambdas = np.logspace(-3, 2, 20)\n",
    "\n",
    "def find_best_lambda(descent):\n",
    "    best_lambda = 10\n",
    "    best_MSE = 6e6\n",
    "    for lambdas_ in lambdas:\n",
    "        regression = LinearRegression(\n",
    "        descent = GradientDescent(lambda_ = lambda_, w0 = w0),\n",
    "        tolerance = tolerance,\n",
    "        max_iter = max_iter\n",
    "    )\n",
    "    print(\"Loss:\", descent.loss_hitory)\n",
    "    "
   ]
  },
  {
   "cell_type": "code",
   "execution_count": 46,
   "metadata": {
    "scrolled": false
   },
   "outputs": [
    {
     "name": "stdout",
     "output_type": "stream",
     "text": [
      "[8.97474461 5.30330491 8.90937041 ... 6.74641213 9.73512807 4.79579055]\n",
      "breaking...\n",
      "Current MSE:  1.3674196756765902\n",
      "breaking...\n",
      "Current MSE:  1.367412779820016\n",
      "breaking...\n",
      "Current MSE:  1.3673966731329457\n",
      "breaking...\n",
      "Current MSE:  1.3673590530156188\n",
      "breaking...\n",
      "Current MSE:  1.3672711862685105\n",
      "breaking...\n",
      "Current MSE:  1.3670659723985965\n",
      "breaking...\n",
      "Current MSE:  1.3665867502183136\n",
      "breaking...\n",
      "Current MSE:  1.3654679676690948\n",
      "breaking...\n",
      "Current MSE:  1.3628577873821492\n",
      "breaking...\n",
      "Current MSE:  1.3567774134654669\n",
      "breaking...\n",
      "Current MSE:  1.34266417183908\n",
      "breaking...\n",
      "Current MSE:  1.3101841268690808\n",
      "breaking...\n",
      "Current MSE:  1.0540748549246595\n",
      "breaking...\n",
      "Current MSE:  0.6899341760958905\n",
      "breaking...\n",
      "Current MSE:  0.5494659455783556\n",
      "breaking...\n",
      "Current MSE:  0.547875691997059\n",
      "breaking...\n",
      "Current MSE:  0.5507308065677596\n",
      "breaking...\n",
      "Current MSE:  0.550434084250307\n",
      "breaking...\n",
      "Current MSE:  0.5512812767735803\n",
      "Current MSE:  9.395175553233078e+112\n",
      "Best GD's MSE: 0.5479\n",
      "Best GD's lambda : 0.3360\n"
     ]
    }
   ],
   "source": [
    "lambdas = np.logspace(-6, 1, 20)\n",
    "\n",
    "best_lambda_GD = 10\n",
    "best_MSE = 6e6\n",
    "\n",
    "#print(y_val.values)\n",
    "for lambda_ in lambdas:\n",
    "    regression1 = LinearRegression(\n",
    "        descent = GradientDescent(lambda_ = lambda_, w0 = w0),\n",
    "        tolerance = tolerance,\n",
    "        max_iter = max_iter\n",
    "    )\n",
    "    regression1.fit(X_val_transformed, y_val)\n",
    "    #print(\"Loss history: \", regression1.loss_history)\n",
    "    predict = regression1.predict(X_test_transformed)\n",
    "    #print(\"Current MSE: \", mean_squared_error(y_test, predict))\n",
    "    if mean_squared_error(y_test, predict) < best_MSE:\n",
    "        best_lambda_GD = lambda_\n",
    "        best_MSE = mean_squared_error(y_val, predict)\n",
    "    #else:\n",
    "    #    break\n",
    "print(\"Best GD's MSE: %.4f\" % best_MSE)\n",
    "print(\"Best GD's lambda : %.4f\" % best_lambda_GD)"
   ]
  },
  {
   "cell_type": "code",
   "execution_count": 48,
   "metadata": {},
   "outputs": [
    {
     "name": "stdout",
     "output_type": "stream",
     "text": [
      "breaking...\n",
      "breaking...\n",
      "breaking...\n",
      "Best SGD's MSE: 69.1911\n",
      "Best SGD's lambda : 0.0000\n"
     ]
    }
   ],
   "source": [
    "best_lambda_SGD = 10000\n",
    "best_MSE = 6e6\n",
    "\n",
    "for lambda_ in lambdas:\n",
    "    regression2 = LinearRegression(\n",
    "        descent = StochasticDescent(lambda_ = lambda_, w0 = w0, batch_size = 32),\n",
    "        tolerance = tolerance,\n",
    "        max_iter = max_iter\n",
    "    )\n",
    "    regression2.fit(np.array(X_val_transformed), np.array(y_val))\n",
    "    #print(regression2.loss_history)\n",
    "    if regression2.loss_history[-1] < best_MSE:\n",
    "        best_lambda_SGD = lambda_\n",
    "        best_MSE = regression2.loss_history[-1]\n",
    "    else:\n",
    "        break\n",
    "print(\"Best SGD's MSE: %.4f\" % best_MSE)\n",
    "print(\"Best SGD's lambda : %.4f\" % best_lambda_SGD)"
   ]
  },
  {
   "cell_type": "code",
   "execution_count": 49,
   "metadata": {},
   "outputs": [
    {
     "name": "stdout",
     "output_type": "stream",
     "text": [
      "breaking...\n",
      "breaking...\n",
      "breaking...\n",
      "breaking...\n",
      "breaking...\n",
      "breaking...\n",
      "breaking...\n",
      "breaking...\n",
      "breaking...\n",
      "breaking...\n",
      "breaking...\n",
      "breaking...\n",
      "breaking...\n",
      "breaking...\n",
      "breaking...\n",
      "breaking...\n",
      "breaking...\n",
      "Best MD's MSE: 68.3898\n",
      "Best MD's lambda : 0.3360\n"
     ]
    }
   ],
   "source": [
    "best_lambda_MD = 10000\n",
    "best_MSE = 6e6\n",
    "\n",
    "for lambda_ in lambdas:\n",
    "    regression3 = LinearRegression(\n",
    "        descent = MomentumDescent(lambda_ = lambda_, w0 = w0),\n",
    "        tolerance = tolerance,\n",
    "        max_iter = max_iter\n",
    "    )\n",
    "    regression3.fit(np.array(X_val_transformed), np.array(y_val))\n",
    "    #print(regression3.loss_history)\n",
    "    if regression3.loss_history[-1] < best_MSE:\n",
    "        best_lambda_MD = lambda_\n",
    "        best_MSE = regression3.loss_history[-1]\n",
    "    else:\n",
    "        break\n",
    "print(\"Best MD's MSE: %.4f\" % best_MSE)\n",
    "print(\"Best MD's lambda : %.4f\" % best_lambda_MD)"
   ]
  },
  {
   "cell_type": "code",
   "execution_count": 50,
   "metadata": {},
   "outputs": [
    {
     "name": "stdout",
     "output_type": "stream",
     "text": [
      "breaking...\n",
      "breaking...\n",
      "breaking...\n",
      "breaking...\n",
      "breaking...\n",
      "breaking...\n",
      "breaking...\n",
      "breaking...\n",
      "breaking...\n",
      "breaking...\n",
      "breaking...\n",
      "breaking...\n",
      "breaking...\n",
      "breaking...\n",
      "breaking...\n",
      "breaking...\n",
      "breaking...\n",
      "breaking...\n",
      "Best Adagrad MSE: 68.3901\n",
      "Best Adagrad lambda : 0.7848\n"
     ]
    }
   ],
   "source": [
    "best_lambda_Adagrad = 10000\n",
    "best_MSE = 6e6\n",
    "\n",
    "for lambda_ in lambdas:\n",
    "    regression4 = LinearRegression(\n",
    "        descent = Adagrad(lambda_ = lambda_, w0 = w0),\n",
    "        tolerance = tolerance,\n",
    "        max_iter = max_iter\n",
    "    )\n",
    "    regression4.fit(np.array(X_val_transformed), np.array(y_val))\n",
    "    #print(regression4.loss_history)\n",
    "    if regression4.loss_history[-1] < best_MSE:\n",
    "        best_lambda_Adagrad = lambda_\n",
    "        best_MSE = regression4.loss_history[-1]\n",
    "    else:\n",
    "        break\n",
    "print(\"Best Adagrad MSE: %.4f\" % best_MSE)\n",
    "print(\"Best Adagrad lambda : %.4f\" % best_lambda_Adagrad)"
   ]
  },
  {
   "cell_type": "code",
   "execution_count": 2,
   "metadata": {},
   "outputs": [
    {
     "ename": "NameError",
     "evalue": "name 'LinearRegression' is not defined",
     "output_type": "error",
     "traceback": [
      "\u001b[1;31m---------------------------------------------------------------------------\u001b[0m",
      "\u001b[1;31mNameError\u001b[0m                                 Traceback (most recent call last)",
      "\u001b[1;32m<ipython-input-2-605512bd8806>\u001b[0m in \u001b[0;36m<module>\u001b[1;34m\u001b[0m\n\u001b[1;32m----> 1\u001b[1;33m regression1 = LinearRegression(\n\u001b[0m\u001b[0;32m      2\u001b[0m         \u001b[0mdescent\u001b[0m \u001b[1;33m=\u001b[0m \u001b[0mGradientDescent\u001b[0m\u001b[1;33m(\u001b[0m\u001b[0mlambda_\u001b[0m \u001b[1;33m=\u001b[0m \u001b[0mbest_lambda_GD\u001b[0m\u001b[1;33m,\u001b[0m \u001b[0mw0\u001b[0m \u001b[1;33m=\u001b[0m \u001b[0mw0\u001b[0m\u001b[1;33m)\u001b[0m\u001b[1;33m,\u001b[0m\u001b[1;33m\u001b[0m\u001b[1;33m\u001b[0m\u001b[0m\n\u001b[0;32m      3\u001b[0m         \u001b[0mtolerance\u001b[0m \u001b[1;33m=\u001b[0m \u001b[0mtolerance\u001b[0m\u001b[1;33m,\u001b[0m\u001b[1;33m\u001b[0m\u001b[1;33m\u001b[0m\u001b[0m\n\u001b[0;32m      4\u001b[0m         \u001b[0mmax_iter\u001b[0m \u001b[1;33m=\u001b[0m \u001b[0mmax_iter\u001b[0m\u001b[1;33m\u001b[0m\u001b[1;33m\u001b[0m\u001b[0m\n\u001b[0;32m      5\u001b[0m     )\n",
      "\u001b[1;31mNameError\u001b[0m: name 'LinearRegression' is not defined"
     ]
    }
   ],
   "source": [
    "regression1 = LinearRegression(\n",
    "        descent = GradientDescent(lambda_ = best_lambda_GD, w0 = w0),\n",
    "        tolerance = tolerance,\n",
    "        max_iter = max_iter\n",
    "    )\n",
    "\n",
    "regression2 = LinearRegression(\n",
    "        descent = StochasticDescent(lambda_ = best_lambda_SGD, w0 = w0, batch_size = 6),\n",
    "        tolerance = tolerance,\n",
    "        max_iter = max_iter\n",
    "    )\n",
    "\n",
    "regression3 = LinearRegression(\n",
    "        descent = MomentumDescent(lambda_ = best_lambda_MD, w0 = w0),\n",
    "        tolerance = tolerance,\n",
    "        max_iter = max_iter\n",
    "    )\n",
    "\n",
    "regression4 = LinearRegression(\n",
    "        descent = Adagrad(lambda_ = best_lambda_Adagrad, w0 = w0),\n",
    "        tolerance = tolerance,\n",
    "        max_iter = max_iter\n",
    "    )"
   ]
  },
  {
   "cell_type": "code",
   "execution_count": 1,
   "metadata": {},
   "outputs": [
    {
     "ename": "NameError",
     "evalue": "name 'regression1' is not defined",
     "output_type": "error",
     "traceback": [
      "\u001b[1;31m---------------------------------------------------------------------------\u001b[0m",
      "\u001b[1;31mNameError\u001b[0m                                 Traceback (most recent call last)",
      "\u001b[1;32m<ipython-input-1-ac5226af40cb>\u001b[0m in \u001b[0;36m<module>\u001b[1;34m\u001b[0m\n\u001b[1;32m----> 1\u001b[1;33m \u001b[0mregression1\u001b[0m\u001b[1;33m.\u001b[0m\u001b[0mfit\u001b[0m\u001b[1;33m(\u001b[0m\u001b[0mX_train_transformed\u001b[0m\u001b[1;33m,\u001b[0m \u001b[0my_train\u001b[0m\u001b[1;33m)\u001b[0m\u001b[1;33m\u001b[0m\u001b[1;33m\u001b[0m\u001b[0m\n\u001b[0m\u001b[0;32m      2\u001b[0m \u001b[0my_pred_GD\u001b[0m \u001b[1;33m=\u001b[0m \u001b[0mregression1\u001b[0m\u001b[1;33m.\u001b[0m\u001b[0mpredict\u001b[0m\u001b[1;33m(\u001b[0m\u001b[0mX_test_transformed\u001b[0m\u001b[1;33m)\u001b[0m\u001b[1;33m\u001b[0m\u001b[1;33m\u001b[0m\u001b[0m\n\u001b[0;32m      3\u001b[0m \u001b[0mprint\u001b[0m\u001b[1;33m(\u001b[0m\u001b[1;34m\"Test MSE GD = %.4f\"\u001b[0m \u001b[1;33m%\u001b[0m \u001b[0mmean_squared_error\u001b[0m\u001b[1;33m(\u001b[0m\u001b[0my_test\u001b[0m\u001b[1;33m,\u001b[0m \u001b[0my_pred_GD\u001b[0m\u001b[1;33m)\u001b[0m\u001b[1;33m)\u001b[0m\u001b[1;33m\u001b[0m\u001b[1;33m\u001b[0m\u001b[0m\n\u001b[0;32m      4\u001b[0m \u001b[0mprint\u001b[0m\u001b[1;33m(\u001b[0m\u001b[1;34m\"Test R2 GD = %.4f\"\u001b[0m \u001b[1;33m%\u001b[0m \u001b[0mr2_score\u001b[0m\u001b[1;33m(\u001b[0m\u001b[0my_test\u001b[0m\u001b[1;33m,\u001b[0m \u001b[0my_pred_GD\u001b[0m\u001b[1;33m)\u001b[0m\u001b[1;33m)\u001b[0m\u001b[1;33m\u001b[0m\u001b[1;33m\u001b[0m\u001b[0m\n\u001b[0;32m      5\u001b[0m \u001b[1;33m\u001b[0m\u001b[0m\n",
      "\u001b[1;31mNameError\u001b[0m: name 'regression1' is not defined"
     ]
    }
   ],
   "source": [
    "regression1.fit(X_train_transformed, y_train)\n",
    "y_pred_GD = regression1.predict(X_test_transformed)\n",
    "print(\"Test MSE GD = %.4f\" % mean_squared_error(y_test, y_pred_GD))\n",
    "print(\"Test R2 GD = %.4f\" % r2_score(y_test, y_pred_GD))\n",
    "\n",
    "regression2.fit(np.array(X_train_transformed), np.array(y_train))\n",
    "y_pred_SGD = regression2.predict(np.array(X_test_transformed))\n",
    "print(\"Test MSE SGD = %.4f\" % mean_squared_error(y_test, y_pred_SGD))\n",
    "print(\"Test R2 SGD = %.4f\" % r2_score(y_test, y_pred_SGD))\n",
    "\n",
    "regression3.fit(X_train_transformed, y_train)\n",
    "y_pred_MD = regression3.predict(X_test_transformed)\n",
    "print(\"Test MSE Momentum Descent = %.4f\" % mean_squared_error(y_test, y_pred_MD))\n",
    "print(\"Test R2 Momentum Descent = %.4f\" % r2_score(y_test, y_pred_MD))\n",
    "\n",
    "regression4.fit(X_train_transformed, y_train)\n",
    "y_pred_Ad = regression4.predict(X_test_transformed)\n",
    "print(\"Test MSE Adagrad = %.4f\" % mean_squared_error(y_test, y_pred_Ad))\n",
    "print(\"Test R2 Adagrad = %.4f\" % r2_score(y_test, y_pred_Ad))"
   ]
  },
  {
   "cell_type": "code",
   "execution_count": 36,
   "metadata": {},
   "outputs": [
    {
     "data": {
      "text/plain": [
       "<AxesSubplot:>"
      ]
     },
     "execution_count": 36,
     "metadata": {},
     "output_type": "execute_result"
    },
    {
     "data": {
      "image/png": "[encoded data removed]",
      "text/plain": [
       "<Figure size 432x288 with 1 Axes>"
      ]
     },
     "metadata": {
      "needs_background": "light"
     },
     "output_type": "display_data"
    }
   ],
   "source": [
    "# значение функции ошибки от номера итерации (все 4 на одном графике)\n",
    "test = {\"GD\" : regression1.loss_history,\n",
    "        \"SGD\" : regression2.loss_history,\n",
    "        \"MD\" : regression3.loss_history,\n",
    "        \"AD\" : regression4.loss_history}\n",
    "\n",
    "sns.lineplot(data = test)"
   ]
  },
  {
   "cell_type": "code",
   "execution_count": 37,
   "metadata": {},
   "outputs": [
    {
     "data": {
      "text/plain": [
       "<seaborn.axisgrid.FacetGrid at 0x1775315bd60>"
      ]
     },
     "execution_count": 37,
     "metadata": {},
     "output_type": "execute_result"
    },
    {
     "data": {
      "image/png": "[encoded data removed]",
      "text/plain": [
       "<Figure size 360x360 with 1 Axes>"
      ]
     },
     "metadata": {
      "needs_background": "light"
     },
     "output_type": "display_data"
    }
   ],
   "source": [
    "GD_test = pd.DataFrame({\"test_values\" : y_test,\n",
    "                       \"pred_values\" : y_pred_GD})\n",
    "sns.catplot(data = GD_test)"
   ]
  },
  {
   "cell_type": "markdown",
   "metadata": {},
   "source": [
    "## Задание 6. Сходимость стохастического градиентного спуска в зависимости от размера батча (1 балл)"
   ]
  },
  {
   "cell_type": "markdown",
   "metadata": {},
   "source": [
    "В этом задании вам предстоит исследовать влияние размера батча на работу стохастического градиентного спуска. \n",
    "\n",
    "* Сделайте по несколько запусков (например, k) стохастического градиентного спуска на обучающей выборке для каждого размера батча из списка. Замерьте время и количество итераций до сходимости. Посчитайте среднее и дисперсию этих значений для каждого размера батча.\n",
    "* Постройте график зависимости количества шагов до сходимости от размера батча.\n",
    "* Постройте график зависимости времени до сходимости от размера батча.\n",
    "\n",
    "Посмотрите на получившиеся результаты. Какие выводы можно сделать про подбор размера батча для стохастического градиентного спуска?"
   ]
  },
  {
   "cell_type": "code",
   "execution_count": 38,
   "metadata": {},
   "outputs": [
    {
     "name": "stdout",
     "output_type": "stream",
     "text": [
      "current predict:  [ 4.6400277  15.3337378  -9.26119689 ... -8.28606077 -7.5007881\n",
      "  3.78698021]\n",
      "current predict:  [  3.29117915  15.16835531 -11.46646271 ...  -9.99487559 -10.93376336\n",
      "   3.43113902]\n",
      "current predict:  [  2.69528315  14.3721261  -11.66642041 ...  -9.97302098 -11.71763296\n",
      "   3.34379657]\n",
      "current predict:  [  2.44221523  15.0063961  -12.32361037 ... -10.89049156 -12.52662106\n",
      "   2.91080954]\n",
      "current predict:  [  2.78328195  15.64155276 -11.38769712 ... -10.33410223 -11.99422785\n",
      "   3.1515749 ]\n",
      "current predict:  [  1.83366469  14.09032066 -11.34649186 ... -10.47527448 -12.08156303\n",
      "   2.16442782]\n",
      "current predict:  [  2.15443016  13.72547122  -9.98952044 ...  -9.31530231 -10.78227279\n",
      "   2.40251606]\n",
      "current predict:  [  2.16989086  13.51546093  -9.54716493 ...  -8.81844596 -10.65418943\n",
      "   2.64731744]\n",
      "current predict:  [ 2.32487135 12.22043691 -8.19814434 ... -7.01925985 -9.7103723\n",
      "  3.47324037]\n",
      "current predict:  [ 2.59661853  9.17602172 -4.23254883 ... -3.16843557 -5.89177479\n",
      "  3.94099871]\n",
      "current predict:  [ 1.93873613  7.25275319 -3.30083695 ... -2.24496974 -5.28134932\n",
      "  3.53122937]\n",
      "current predict:  [ 1.89950667  6.89716364 -3.08795528 ... -1.89137995 -5.21722037\n",
      "  3.70524824]\n",
      "current predict:  [ 2.10034107  6.76332164 -2.48610569 ... -1.49555135 -4.34233035\n",
      "  3.61348819]\n",
      "current predict:  [ 1.79784524  5.93520401 -2.0401706  ... -0.9059535  -4.37325439\n",
      "  3.71904229]\n",
      "current predict:  [ 1.50350657  4.88018216 -1.53637422 ... -0.5070737  -3.71729659\n",
      "  3.30539795]\n",
      "current predict:  [ 1.70116214  4.52540978 -0.32422795 ...  0.2310141  -2.23830388\n",
      "  3.01378209]\n",
      "current predict:  [ 1.87347978  4.90833407 -0.37250016 ...  0.0792307  -2.11080942\n",
      "  2.9943399 ]\n",
      "current predict:  [1.90879127 2.18454051 3.291328   ... 2.51172724 2.66452986 1.61278223]\n",
      "current predict:  [1.59652351 1.19780952 3.48345878 ... 3.21002569 2.23788799 2.08441416]\n",
      "current predict:  [1.42834696 1.57355566 3.15647683 ... 2.68479465 1.77957785 1.7960264 ]\n"
     ]
    },
    {
     "ename": "AttributeError",
     "evalue": "'LinearRegression' object has no attribute 'amount_of_steps'",
     "output_type": "error",
     "traceback": [
      "\u001b[1;31m---------------------------------------------------------------------------\u001b[0m",
      "\u001b[1;31mAttributeError\u001b[0m                            Traceback (most recent call last)",
      "\u001b[1;32m<ipython-input-38-e9701fc40896>\u001b[0m in \u001b[0;36m<module>\u001b[1;34m\u001b[0m\n\u001b[0;32m     22\u001b[0m         \u001b[0mt1\u001b[0m \u001b[1;33m=\u001b[0m \u001b[0mtime\u001b[0m\u001b[1;33m.\u001b[0m\u001b[0mtime\u001b[0m\u001b[1;33m(\u001b[0m\u001b[1;33m)\u001b[0m\u001b[1;33m\u001b[0m\u001b[1;33m\u001b[0m\u001b[0m\n\u001b[0;32m     23\u001b[0m         \u001b[0mtimes\u001b[0m\u001b[1;33m.\u001b[0m\u001b[0mappend\u001b[0m\u001b[1;33m(\u001b[0m\u001b[0mt1\u001b[0m \u001b[1;33m-\u001b[0m \u001b[0mt0\u001b[0m\u001b[1;33m)\u001b[0m\u001b[1;33m\u001b[0m\u001b[1;33m\u001b[0m\u001b[0m\n\u001b[1;32m---> 24\u001b[1;33m         \u001b[0miterations\u001b[0m\u001b[1;33m.\u001b[0m\u001b[0mappend\u001b[0m\u001b[1;33m(\u001b[0m\u001b[0mregression\u001b[0m\u001b[1;33m.\u001b[0m\u001b[0mamount_of_steps\u001b[0m\u001b[1;33m)\u001b[0m\u001b[1;33m\u001b[0m\u001b[1;33m\u001b[0m\u001b[0m\n\u001b[0m\u001b[0;32m     25\u001b[0m     \u001b[0msize_time_mean\u001b[0m\u001b[1;33m[\u001b[0m\u001b[0mbatch_size\u001b[0m\u001b[1;33m]\u001b[0m \u001b[1;33m=\u001b[0m \u001b[0mnp\u001b[0m\u001b[1;33m.\u001b[0m\u001b[0mmean\u001b[0m\u001b[1;33m(\u001b[0m\u001b[0mtimes\u001b[0m\u001b[1;33m)\u001b[0m\u001b[1;33m\u001b[0m\u001b[1;33m\u001b[0m\u001b[0m\n\u001b[0;32m     26\u001b[0m     \u001b[0msize_iter_mean\u001b[0m\u001b[1;33m[\u001b[0m\u001b[0mbatch_size\u001b[0m\u001b[1;33m]\u001b[0m \u001b[1;33m=\u001b[0m \u001b[0mnp\u001b[0m\u001b[1;33m.\u001b[0m\u001b[0mmean\u001b[0m\u001b[1;33m(\u001b[0m\u001b[0miterations\u001b[0m\u001b[1;33m)\u001b[0m\u001b[1;33m\u001b[0m\u001b[1;33m\u001b[0m\u001b[0m\n",
      "\u001b[1;31mAttributeError\u001b[0m: 'LinearRegression' object has no attribute 'amount_of_steps'"
     ]
    }
   ],
   "source": [
    "import time\n",
    "batch_sizes = np.arange(5, 500, 10)\n",
    "\n",
    "# YOUR CODE:\n",
    "size_time_mean = {}\n",
    "size_iter_mean = {}\n",
    "size_time_var = {}\n",
    "size_iter_var = {}\n",
    "k = 5\n",
    "\n",
    "for batch_size in batch_sizes:\n",
    "    times = []\n",
    "    iterations = []\n",
    "    regression = LinearRegression(\n",
    "            descent = StochasticDescent(lambda_ = best_lambda_SGD, w0 = w0, batch_size = batch_size),\n",
    "            tolerance = 0.0005,\n",
    "            max_iter = 20\n",
    "        )\n",
    "    for i in range(k):\n",
    "        t0 = time.time()\n",
    "        regression.fit(np.array(X_train_transformed), np.array(y_train))\n",
    "        t1 = time.time()\n",
    "        times.append(t1 - t0)\n",
    "        iterations.append(regression.amount_of_steps)\n",
    "    size_time_mean[batch_size] = np.mean(times)\n",
    "    size_iter_mean[batch_size] = np.mean(iterations)\n",
    "    size_time_var[batch_size] = np.var(times)\n",
    "    size_iter_var[batch_size] = np.var(iterations)\n"
   ]
  },
  {
   "cell_type": "code",
   "execution_count": null,
   "metadata": {},
   "outputs": [],
   "source": [
    "sns.lineplot(data = size_iter_mean)"
   ]
  },
  {
   "cell_type": "code",
   "execution_count": null,
   "metadata": {},
   "outputs": [],
   "source": [
    "sns.lineplot(data = size_time_mean)"
   ]
  },
  {
   "cell_type": "markdown",
   "metadata": {},
   "source": [
    "## Задание 7. Регуляризация (1 балл)"
   ]
  },
  {
   "cell_type": "markdown",
   "metadata": {},
   "source": [
    "В этом задании вам предстоит исследовать влияние регуляризации на работу различных методов градиентного спуска. (Напомним, регуляризация - это добавка к функции потерь, которая штрафует за норму весов). Мы будем использовать l2 регуляризацию, таким образом функция потерь приобретает следующий вид:\n",
    "\n",
    "$$\n",
    "    Q(w) = \\dfrac{1}{\\ell} \\sum\\limits_{i=1}^{\\ell} (a_w(x_i) - y_i)^2 + \\dfrac{\\mu}{2} \\| w \\|^2\n",
    "$$"
   ]
  },
  {
   "cell_type": "markdown",
   "metadata": {},
   "source": [
    "Допишите классы **GradientDescentReg**, **StochasticDescentReg**, **MomentumDescentReg**, **AdagradReg** в файле `utils.py`. Мы будем использовать тот же самый класс для линейной регрессии, так как для сравнения методов с регуляризацией и без неё нам нужна только MSE часть функции потерь."
   ]
  },
  {
   "cell_type": "markdown",
   "metadata": {},
   "source": [
    "Найдите по валидационной выборке лучшие параметры обучения с регуляризацией. Сравните для каждого метода результаты на тестовой выборке по метрикам MSE и R^2 с регуляризацией и без регуляризации. Постройте для каждого метода график со значениями функции потерь MSE с регуляризацией и без регуляризации."
   ]
  },
  {
   "cell_type": "markdown",
   "metadata": {},
   "source": [
    "Посмотрите на получившиеся результаты. Какие можно сделать выводы, как регуляризация влияет на сходимость? Чем вы можете объяснить это?"
   ]
  },
  {
   "cell_type": "code",
   "execution_count": null,
   "metadata": {},
   "outputs": [],
   "source": [
    "%autoreload 2\n",
    "\n",
    "from utils import (\n",
    "    AdagradReg,\n",
    "    GradientDescentReg,\n",
    "    MomentumDescentReg,\n",
    "    StochasticDescentReg,\n",
    ")\n",
    "\n",
    "# YOUR CODE:"
   ]
  },
  {
   "cell_type": "code",
   "execution_count": null,
   "metadata": {},
   "outputs": [],
   "source": [
    "mues = np.logspace(-2, 3, 20)\n",
    "\n",
    "best_mu_GDR = 10000\n",
    "best_MSE = 6e6\n",
    "\n",
    "for mu_ in mues:\n",
    "    regression5 = LinearRegression(\n",
    "        descent = GradientDescentReg(lambda_ = best_lambda_GD, w0 = w0, mu = mu_),\n",
    "        tolerance = tolerance,\n",
    "        max_iter = max_iter\n",
    "    )\n",
    "    regression5.fit(X_val_transformed, y_val)\n",
    "    #print(regression5.loss_history)\n",
    "    if regression5.loss_history[-1] < best_MSE:\n",
    "        best_mu_GDR = mu_\n",
    "        best_MSE = regression5.loss_history[-1]\n",
    "    else:\n",
    "        break\n",
    "print(\"Best GDR's MSE: %.4f\" % best_MSE)\n",
    "print(\"Best GDR's lambda : %.4f\" % best_mu_GDR)"
   ]
  },
  {
   "cell_type": "code",
   "execution_count": null,
   "metadata": {},
   "outputs": [],
   "source": [
    "best_mu_SGDR = 10000\n",
    "best_MSE = 6e6\n",
    "\n",
    "for mu_ in mues:\n",
    "    regression6 = LinearRegression(\n",
    "        descent = StochasticDescentReg(lambda_ = best_lambda_SGD, w0 = w0, batch_size = 50, mu = mu_),\n",
    "        tolerance = tolerance,\n",
    "        max_iter = max_iter\n",
    "    )\n",
    "    regression6.fit(np.array(X_val_transformed), np.array(y_val))\n",
    "    #print(regression6.loss_history)\n",
    "    if regression6.loss_history[-1] < best_MSE:\n",
    "        best_mu_SGDR = mu_\n",
    "        best_MSE = regression6.loss_history[-1]\n",
    "    else:\n",
    "        break\n",
    "print(\"Best SGDR's MSE: %.4f\" % best_MSE)\n",
    "print(\"Best SGDR's mu : %.4f\" % best_mu_SGDR)"
   ]
  },
  {
   "cell_type": "code",
   "execution_count": null,
   "metadata": {},
   "outputs": [],
   "source": [
    "best_mu_MDR = 10000\n",
    "best_MSE = 6e6\n",
    "\n",
    "for mu_ in mues:\n",
    "    regression7 = LinearRegression(\n",
    "        descent = MomentumDescentReg(lambda_ = best_lambda_MD, w0 = w0, mu = mu_),\n",
    "        tolerance = tolerance,\n",
    "        max_iter = max_iter\n",
    "    )\n",
    "    regression7.fit(np.array(X_val_transformed), np.array(y_val))\n",
    "    #print(regression7.loss_history)\n",
    "    if regression7.loss_history[-1] < best_MSE:\n",
    "        best_mu_MDR = mu_\n",
    "        best_MSE = regression7.loss_history[-1]\n",
    "    else:\n",
    "        break\n",
    "print(\"Best MDR's MSE: %.4f\" % best_MSE)\n",
    "print(\"Best MDR's mu : %.4f\" % best_mu_MDR)"
   ]
  },
  {
   "cell_type": "code",
   "execution_count": null,
   "metadata": {},
   "outputs": [],
   "source": [
    "best_mu_AdR = 10000\n",
    "best_MSE = 6e6\n",
    "\n",
    "for mu_ in mues:\n",
    "    regression8 = LinearRegression(\n",
    "        descent = AdagradReg(lambda_ = best_lambda_Adagrad, w0 = w0, mu = mu_),\n",
    "        tolerance = tolerance,\n",
    "        max_iter = max_iter\n",
    "    )\n",
    "    regression8.fit(np.array(X_val_transformed), np.array(y_val))\n",
    "    #print(regression8.loss_history)\n",
    "    if regression8.loss_history[-1] < best_MSE:\n",
    "        best_mu_AdR = mu_\n",
    "        best_MSE = regression8.loss_history[-1]\n",
    "    else:\n",
    "        break\n",
    "print(\"Best AdR's MSE: %.4f\" % best_MSE)\n",
    "print(\"Best AdR's mu : %.4f\" % best_mu_AdR)"
   ]
  },
  {
   "cell_type": "code",
   "execution_count": null,
   "metadata": {},
   "outputs": [],
   "source": [
    "regression5 = LinearRegression(\n",
    "        descent = GradientDescentReg(lambda_ = best_lambda_GD, w0 = w0, mu = best_mu_GDR),\n",
    "        tolerance = tolerance,\n",
    "        max_iter = max_iter\n",
    "    )\n",
    "\n",
    "regression6 = LinearRegression(\n",
    "        descent = StochasticDescentReg(lambda_ = best_lambda_SGD, w0 = w0, batch_size = 50, mu = best_mu_SGDR),\n",
    "        tolerance = tolerance,\n",
    "        max_iter = max_iter\n",
    "    )\n",
    "\n",
    "regression7 = LinearRegression(\n",
    "        descent = MomentumDescentReg(lambda_ = best_lambda_MD, w0 = w0, mu = best_mu_MDR),\n",
    "        tolerance = tolerance,\n",
    "        max_iter = max_iter\n",
    "    )\n",
    "\n",
    "regression8 = LinearRegression(\n",
    "        descent = AdagradReg(lambda_ = best_lambda_Adagrad, w0 = w0, mu = best_mu_AdR),\n",
    "        tolerance = tolerance,\n",
    "        max_iter = max_iter\n",
    "    )"
   ]
  },
  {
   "cell_type": "code",
   "execution_count": null,
   "metadata": {},
   "outputs": [],
   "source": [
    "from sklearn.linear_model import Ridge\n",
    "from sklearn.linear_model import Lasso\n",
    "from sklearn.linear_model import LinearRegression\n",
    "from sklearn.linear_model import SGDRegressor\n",
    "from sklearn.pipeline import Pipeline\n",
    "\n",
    "SKL_LM = LinearRegression()\n",
    "SKL_LM.fit(X_train_transformed, y_train)\n",
    "y_skpred = SKL_LM.predict(X_test_transformed)\n",
    "print(\"Test MSE GDR from sklearn = %.4f\" % mean_squared_error(y_test, y_skpred))"
   ]
  },
  {
   "cell_type": "code",
   "execution_count": null,
   "metadata": {},
   "outputs": [],
   "source": [
    "regression5.fit(X_train_transformed, y_train)\n",
    "y_pred_GDR = regression5.predict(X_test_transformed)\n",
    "print(\"Test MSE GDR = %.4f\" % mean_squared_error(y_test, y_pred_GDR))\n",
    "print(\"Test R2 GDR = %.4f\" % r2_score(y_test, y_pred_GDR))\n",
    "\n",
    "regression6.fit(np.array(X_train_transformed), np.array(y_train))\n",
    "y_pred_SGDR = regression6.predict(np.array(X_test_transformed))\n",
    "print(\"Test MSE SGDR = %.4f\" % mean_squared_error(y_test, y_pred_SGDR))\n",
    "print(\"Test R2 SGDR = %.4f\" % r2_score(y_test, y_pred_SGDR))\n",
    "\n",
    "regression7.fit(X_train_transformed, y_train)\n",
    "y_pred_MDR = regression7.predict(X_test_transformed)\n",
    "print(\"Test MSE MDR = %.4f\" % mean_squared_error(y_test, y_pred_MDR))\n",
    "print(\"Test R2 MDR = %.4f\" % r2_score(y_test, y_pred_MDR))\n",
    "\n",
    "regression8.fit(X_train_transformed, y_train)\n",
    "y_pred_AdR = regression8.predict(X_test_transformed)\n",
    "print(\"Test MSE AdR = %.4f\" % mean_squared_error(y_test, y_pred_AdR))\n",
    "print(\"Test R2 AdR = %.4f\" % r2_score(y_test, y_pred_AdR))"
   ]
  },
  {
   "cell_type": "code",
   "execution_count": null,
   "metadata": {},
   "outputs": [],
   "source": [
    "plt.figure(figsize=(16, 10), dpi= 80, facecolor='w', edgecolor='k')\n",
    "\n",
    "test1 = pd.DataFrame({\"GD\" : np.around(regression1.loss_history, decimals = 4),\n",
    "        \"GDR\" : np.around(regression5.loss_history, decimals = 4)})\n",
    "test2 = pd.DataFrame({\"SGD\" : np.around(regression2.loss_history, decimals = 4),\n",
    "        \"SGDR\" : np.around(regression6.loss_history, decimals = 4)})\n",
    "test3 = pd.DataFrame({\"MD\" : np.around(regression3.loss_history, decimals = 4),\n",
    "        \"MDR\" : np.around(regression7.loss_history, decimals = 4)})\n",
    "test4 = pd.DataFrame({\"Ad\" : np.around(regression4.loss_history, decimals = 4),\n",
    "        \"AdR\" : np.around(regression8.loss_history, decimals = 4)})"
   ]
  },
  {
   "cell_type": "code",
   "execution_count": null,
   "metadata": {},
   "outputs": [],
   "source": [
    "plt.figure(figsize=(16, 10), dpi= 80, facecolor='w', edgecolor='k')\n",
    "fig, ax = plt.subplots(1, 4)\n",
    "sns.stripplot(data = test1, ax = ax[0])\n",
    "sns.stripplot(data = test2, ax = ax[1])\n",
    "sns.stripplot(data = test3, ax = ax[2])\n",
    "sns.stripplot(data = test4, ax = ax[3])\n",
    "fig.show()"
   ]
  },
  {
   "cell_type": "markdown",
   "metadata": {},
   "source": [
    "## Задание 8. Бонус — Реализация метода SAG (2 балла)"
   ]
  },
  {
   "cell_type": "markdown",
   "metadata": {},
   "source": [
    "В качестве бонуса вам будет следующее задание - напишите собственную реализацию стохастического градиентного спуска по методу SAG в файле `utils.py`. Подробнее прочитать про SAG можно [здесь](https://arxiv.org/pdf/1309.2388.pdf)."
   ]
  },
  {
   "cell_type": "markdown",
   "metadata": {},
   "source": [
    "Сравните свою реализацию метода SAG с обычным полным градиентным спуском на наших данных. Проведите сравнение аналогично заданию 5. Что вы можете сказать про сходимость этого метода?"
   ]
  },
  {
   "cell_type": "code",
   "execution_count": null,
   "metadata": {},
   "outputs": [],
   "source": [
    "# YOUR CODE:"
   ]
  },
  {
   "cell_type": "markdown",
   "metadata": {},
   "source": [
    "Вставьте картинку или видео, описывающие ваш опыт выполнения этого задания."
   ]
  },
  {
   "cell_type": "code",
   "execution_count": null,
   "metadata": {},
   "outputs": [],
   "source": []
  }
 ],
 "metadata": {
  "kernelspec": {
   "display_name": "Python 3",
   "language": "python",
   "name": "python3"
  },
  "language_info": {
   "codemirror_mode": {
    "name": "ipython",
    "version": 3
   },
   "file_extension": ".py",
   "mimetype": "text/x-python",
   "name": "python",
   "nbconvert_exporter": "python",
   "pygments_lexer": "ipython3",
   "version": "3.8.5"
  }
 },
 "nbformat": 4,
 "nbformat_minor": 4
}
