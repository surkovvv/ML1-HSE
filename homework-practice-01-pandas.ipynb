{
 "cells": [
  {
   "cell_type": "markdown",
   "metadata": {},
   "source": [
    "## Машинное обучение 1, ПМИ ФКН ВШЭ\n",
    "\n",
    "## Практическое домашнее задание 1\n",
    "\n",
    "### Общая информация\n",
    "\n",
    "Дата выдачи: 11.09.2020\n",
    "\n",
    "Мягкий дедлайн: 04:59MSK 21.09.2020 (но лучше сдайте пораньше и успейте выспаться)\n",
    "\n",
    "Жесткий дедлайн: 23:59MSK 24.09.2020"
   ]
  },
  {
   "cell_type": "markdown",
   "metadata": {},
   "source": [
    "### О задании\n",
    "\n",
    "Задание состоит из двух разделов, посвященных работе с табличными данными с помощью библиотеки pandas и визуализации с помощью matplotlib. В первом разделе вам предстоит выполнить базовые задания с помощью вышеуказанных библиотек, а во втором распределить студентов по курсам. Баллы даются за выполнение отдельных пунктов. Задачи в рамках одного раздела рекомендуется решать в том порядке, в котором они даны в задании.\n",
    "\n",
    "Задание направлено на освоение jupyter notebook (будет использоваться в дальнейших заданиях), библиотек pandas и matplotlib.\n",
    "\n",
    "### Оценивание и штрафы\n",
    "Каждая из задач имеет определенную «стоимость» (указана в скобках около задачи). Максимально допустимая оценка за работу — 10 баллов.\n",
    "\n",
    "Сдавать задание после жёсткого дедлайна нельзя. При выставлении неполного балла за задание в связи с наличием ошибок на усмотрение проверяющего предусмотрена возможность исправить работу на указанных в ответном письме условиях.\n",
    "\n",
    "Задание выполняется самостоятельно. «Похожие» решения считаются плагиатом и все задействованные студенты (в том числе те, у кого списали) не могут получить за него больше 0 баллов (подробнее о плагиате см. на странице курса). Если вы нашли решение какого-то из заданий (или его часть) в открытом источнике, необходимо указать ссылку на этот источник (скорее всего вы будете не единственным, кто это нашел, поэтому чтобы исключить подозрение в плагиате, необходима ссылка на источник).\n",
    "\n",
    "### Формат сдачи\n",
    "Задания сдаются через систему Anytask. Инвайт можно получить у семинариста или ассистента. Присылать необходимо ноутбук с выполненным заданием. Сам ноутбук называйте в формате homework-practice-01-pandas-Username.ipynb, где Username — ваша фамилия.\n",
    "\n",
    "Для удобства проверки самостоятельно посчитайте свою максимальную оценку (исходя из набора решенных задач) и укажите ниже.\n",
    "\n",
    "Оценка: xx."
   ]
  },
  {
   "cell_type": "markdown",
   "metadata": {},
   "source": [
    "## 0. Введение"
   ]
  },
  {
   "cell_type": "markdown",
   "metadata": {},
   "source": [
    "Сейчас мы находимся в jupyter-ноутбуке (или ipython-ноутбуке). Это удобная среда для написания кода, проведения экспериментов, изучения данных, построения визуализаций и других нужд, не связанных с написанием production-кода. \n",
    "\n",
    "Ноутбук состоит из ячеек, каждая из которых может быть либо ячейкой с кодом, либо ячейкой с текстом размеченным и неразмеченным. Текст поддерживает markdown-разметку и формулы в Latex.\n",
    "\n",
    "Для работы с содержимым ячейки используется *режим редактирования* (*Edit mode*, включается нажатием клавиши **Enter** после выбора ячейки), а для навигации между ячейками искользуется *командный режим* (*Command mode*, включается нажатием клавиши **Esc**). Тип ячейки можно задать в командном режиме либо с помощью горячих клавиш (**y** to code, **m** to markdown, **r** to edit raw text), либо в меню *Cell -> Cell type*. \n",
    "\n",
    "После заполнения ячейки нужно нажать *Shift + Enter*, эта команда обработает содержимое ячейки: проинтерпретирует код или сверстает размеченный текст."
   ]
  },
  {
   "cell_type": "code",
   "execution_count": 1,
   "metadata": {},
   "outputs": [
    {
     "data": {
      "text/plain": [
       "4"
      ]
     },
     "execution_count": 1,
     "metadata": {},
     "output_type": "execute_result"
    }
   ],
   "source": [
    "# ячейка с кодом, при выполнении которой появится output\n",
    "2 + 2"
   ]
  },
  {
   "cell_type": "markdown",
   "metadata": {},
   "source": [
    "Ячейка с неразмеченыным текстом."
   ]
  },
  {
   "cell_type": "markdown",
   "metadata": {},
   "source": [
    "Попробуйте создать свои ячейки, написать какой-нибудь код и текст какой-нибудь формулой."
   ]
  },
  {
   "cell_type": "code",
   "execution_count": 2,
   "metadata": {},
   "outputs": [
    {
     "name": "stdout",
     "output_type": "stream",
     "text": [
      "\u001b[1m __        _______      .___  ___.  __       __   __  \n",
      "|  |      /  /___ \\     |   \\/   | |  |     /_ | |  | \n",
      "|  |     /  /  __) |    |  \\  /  | |  |      | | |  | \n",
      "|  |    <  <  |__ <     |  |\\/|  | |  |      | | |  | \n",
      "|  |     \\  \\ ___) |    |  |  |  | |  `----. | | |__| \n",
      "|__|      \\__\\____/     |__|  |__| |_______| |_| (__) \n",
      "                                                      \n",
      "\u001b[0m\n"
     ]
    }
   ],
   "source": [
    "import sys\n",
    "\n",
    "from termcolor import cprint \n",
    "from pyfiglet import figlet_format\n",
    "\n",
    "cprint(figlet_format('I <3 ML1!', font='starwars'), attrs=['bold'])"
   ]
  },
  {
   "cell_type": "code",
   "execution_count": 3,
   "metadata": {},
   "outputs": [],
   "source": [
    "def kek():\n",
    "    print('kek')"
   ]
  },
  {
   "cell_type": "code",
   "execution_count": 4,
   "metadata": {},
   "outputs": [
    {
     "name": "stdout",
     "output_type": "stream",
     "text": [
      "kek\n"
     ]
    }
   ],
   "source": [
    "kek()"
   ]
  },
  {
   "cell_type": "markdown",
   "metadata": {},
   "source": [
    "[Здесь](https://athena.brynmawr.edu/jupyter/hub/dblank/public/Jupyter%20Notebook%20Users%20Manual.ipynb) находится <s>не</s>большая заметка о используемом языке разметки Markdown. Он позволяет:\n",
    "\n",
    "0. Составлять упорядоченные списки\n",
    "1. Выделять *текст* <s>при</s> **необходимости**\n",
    "2. Добавлять [ссылки](http://imgs.xkcd.com/comics/the_universal_label.png)\n",
    "\n",
    "\n",
    "* Составлять неупорядоченные списки\n",
    "\n",
    "Делать вставки с помощью LaTex:\n",
    "    \n",
    "$\n",
    "\\left\\{\n",
    "\\begin{array}{ll}\n",
    "x = 16 \\sin^3 (t) \\\\ \n",
    "y = 13 \\cos (t) - 5 \\cos (2t) - 2 \\cos (3t) - \\cos (4t) \\\\\n",
    "t \\in [0, 2 \\pi]\n",
    "\\end{array}\n",
    "\\right.$"
   ]
  },
  {
   "cell_type": "markdown",
   "metadata": {},
   "source": [
    "А ещё можно вставлять картинки, или гифки, или что захотите:\n",
    "\n",
    "<img src=\"https://media1.tenor.com/images/9b8fbe9214504bcf6c60fe4e4f7e114e/tenor.gif?itemid=5416416\" style=\"width: 400px\">"
   ]
  },
  {
   "cell_type": "markdown",
   "metadata": {},
   "source": [
    "### Google Colab"
   ]
  },
  {
   "cell_type": "markdown",
   "metadata": {},
   "source": [
    "Что за колаб? \n",
    "\n",
    "**Google Colab (Colaboratory)** это **Jupyter Notebook + Cloud + Google Drive.**\n",
    "\n",
    "Компания Google предоставляет возможность бесплатно запускать ноутбуки (предварительно загрузив их на свой гугл-диск) прямо в облаке. При этом вам не требуется установка никаких пакетов на свою машину, а работать можно прямиком из браузера. Вот ссылка:"
   ]
  },
  {
   "cell_type": "markdown",
   "metadata": {},
   "source": [
    "https://colab.research.google.com"
   ]
  },
  {
   "cell_type": "markdown",
   "metadata": {},
   "source": [
    "При использовании вы увидете много сходств с jupyter ноутбуком. Одним из преимуществ является доступность GPU, соответствующую опцию можно активировать в настройках сервиса. При желании вы сможете найти в интернете много туториалов по использованию или разобраться самостоятельно =)"
   ]
  },
  {
   "cell_type": "markdown",
   "metadata": {},
   "source": [
    "## 1. Табличные данные и Pandas"
   ]
  },
  {
   "cell_type": "markdown",
   "metadata": {},
   "source": [
    "Pandas — удобная библиотека для работы с табличными данными в Python, если данных не слишком много и они помещаются в оперативную память вашего компьютера. Несмотря на неэффективность реализации и некоторые проблемы, библиотека стала стандартом в анализе данных.\n",
    "\n",
    "Основной объект в pandas — это DataFrame, представляющий собой таблицу с именованными колонками различных типов, индексом (может быть многоуровневым). DataFrame можно создавать, считывая таблицу из файла или задавая вручную из других объектов.\n",
    "\n",
    "В этой части потребуется выполнить несколько небольших заданий. Можно пойти двумя путями: сначала изучить материалы, а потом приступить к заданиям, или же разбираться \"по ходу\". Выбирайте сами.\n",
    "\n",
    "Материалы:\n",
    "1. [Pandas за 10 минут из официального руководства](http://pandas.pydata.org/pandas-docs/stable/10min.html)\n",
    "2. [Документация](http://pandas.pydata.org/pandas-docs/stable/index.html) (стоит обращаться, если не понятно, как вызывать конкретный метод)\n",
    "3. [Примеры использования функционала](http://nbviewer.jupyter.org/github/justmarkham/pandas-videos/blob/master/pandas.ipynb)\n",
    "\n",
    "Многие из заданий можно выполнить несколькими способами. Не существуют единственно верного, но попробуйте максимально задействовать арсенал pandas и ориентируйтесь на простоту и понятность вашего кода. Мы не будем подсказывать, что нужно использовать для решения конкретной задачи, попробуйте находить необходимый функционал сами (название метода чаще всего очевидно). В помощь вам документация, поиск и stackoverflow."
   ]
  },
  {
   "cell_type": "code",
   "execution_count": 5,
   "metadata": {},
   "outputs": [
    {
     "name": "stdout",
     "output_type": "stream",
     "text": [
      "Populating the interactive namespace from numpy and matplotlib\n"
     ]
    }
   ],
   "source": [
    "%pylab inline  \n",
    "import pandas as pd"
   ]
  },
  {
   "cell_type": "markdown",
   "metadata": {},
   "source": [
    "Скачаем данные:"
   ]
  },
  {
   "cell_type": "code",
   "execution_count": 6,
   "metadata": {},
   "outputs": [],
   "source": [
    "# !wget  -O 'end_seminar.xlsx' -q 'https://www.dropbox.com/s/f4rm8sjc3v99p0m/_end_seminar.xlsx?dl=0'"
   ]
  },
  {
   "cell_type": "markdown",
   "metadata": {},
   "source": [
    "Для пользователей Windows: скачайте файл самостоятельно и поместите его в папку с тетрадкой. Или попробуйте один из следующих вариантов:"
   ]
  },
  {
   "cell_type": "markdown",
   "metadata": {},
   "source": [
    "##### В первой части задания (до раздела \"Распределение студентов по курсам\") использование циклов запрещается и повлечет за собой снижение оценки"
   ]
  },
  {
   "cell_type": "markdown",
   "metadata": {},
   "source": [
    "Для каждой задачи из этого раздела вы должны написать код для получения ответа, а также дать текстовый ответ, если он предполагается.\n",
    "\n",
    "На некоторые вопросы вы можете получить путём пристального взгляда на таблицу, но это не будет засчитываться. Вы в любом случае должны получить ответ с помощью кода."
   ]
  },
  {
   "cell_type": "markdown",
   "metadata": {},
   "source": [
    "#### 1. [0 баллов] Откройте файл с таблицей (не забудьте про её формат). Выведите последние 10 строк.\n",
    "\n",
    "Посмотрите на данные и скажите, что они из себя представляют, сколько в таблице строк, какие столбцы? (на это не надо отвечать, просто подумайте об этом)"
   ]
  },
  {
   "cell_type": "code",
   "execution_count": 8,
   "metadata": {},
   "outputs": [],
   "source": [
    "data = pd.read_excel('end_seminar.xlsx')"
   ]
  },
  {
   "cell_type": "code",
   "execution_count": 9,
   "metadata": {},
   "outputs": [
    {
     "data": {
      "text/plain": [
       "(361, 16)"
      ]
     },
     "execution_count": 9,
     "metadata": {},
     "output_type": "execute_result"
    }
   ],
   "source": [
    "data.shape"
   ]
  },
  {
   "cell_type": "code",
   "execution_count": 10,
   "metadata": {
    "scrolled": true
   },
   "outputs": [
    {
     "data": {
      "text/html": [
       "<div>\n",
       "<style scoped>\n",
       "    .dataframe tbody tr th:only-of-type {\n",
       "        vertical-align: middle;\n",
       "    }\n",
       "\n",
       "    .dataframe tbody tr th {\n",
       "        vertical-align: top;\n",
       "    }\n",
       "\n",
       "    .dataframe thead th {\n",
       "        text-align: right;\n",
       "    }\n",
       "</style>\n",
       "<table border=\"1\" class=\"dataframe\">\n",
       "  <thead>\n",
       "    <tr style=\"text-align: right;\">\n",
       "      <th></th>\n",
       "      <th>timestamp</th>\n",
       "      <th>id</th>\n",
       "      <th>rating</th>\n",
       "      <th>18_group</th>\n",
       "      <th>is_mi</th>\n",
       "      <th>fall_1</th>\n",
       "      <th>fall_2</th>\n",
       "      <th>fall_3</th>\n",
       "      <th>spring_1</th>\n",
       "      <th>spring_2</th>\n",
       "      <th>spring_3</th>\n",
       "      <th>is_first_time</th>\n",
       "      <th>percentile</th>\n",
       "      <th>17_group</th>\n",
       "      <th>blended</th>\n",
       "      <th>is_ml_student</th>\n",
       "    </tr>\n",
       "  </thead>\n",
       "  <tbody>\n",
       "    <tr>\n",
       "      <th>351</th>\n",
       "      <td>2020-05-18 23:58:33.903</td>\n",
       "      <td>8fe79f84f36e3a5d2d6745621321302c</td>\n",
       "      <td>1016</td>\n",
       "      <td>NaN</td>\n",
       "      <td>NaN</td>\n",
       "      <td>Безопасность компьютерных систем</td>\n",
       "      <td>Высокопроизводительные вычисления</td>\n",
       "      <td>Сбор и обработка данных с помощью краудсорсинга</td>\n",
       "      <td>Конфликты и кооперация</td>\n",
       "      <td>Проектирование и разработка высоконагруженных ...</td>\n",
       "      <td>Символьные вычисления</td>\n",
       "      <td>Да</td>\n",
       "      <td>0.942029</td>\n",
       "      <td>174.0</td>\n",
       "      <td>DevOps</td>\n",
       "      <td>NaN</td>\n",
       "    </tr>\n",
       "    <tr>\n",
       "      <th>352</th>\n",
       "      <td>2020-05-18 23:59:20.831</td>\n",
       "      <td>f93afd8e92c336b471aa3bbbc579aefe</td>\n",
       "      <td>1298</td>\n",
       "      <td>NaN</td>\n",
       "      <td>NaN</td>\n",
       "      <td>Высокопроизводительные вычисления</td>\n",
       "      <td>Сбор и обработка данных с помощью краудсорсинга</td>\n",
       "      <td>Statistical Learning Theory</td>\n",
       "      <td>Методы сжатия и передачи медиаданных</td>\n",
       "      <td>Проектирование и разработка высоконагруженных ...</td>\n",
       "      <td>Конфликты и кооперация</td>\n",
       "      <td>Да</td>\n",
       "      <td>0.057971</td>\n",
       "      <td>175.0</td>\n",
       "      <td>DevOps</td>\n",
       "      <td>NaN</td>\n",
       "    </tr>\n",
       "    <tr>\n",
       "      <th>353</th>\n",
       "      <td>2020-05-18 23:59:28.998</td>\n",
       "      <td>9963fc00d9405a35b894cc04a7e19855</td>\n",
       "      <td>1135</td>\n",
       "      <td>NaN</td>\n",
       "      <td>NaN</td>\n",
       "      <td>Безопасность компьютерных систем</td>\n",
       "      <td>Высокопроизводительные вычисления</td>\n",
       "      <td>Безопасность компьютерных систем</td>\n",
       "      <td>Проектирование и разработка высоконагруженных ...</td>\n",
       "      <td>Методы сжатия и передачи медиаданных</td>\n",
       "      <td>Символьные вычисления</td>\n",
       "      <td>Да</td>\n",
       "      <td>0.572464</td>\n",
       "      <td>175.0</td>\n",
       "      <td>DevOps</td>\n",
       "      <td>NaN</td>\n",
       "    </tr>\n",
       "    <tr>\n",
       "      <th>354</th>\n",
       "      <td>2020-05-19 08:55:39.509</td>\n",
       "      <td>98c5a2548d93f26bd4195466e93178b3</td>\n",
       "      <td>1035</td>\n",
       "      <td>NaN</td>\n",
       "      <td>NaN</td>\n",
       "      <td>Байесовские методы машинного обучения</td>\n",
       "      <td>Глубинное обучение в обработке звука</td>\n",
       "      <td>Statistical Learning Theory</td>\n",
       "      <td>Обучение с подкреплением</td>\n",
       "      <td>Генеративные модели в машинном обучении</td>\n",
       "      <td>Методы сжатия и передачи медиаданных</td>\n",
       "      <td>Нет</td>\n",
       "      <td>0.905797</td>\n",
       "      <td>171.0</td>\n",
       "      <td>DevOps</td>\n",
       "      <td>NaN</td>\n",
       "    </tr>\n",
       "    <tr>\n",
       "      <th>355</th>\n",
       "      <td>2020-05-19 18:58:06.283</td>\n",
       "      <td>ba298cbd9be59b84bab33325e956f27e</td>\n",
       "      <td>1155</td>\n",
       "      <td>NaN</td>\n",
       "      <td>NaN</td>\n",
       "      <td>Сбор и обработка данных с помощью краудсорсинга</td>\n",
       "      <td>Байесовские методы машинного обучения</td>\n",
       "      <td>Анализ неструктурированных данных</td>\n",
       "      <td>Конфликты и кооперация</td>\n",
       "      <td>Обучение с подкреплением</td>\n",
       "      <td>Компьютерное зрение</td>\n",
       "      <td>Да</td>\n",
       "      <td>0.507246</td>\n",
       "      <td>171.0</td>\n",
       "      <td>Соревновательный анализ данных</td>\n",
       "      <td>NaN</td>\n",
       "    </tr>\n",
       "    <tr>\n",
       "      <th>356</th>\n",
       "      <td>2020-05-19 19:04:17.873</td>\n",
       "      <td>c5870b37ee3f672e4259dfb2fc02ed8f</td>\n",
       "      <td>1029</td>\n",
       "      <td>NaN</td>\n",
       "      <td>NaN</td>\n",
       "      <td>Statistical Learning Theory</td>\n",
       "      <td>Анализ неструктурированных данных</td>\n",
       "      <td>Сбор и обработка данных с помощью краудсорсинга</td>\n",
       "      <td>Обучение с подкреплением</td>\n",
       "      <td>Конфликты и кооперация</td>\n",
       "      <td>Компьютерное зрение</td>\n",
       "      <td>Да</td>\n",
       "      <td>0.920290</td>\n",
       "      <td>174.0</td>\n",
       "      <td>DevOps</td>\n",
       "      <td>NaN</td>\n",
       "    </tr>\n",
       "    <tr>\n",
       "      <th>357</th>\n",
       "      <td>2020-05-19 20:19:25.815</td>\n",
       "      <td>f44aea1095f9f5b8e2f5f0ed2b17891b</td>\n",
       "      <td>1060</td>\n",
       "      <td>NaN</td>\n",
       "      <td>NaN</td>\n",
       "      <td>Анализ неструктурированных данных</td>\n",
       "      <td>Высокопроизводительные вычисления</td>\n",
       "      <td>Моделирование временных рядов</td>\n",
       "      <td>Конфликты и кооперация</td>\n",
       "      <td>Обучение с подкреплением</td>\n",
       "      <td>Численные методы</td>\n",
       "      <td>Да</td>\n",
       "      <td>0.840580</td>\n",
       "      <td>174.0</td>\n",
       "      <td>DevOps</td>\n",
       "      <td>NaN</td>\n",
       "    </tr>\n",
       "    <tr>\n",
       "      <th>358</th>\n",
       "      <td>2020-05-20 11:54:38.318</td>\n",
       "      <td>d7118b44c7e8fdbbaaca226d2da6fef1</td>\n",
       "      <td>1111</td>\n",
       "      <td>NaN</td>\n",
       "      <td>NaN</td>\n",
       "      <td>Сбор и обработка данных с помощью краудсорсинга</td>\n",
       "      <td>Statistical Learning Theory</td>\n",
       "      <td>Анализ неструктурированных данных</td>\n",
       "      <td>Проектирование и разработка высоконагруженных ...</td>\n",
       "      <td>Методы сжатия и передачи медиаданных</td>\n",
       "      <td>Численные методы</td>\n",
       "      <td>Да</td>\n",
       "      <td>0.652174</td>\n",
       "      <td>173.0</td>\n",
       "      <td>Соревновательный анализ данных</td>\n",
       "      <td>NaN</td>\n",
       "    </tr>\n",
       "    <tr>\n",
       "      <th>359</th>\n",
       "      <td>2020-05-23 21:16:40.916</td>\n",
       "      <td>79d14db48e4737af731960ae212d5134</td>\n",
       "      <td>966</td>\n",
       "      <td>NaN</td>\n",
       "      <td>NaN</td>\n",
       "      <td>Безопасность компьютерных систем</td>\n",
       "      <td>Принятие решений в условиях риска и неопределё...</td>\n",
       "      <td>Анализ неструктурированных данных</td>\n",
       "      <td>Проектирование и разработка высоконагруженных ...</td>\n",
       "      <td>Методы сжатия и передачи медиаданных</td>\n",
       "      <td>Компьютерное зрение</td>\n",
       "      <td>Да</td>\n",
       "      <td>0.985507</td>\n",
       "      <td>172.0</td>\n",
       "      <td>DevOps</td>\n",
       "      <td>NaN</td>\n",
       "    </tr>\n",
       "    <tr>\n",
       "      <th>360</th>\n",
       "      <td>2020-05-23 21:16:40.916</td>\n",
       "      <td>f2d210ace25a841e1e58036b257d5d47</td>\n",
       "      <td>1195</td>\n",
       "      <td>NaN</td>\n",
       "      <td>NaN</td>\n",
       "      <td>Анализ неструктурированных данных</td>\n",
       "      <td>Моделирование временных рядов</td>\n",
       "      <td>Высокопроизводительные вычисления</td>\n",
       "      <td>Обучение с подкреплением</td>\n",
       "      <td>Компьютерное зрение</td>\n",
       "      <td>Методы сжатия и передачи медиаданных</td>\n",
       "      <td>NaN</td>\n",
       "      <td>0.369565</td>\n",
       "      <td>176.0</td>\n",
       "      <td>Соревновательный анализ данных</td>\n",
       "      <td>NaN</td>\n",
       "    </tr>\n",
       "  </tbody>\n",
       "</table>\n",
       "</div>"
      ],
      "text/plain": [
       "                  timestamp                                id  rating  \\\n",
       "351 2020-05-18 23:58:33.903  8fe79f84f36e3a5d2d6745621321302c    1016   \n",
       "352 2020-05-18 23:59:20.831  f93afd8e92c336b471aa3bbbc579aefe    1298   \n",
       "353 2020-05-18 23:59:28.998  9963fc00d9405a35b894cc04a7e19855    1135   \n",
       "354 2020-05-19 08:55:39.509  98c5a2548d93f26bd4195466e93178b3    1035   \n",
       "355 2020-05-19 18:58:06.283  ba298cbd9be59b84bab33325e956f27e    1155   \n",
       "356 2020-05-19 19:04:17.873  c5870b37ee3f672e4259dfb2fc02ed8f    1029   \n",
       "357 2020-05-19 20:19:25.815  f44aea1095f9f5b8e2f5f0ed2b17891b    1060   \n",
       "358 2020-05-20 11:54:38.318  d7118b44c7e8fdbbaaca226d2da6fef1    1111   \n",
       "359 2020-05-23 21:16:40.916  79d14db48e4737af731960ae212d5134     966   \n",
       "360 2020-05-23 21:16:40.916  f2d210ace25a841e1e58036b257d5d47    1195   \n",
       "\n",
       "     18_group  is_mi                                           fall_1  \\\n",
       "351       NaN    NaN                 Безопасность компьютерных систем   \n",
       "352       NaN    NaN                Высокопроизводительные вычисления   \n",
       "353       NaN    NaN                 Безопасность компьютерных систем   \n",
       "354       NaN    NaN            Байесовские методы машинного обучения   \n",
       "355       NaN    NaN  Сбор и обработка данных с помощью краудсорсинга   \n",
       "356       NaN    NaN                      Statistical Learning Theory   \n",
       "357       NaN    NaN                Анализ неструктурированных данных   \n",
       "358       NaN    NaN  Сбор и обработка данных с помощью краудсорсинга   \n",
       "359       NaN    NaN                 Безопасность компьютерных систем   \n",
       "360       NaN    NaN                Анализ неструктурированных данных   \n",
       "\n",
       "                                                fall_2  \\\n",
       "351                  Высокопроизводительные вычисления   \n",
       "352    Сбор и обработка данных с помощью краудсорсинга   \n",
       "353                  Высокопроизводительные вычисления   \n",
       "354               Глубинное обучение в обработке звука   \n",
       "355              Байесовские методы машинного обучения   \n",
       "356                  Анализ неструктурированных данных   \n",
       "357                  Высокопроизводительные вычисления   \n",
       "358                        Statistical Learning Theory   \n",
       "359  Принятие решений в условиях риска и неопределё...   \n",
       "360                      Моделирование временных рядов   \n",
       "\n",
       "                                              fall_3  \\\n",
       "351  Сбор и обработка данных с помощью краудсорсинга   \n",
       "352                      Statistical Learning Theory   \n",
       "353                 Безопасность компьютерных систем   \n",
       "354                      Statistical Learning Theory   \n",
       "355                Анализ неструктурированных данных   \n",
       "356  Сбор и обработка данных с помощью краудсорсинга   \n",
       "357                    Моделирование временных рядов   \n",
       "358                Анализ неструктурированных данных   \n",
       "359                Анализ неструктурированных данных   \n",
       "360                Высокопроизводительные вычисления   \n",
       "\n",
       "                                              spring_1  \\\n",
       "351                             Конфликты и кооперация   \n",
       "352               Методы сжатия и передачи медиаданных   \n",
       "353  Проектирование и разработка высоконагруженных ...   \n",
       "354                           Обучение с подкреплением   \n",
       "355                             Конфликты и кооперация   \n",
       "356                           Обучение с подкреплением   \n",
       "357                             Конфликты и кооперация   \n",
       "358  Проектирование и разработка высоконагруженных ...   \n",
       "359  Проектирование и разработка высоконагруженных ...   \n",
       "360                           Обучение с подкреплением   \n",
       "\n",
       "                                              spring_2  \\\n",
       "351  Проектирование и разработка высоконагруженных ...   \n",
       "352  Проектирование и разработка высоконагруженных ...   \n",
       "353               Методы сжатия и передачи медиаданных   \n",
       "354            Генеративные модели в машинном обучении   \n",
       "355                           Обучение с подкреплением   \n",
       "356                             Конфликты и кооперация   \n",
       "357                           Обучение с подкреплением   \n",
       "358               Методы сжатия и передачи медиаданных   \n",
       "359               Методы сжатия и передачи медиаданных   \n",
       "360                                Компьютерное зрение   \n",
       "\n",
       "                                 spring_3 is_first_time  percentile  17_group  \\\n",
       "351                 Символьные вычисления            Да    0.942029     174.0   \n",
       "352                Конфликты и кооперация            Да    0.057971     175.0   \n",
       "353                 Символьные вычисления            Да    0.572464     175.0   \n",
       "354  Методы сжатия и передачи медиаданных           Нет    0.905797     171.0   \n",
       "355                   Компьютерное зрение            Да    0.507246     171.0   \n",
       "356                   Компьютерное зрение            Да    0.920290     174.0   \n",
       "357                      Численные методы            Да    0.840580     174.0   \n",
       "358                      Численные методы            Да    0.652174     173.0   \n",
       "359                   Компьютерное зрение            Да    0.985507     172.0   \n",
       "360  Методы сжатия и передачи медиаданных           NaN    0.369565     176.0   \n",
       "\n",
       "                            blended  is_ml_student  \n",
       "351                          DevOps            NaN  \n",
       "352                          DevOps            NaN  \n",
       "353                          DevOps            NaN  \n",
       "354                          DevOps            NaN  \n",
       "355  Соревновательный анализ данных            NaN  \n",
       "356                          DevOps            NaN  \n",
       "357                          DevOps            NaN  \n",
       "358  Соревновательный анализ данных            NaN  \n",
       "359                          DevOps            NaN  \n",
       "360  Соревновательный анализ данных            NaN  "
      ]
     },
     "execution_count": 10,
     "metadata": {},
     "output_type": "execute_result"
    }
   ],
   "source": [
    "data.tail(10)"
   ]
  },
  {
   "cell_type": "code",
   "execution_count": 11,
   "metadata": {},
   "outputs": [
    {
     "data": {
      "text/plain": [
       "Index(['timestamp', 'id', 'rating', '18_group', 'is_mi', 'fall_1', 'fall_2',\n",
       "       'fall_3', 'spring_1', 'spring_2', 'spring_3', 'is_first_time',\n",
       "       'percentile', '17_group', 'blended', 'is_ml_student'],\n",
       "      dtype='object')"
      ]
     },
     "execution_count": 11,
     "metadata": {},
     "output_type": "execute_result"
    }
   ],
   "source": [
    "data.columns"
   ]
  },
  {
   "cell_type": "markdown",
   "metadata": {},
   "source": [
    "#### 2. [0.5 балла] Ответьте на вопросы:\n",
    "1. Сколько было заявок из групп 18-го года набора, а сколько из групп 17-го года?\n",
    "2. Есть ли студенты с равными перцентилями?"
   ]
  },
  {
   "cell_type": "code",
   "execution_count": 12,
   "metadata": {
    "scrolled": true
   },
   "outputs": [],
   "source": [
    "group_17_count = data['18_group'].isna().sum()\n",
    "group_18_count = data['17_group'].isna().sum()"
   ]
  },
  {
   "cell_type": "code",
   "execution_count": 13,
   "metadata": {
    "scrolled": true
   },
   "outputs": [],
   "source": [
    "assert group_17_count + group_18_count == data.shape[0]\n",
    "assert data[data['18_group'].isna() & data['17_group'].isna()].shape[0] == 0"
   ]
  },
  {
   "cell_type": "code",
   "execution_count": 14,
   "metadata": {},
   "outputs": [
    {
     "name": "stdout",
     "output_type": "stream",
     "text": [
      "138 students from 17 year\n",
      "223 students from 18 year\n"
     ]
    }
   ],
   "source": [
    "print(\"{} students from 17 year\\n{} students from 18 year\".format(group_17_count, group_18_count))"
   ]
  },
  {
   "cell_type": "code",
   "execution_count": 15,
   "metadata": {},
   "outputs": [
    {
     "name": "stdout",
     "output_type": "stream",
     "text": [
      "Not all percentiles are unique\n"
     ]
    }
   ],
   "source": [
    "if data.percentile.unique().shape[0] == data.id.unique().shape[0]:\n",
    "    print(\"All percentiles are unique\")\n",
    "else:\n",
    "    print(\"Not all percentiles are unique\")"
   ]
  },
  {
   "cell_type": "code",
   "execution_count": 16,
   "metadata": {
    "scrolled": false
   },
   "outputs": [
    {
     "name": "stdout",
     "output_type": "stream",
     "text": [
      "346 347\n"
     ]
    }
   ],
   "source": [
    "print(data.percentile.unique().shape[0], data.id.unique().shape[0])"
   ]
  },
  {
   "cell_type": "code",
   "execution_count": 17,
   "metadata": {
    "scrolled": true
   },
   "outputs": [
    {
     "data": {
      "text/html": [
       "<div>\n",
       "<style scoped>\n",
       "    .dataframe tbody tr th:only-of-type {\n",
       "        vertical-align: middle;\n",
       "    }\n",
       "\n",
       "    .dataframe tbody tr th {\n",
       "        vertical-align: top;\n",
       "    }\n",
       "\n",
       "    .dataframe thead th {\n",
       "        text-align: right;\n",
       "    }\n",
       "</style>\n",
       "<table border=\"1\" class=\"dataframe\">\n",
       "  <thead>\n",
       "    <tr style=\"text-align: right;\">\n",
       "      <th></th>\n",
       "      <th>timestamp</th>\n",
       "      <th>id</th>\n",
       "      <th>rating</th>\n",
       "      <th>18_group</th>\n",
       "      <th>is_mi</th>\n",
       "      <th>fall_1</th>\n",
       "      <th>fall_2</th>\n",
       "      <th>fall_3</th>\n",
       "      <th>spring_1</th>\n",
       "      <th>spring_2</th>\n",
       "      <th>spring_3</th>\n",
       "      <th>is_first_time</th>\n",
       "      <th>percentile</th>\n",
       "      <th>17_group</th>\n",
       "      <th>blended</th>\n",
       "      <th>is_ml_student</th>\n",
       "    </tr>\n",
       "  </thead>\n",
       "  <tbody>\n",
       "    <tr>\n",
       "      <th>80</th>\n",
       "      <td>2020-05-18 17:09:23.589</td>\n",
       "      <td>3e106aaef8b24dbb01319c73e14c2936</td>\n",
       "      <td>784</td>\n",
       "      <td>182.0</td>\n",
       "      <td>NaN</td>\n",
       "      <td>Безопасность компьютерных систем</td>\n",
       "      <td>Statistical Learning Theory</td>\n",
       "      <td>Матричные вычисления</td>\n",
       "      <td>Дискретная оптимизация</td>\n",
       "      <td>Промышленное программирование на языке Java</td>\n",
       "      <td>Дополнительные главы прикладной статистики</td>\n",
       "      <td>Да</td>\n",
       "      <td>0.0</td>\n",
       "      <td>NaN</td>\n",
       "      <td>NaN</td>\n",
       "      <td>1.0</td>\n",
       "    </tr>\n",
       "    <tr>\n",
       "      <th>231</th>\n",
       "      <td>2020-05-14 21:52:43.844</td>\n",
       "      <td>3a7326c9e355a67d3805824ca34c4bc5</td>\n",
       "      <td>1457</td>\n",
       "      <td>NaN</td>\n",
       "      <td>NaN</td>\n",
       "      <td>Statistical Learning Theory</td>\n",
       "      <td>Высокопроизводительные вычисления</td>\n",
       "      <td>Statistical Learning Theory</td>\n",
       "      <td>Символьные вычисления</td>\n",
       "      <td>Численные методы</td>\n",
       "      <td>Символьные вычисления</td>\n",
       "      <td>Да</td>\n",
       "      <td>0.0</td>\n",
       "      <td>173.0</td>\n",
       "      <td>Введение в дифференциальную геометрию</td>\n",
       "      <td>NaN</td>\n",
       "    </tr>\n",
       "  </tbody>\n",
       "</table>\n",
       "</div>"
      ],
      "text/plain": [
       "                  timestamp                                id  rating  \\\n",
       "80  2020-05-18 17:09:23.589  3e106aaef8b24dbb01319c73e14c2936     784   \n",
       "231 2020-05-14 21:52:43.844  3a7326c9e355a67d3805824ca34c4bc5    1457   \n",
       "\n",
       "     18_group  is_mi                            fall_1  \\\n",
       "80      182.0    NaN  Безопасность компьютерных систем   \n",
       "231       NaN    NaN       Statistical Learning Theory   \n",
       "\n",
       "                                fall_2                       fall_3  \\\n",
       "80         Statistical Learning Theory         Матричные вычисления   \n",
       "231  Высокопроизводительные вычисления  Statistical Learning Theory   \n",
       "\n",
       "                   spring_1                                     spring_2  \\\n",
       "80   Дискретная оптимизация  Промышленное программирование на языке Java   \n",
       "231   Символьные вычисления                             Численные методы   \n",
       "\n",
       "                                       spring_3 is_first_time  percentile  \\\n",
       "80   Дополнительные главы прикладной статистики            Да         0.0   \n",
       "231                       Символьные вычисления            Да         0.0   \n",
       "\n",
       "     17_group                                blended  is_ml_student  \n",
       "80        NaN                                    NaN            1.0  \n",
       "231     173.0  Введение в дифференциальную геометрию            NaN  "
      ]
     },
     "execution_count": 17,
     "metadata": {},
     "output_type": "execute_result"
    }
   ],
   "source": [
    "data[data.percentile == 0]"
   ]
  },
  {
   "cell_type": "markdown",
   "metadata": {},
   "source": [
    "#### Как и ожидалось, дупликат один и это нулевой перцентиль. Так как мест везде больше 2, можно никак не обращать на это внимание при распределении, потому что они точно пройдут в первой волне"
   ]
  },
  {
   "cell_type": "markdown",
   "metadata": {},
   "source": [
    "#### 3. [0.5 балла] Есть ли в данных пропуски? В каких колонках? Сколько их в каждой из этих колонок?"
   ]
  },
  {
   "cell_type": "code",
   "execution_count": 18,
   "metadata": {
    "scrolled": true
   },
   "outputs": [
    {
     "data": {
      "text/plain": [
       "timestamp          0\n",
       "id                 0\n",
       "rating             0\n",
       "18_group         138\n",
       "is_mi            343\n",
       "fall_1             0\n",
       "fall_2             0\n",
       "fall_3             0\n",
       "spring_1           0\n",
       "spring_2           0\n",
       "spring_3           0\n",
       "is_first_time      2\n",
       "percentile         0\n",
       "17_group         223\n",
       "blended          223\n",
       "is_ml_student    304\n",
       "dtype: int64"
      ]
     },
     "execution_count": 18,
     "metadata": {},
     "output_type": "execute_result"
    }
   ],
   "source": [
    "data.isna().sum()"
   ]
  },
  {
   "cell_type": "markdown",
   "metadata": {},
   "source": [
    "Заполните пропуски пустой строкой для строковых колонок и нулём для числовых."
   ]
  },
  {
   "cell_type": "code",
   "execution_count": 19,
   "metadata": {
    "scrolled": true
   },
   "outputs": [
    {
     "data": {
      "text/plain": [
       "timestamp        datetime64[ns]\n",
       "id                       object\n",
       "rating                    int64\n",
       "18_group                float64\n",
       "is_mi                   float64\n",
       "fall_1                   object\n",
       "fall_2                   object\n",
       "fall_3                   object\n",
       "spring_1                 object\n",
       "spring_2                 object\n",
       "spring_3                 object\n",
       "is_first_time            object\n",
       "percentile              float64\n",
       "17_group                float64\n",
       "blended                  object\n",
       "is_ml_student           float64\n",
       "dtype: object"
      ]
     },
     "execution_count": 19,
     "metadata": {},
     "output_type": "execute_result"
    }
   ],
   "source": [
    "data.dtypes"
   ]
  },
  {
   "cell_type": "code",
   "execution_count": 20,
   "metadata": {
    "scrolled": true
   },
   "outputs": [],
   "source": [
    "data.update(data.select_dtypes(include=[np.number]).fillna(0))"
   ]
  },
  {
   "cell_type": "code",
   "execution_count": 21,
   "metadata": {},
   "outputs": [],
   "source": [
    "data = data.fillna('')"
   ]
  },
  {
   "cell_type": "code",
   "execution_count": 22,
   "metadata": {},
   "outputs": [
    {
     "data": {
      "text/plain": [
       "timestamp        0\n",
       "id               0\n",
       "rating           0\n",
       "18_group         0\n",
       "is_mi            0\n",
       "fall_1           0\n",
       "fall_2           0\n",
       "fall_3           0\n",
       "spring_1         0\n",
       "spring_2         0\n",
       "spring_3         0\n",
       "is_first_time    0\n",
       "percentile       0\n",
       "17_group         0\n",
       "blended          0\n",
       "is_ml_student    0\n",
       "dtype: int64"
      ]
     },
     "execution_count": 22,
     "metadata": {},
     "output_type": "execute_result"
    }
   ],
   "source": [
    "data.isna().sum()"
   ]
  },
  {
   "cell_type": "code",
   "execution_count": 23,
   "metadata": {
    "scrolled": true
   },
   "outputs": [
    {
     "data": {
      "text/html": [
       "<div>\n",
       "<style scoped>\n",
       "    .dataframe tbody tr th:only-of-type {\n",
       "        vertical-align: middle;\n",
       "    }\n",
       "\n",
       "    .dataframe tbody tr th {\n",
       "        vertical-align: top;\n",
       "    }\n",
       "\n",
       "    .dataframe thead th {\n",
       "        text-align: right;\n",
       "    }\n",
       "</style>\n",
       "<table border=\"1\" class=\"dataframe\">\n",
       "  <thead>\n",
       "    <tr style=\"text-align: right;\">\n",
       "      <th></th>\n",
       "      <th>timestamp</th>\n",
       "      <th>id</th>\n",
       "      <th>rating</th>\n",
       "      <th>18_group</th>\n",
       "      <th>is_mi</th>\n",
       "      <th>fall_1</th>\n",
       "      <th>fall_2</th>\n",
       "      <th>fall_3</th>\n",
       "      <th>spring_1</th>\n",
       "      <th>spring_2</th>\n",
       "      <th>spring_3</th>\n",
       "      <th>is_first_time</th>\n",
       "      <th>percentile</th>\n",
       "      <th>17_group</th>\n",
       "      <th>blended</th>\n",
       "      <th>is_ml_student</th>\n",
       "    </tr>\n",
       "  </thead>\n",
       "  <tbody>\n",
       "    <tr>\n",
       "      <th>100</th>\n",
       "      <td>2020-05-18 19:08:20.608</td>\n",
       "      <td>bf24738793f54467434ad78be13a42bf</td>\n",
       "      <td>693</td>\n",
       "      <td>184.0</td>\n",
       "      <td>0.0</td>\n",
       "      <td>Безопасность компьютерных систем</td>\n",
       "      <td>Statistical Learning Theory</td>\n",
       "      <td>Матричные вычисления</td>\n",
       "      <td>Дополнительные главы прикладной статистики</td>\n",
       "      <td>Дискретная оптимизация</td>\n",
       "      <td>Промышленное программирование на языке Java</td>\n",
       "      <td>Да</td>\n",
       "      <td>0.210762</td>\n",
       "      <td>0.0</td>\n",
       "      <td></td>\n",
       "      <td>1.0</td>\n",
       "    </tr>\n",
       "    <tr>\n",
       "      <th>327</th>\n",
       "      <td>2020-05-18 22:43:00.850</td>\n",
       "      <td>dc7f705ae386b0457542a833571d51d0</td>\n",
       "      <td>1307</td>\n",
       "      <td>0.0</td>\n",
       "      <td>0.0</td>\n",
       "      <td>Высокопроизводительные вычисления</td>\n",
       "      <td>Моделирование временных рядов</td>\n",
       "      <td>Байесовские методы машинного обучения</td>\n",
       "      <td>Проектирование и разработка высоконагруженных ...</td>\n",
       "      <td>Методы сжатия и передачи медиаданных</td>\n",
       "      <td>Обучение с подкреплением</td>\n",
       "      <td>Нет</td>\n",
       "      <td>0.043478</td>\n",
       "      <td>173.0</td>\n",
       "      <td>DevOps</td>\n",
       "      <td>0.0</td>\n",
       "    </tr>\n",
       "    <tr>\n",
       "      <th>301</th>\n",
       "      <td>2020-05-18 20:00:36.456</td>\n",
       "      <td>573e2218c3fe3ffc1894edc12432d315</td>\n",
       "      <td>1131</td>\n",
       "      <td>0.0</td>\n",
       "      <td>0.0</td>\n",
       "      <td>Statistical Learning Theory</td>\n",
       "      <td>Анализ неструктурированных данных</td>\n",
       "      <td>Сбор и обработка данных с помощью краудсорсинга</td>\n",
       "      <td>Обучение с подкреплением</td>\n",
       "      <td>Конфликты и кооперация</td>\n",
       "      <td>Компьютерное зрение</td>\n",
       "      <td>Да</td>\n",
       "      <td>0.586957</td>\n",
       "      <td>172.0</td>\n",
       "      <td>DevOps</td>\n",
       "      <td>0.0</td>\n",
       "    </tr>\n",
       "    <tr>\n",
       "      <th>45</th>\n",
       "      <td>2020-05-17 12:36:33.965</td>\n",
       "      <td>5d9c9087b5a851ecb6bba1bc916b684f</td>\n",
       "      <td>680</td>\n",
       "      <td>185.0</td>\n",
       "      <td>0.0</td>\n",
       "      <td>Матричные вычисления</td>\n",
       "      <td>Принятие решений в условиях риска и неопределё...</td>\n",
       "      <td>Теория баз данных</td>\n",
       "      <td>Численные методы</td>\n",
       "      <td>Машинное обучение 2</td>\n",
       "      <td>Промышленное программирование на языке Java</td>\n",
       "      <td>Да</td>\n",
       "      <td>0.269058</td>\n",
       "      <td>0.0</td>\n",
       "      <td></td>\n",
       "      <td>0.0</td>\n",
       "    </tr>\n",
       "    <tr>\n",
       "      <th>314</th>\n",
       "      <td>2020-05-18 21:40:08.787</td>\n",
       "      <td>5a733a19a3bdad95c1b5eac59c5b764b</td>\n",
       "      <td>1207</td>\n",
       "      <td>0.0</td>\n",
       "      <td>0.0</td>\n",
       "      <td>Сбор и обработка данных с помощью краудсорсинга</td>\n",
       "      <td>Байесовские методы машинного обучения</td>\n",
       "      <td>Глубинное обучение в обработке звука</td>\n",
       "      <td>Проектирование и разработка высоконагруженных ...</td>\n",
       "      <td>Компьютерное зрение</td>\n",
       "      <td>Генеративные модели в машинном обучении</td>\n",
       "      <td>Да</td>\n",
       "      <td>0.275362</td>\n",
       "      <td>175.0</td>\n",
       "      <td>DevOps</td>\n",
       "      <td>0.0</td>\n",
       "    </tr>\n",
       "  </tbody>\n",
       "</table>\n",
       "</div>"
      ],
      "text/plain": [
       "                  timestamp                                id  rating  \\\n",
       "100 2020-05-18 19:08:20.608  bf24738793f54467434ad78be13a42bf     693   \n",
       "327 2020-05-18 22:43:00.850  dc7f705ae386b0457542a833571d51d0    1307   \n",
       "301 2020-05-18 20:00:36.456  573e2218c3fe3ffc1894edc12432d315    1131   \n",
       "45  2020-05-17 12:36:33.965  5d9c9087b5a851ecb6bba1bc916b684f     680   \n",
       "314 2020-05-18 21:40:08.787  5a733a19a3bdad95c1b5eac59c5b764b    1207   \n",
       "\n",
       "     18_group  is_mi                                           fall_1  \\\n",
       "100     184.0    0.0                 Безопасность компьютерных систем   \n",
       "327       0.0    0.0                Высокопроизводительные вычисления   \n",
       "301       0.0    0.0                      Statistical Learning Theory   \n",
       "45      185.0    0.0                             Матричные вычисления   \n",
       "314       0.0    0.0  Сбор и обработка данных с помощью краудсорсинга   \n",
       "\n",
       "                                                fall_2  \\\n",
       "100                        Statistical Learning Theory   \n",
       "327                      Моделирование временных рядов   \n",
       "301                  Анализ неструктурированных данных   \n",
       "45   Принятие решений в условиях риска и неопределё...   \n",
       "314              Байесовские методы машинного обучения   \n",
       "\n",
       "                                              fall_3  \\\n",
       "100                             Матричные вычисления   \n",
       "327            Байесовские методы машинного обучения   \n",
       "301  Сбор и обработка данных с помощью краудсорсинга   \n",
       "45                                 Теория баз данных   \n",
       "314             Глубинное обучение в обработке звука   \n",
       "\n",
       "                                              spring_1  \\\n",
       "100         Дополнительные главы прикладной статистики   \n",
       "327  Проектирование и разработка высоконагруженных ...   \n",
       "301                           Обучение с подкреплением   \n",
       "45                                    Численные методы   \n",
       "314  Проектирование и разработка высоконагруженных ...   \n",
       "\n",
       "                                 spring_2  \\\n",
       "100                Дискретная оптимизация   \n",
       "327  Методы сжатия и передачи медиаданных   \n",
       "301                Конфликты и кооперация   \n",
       "45                    Машинное обучение 2   \n",
       "314                   Компьютерное зрение   \n",
       "\n",
       "                                        spring_3 is_first_time  percentile  \\\n",
       "100  Промышленное программирование на языке Java            Да    0.210762   \n",
       "327                     Обучение с подкреплением           Нет    0.043478   \n",
       "301                          Компьютерное зрение            Да    0.586957   \n",
       "45   Промышленное программирование на языке Java            Да    0.269058   \n",
       "314      Генеративные модели в машинном обучении            Да    0.275362   \n",
       "\n",
       "     17_group blended  is_ml_student  \n",
       "100       0.0                    1.0  \n",
       "327     173.0  DevOps            0.0  \n",
       "301     172.0  DevOps            0.0  \n",
       "45        0.0                    0.0  \n",
       "314     175.0  DevOps            0.0  "
      ]
     },
     "execution_count": 23,
     "metadata": {},
     "output_type": "execute_result"
    }
   ],
   "source": [
    "data.sample(5)"
   ]
  },
  {
   "cell_type": "markdown",
   "metadata": {},
   "source": [
    "#### 4. [0.5 балла] Посмотрите повнимательнее на колонку 'is_first_time'. \n",
    "\n",
    "Есть ли в ней ответы \"Нет\"? Сколько их?\n",
    "\n",
    "Если вы найдете повторные обращения студентов, оставьте только самую позднюю версию. "
   ]
  },
  {
   "cell_type": "code",
   "execution_count": 24,
   "metadata": {},
   "outputs": [
    {
     "data": {
      "text/plain": [
       "array(['Да', 'Нет', ''], dtype=object)"
      ]
     },
     "execution_count": 24,
     "metadata": {},
     "output_type": "execute_result"
    }
   ],
   "source": [
    "data.is_first_time.unique()"
   ]
  },
  {
   "cell_type": "code",
   "execution_count": 25,
   "metadata": {
    "scrolled": true
   },
   "outputs": [
    {
     "name": "stdout",
     "output_type": "stream",
     "text": [
      "51 students selected 'not first time'\n"
     ]
    }
   ],
   "source": [
    "not_first_time = data[data.is_first_time == 'Нет'].shape[0]\n",
    "print(\"{} students selected 'not first time'\".format(not_first_time))"
   ]
  },
  {
   "cell_type": "code",
   "execution_count": 26,
   "metadata": {},
   "outputs": [
    {
     "data": {
      "text/plain": [
       "(347,)"
      ]
     },
     "execution_count": 26,
     "metadata": {},
     "output_type": "execute_result"
    }
   ],
   "source": [
    "data.id.unique().shape"
   ]
  },
  {
   "cell_type": "code",
   "execution_count": 27,
   "metadata": {
    "scrolled": true
   },
   "outputs": [
    {
     "data": {
      "text/html": [
       "<div>\n",
       "<style scoped>\n",
       "    .dataframe tbody tr th:only-of-type {\n",
       "        vertical-align: middle;\n",
       "    }\n",
       "\n",
       "    .dataframe tbody tr th {\n",
       "        vertical-align: top;\n",
       "    }\n",
       "\n",
       "    .dataframe thead th {\n",
       "        text-align: right;\n",
       "    }\n",
       "</style>\n",
       "<table border=\"1\" class=\"dataframe\">\n",
       "  <thead>\n",
       "    <tr style=\"text-align: right;\">\n",
       "      <th></th>\n",
       "      <th>timestamp</th>\n",
       "      <th>id</th>\n",
       "      <th>rating</th>\n",
       "      <th>18_group</th>\n",
       "      <th>is_mi</th>\n",
       "      <th>fall_1</th>\n",
       "      <th>fall_2</th>\n",
       "      <th>fall_3</th>\n",
       "      <th>spring_1</th>\n",
       "      <th>spring_2</th>\n",
       "      <th>spring_3</th>\n",
       "      <th>is_first_time</th>\n",
       "      <th>percentile</th>\n",
       "      <th>17_group</th>\n",
       "      <th>blended</th>\n",
       "      <th>is_ml_student</th>\n",
       "    </tr>\n",
       "  </thead>\n",
       "  <tbody>\n",
       "    <tr>\n",
       "      <th>22</th>\n",
       "      <td>2020-05-15 22:15:31.902</td>\n",
       "      <td>a65d50ef4fadfac64508a54e972d8623</td>\n",
       "      <td>626</td>\n",
       "      <td>184.0</td>\n",
       "      <td>0.0</td>\n",
       "      <td>Высокопроизводительные вычисления</td>\n",
       "      <td>Безопасность компьютерных систем</td>\n",
       "      <td>Матричные вычисления</td>\n",
       "      <td>Дискретная оптимизация</td>\n",
       "      <td>Численные методы</td>\n",
       "      <td>Анализ данных в бизнесе</td>\n",
       "      <td>Да</td>\n",
       "      <td>0.526906</td>\n",
       "      <td>0.0</td>\n",
       "      <td></td>\n",
       "      <td>0.0</td>\n",
       "    </tr>\n",
       "    <tr>\n",
       "      <th>23</th>\n",
       "      <td>2020-05-15 22:30:31.902</td>\n",
       "      <td>a65d50ef4fadfac64508a54e972d8623</td>\n",
       "      <td>626</td>\n",
       "      <td>184.0</td>\n",
       "      <td>0.0</td>\n",
       "      <td>Безопасность компьютерных систем</td>\n",
       "      <td>Высокопроизводительные вычисления</td>\n",
       "      <td>Матричные вычисления</td>\n",
       "      <td>Дискретная оптимизация</td>\n",
       "      <td>Численные методы</td>\n",
       "      <td>Анализ данных в бизнесе</td>\n",
       "      <td>Нет</td>\n",
       "      <td>0.526906</td>\n",
       "      <td>0.0</td>\n",
       "      <td></td>\n",
       "      <td>0.0</td>\n",
       "    </tr>\n",
       "    <tr>\n",
       "      <th>29</th>\n",
       "      <td>2020-05-16 14:46:06.274</td>\n",
       "      <td>b121e4d7d62387cd5199cca464a34a6d</td>\n",
       "      <td>694</td>\n",
       "      <td>185.0</td>\n",
       "      <td>0.0</td>\n",
       "      <td>Теория баз данных</td>\n",
       "      <td>Безопасность компьютерных систем</td>\n",
       "      <td>Язык SQL</td>\n",
       "      <td>Машинное обучение 2</td>\n",
       "      <td>Компьютерные сети</td>\n",
       "      <td>Промышленное программирование на языке Java</td>\n",
       "      <td>Да</td>\n",
       "      <td>0.204036</td>\n",
       "      <td>0.0</td>\n",
       "      <td></td>\n",
       "      <td>0.0</td>\n",
       "    </tr>\n",
       "    <tr>\n",
       "      <th>30</th>\n",
       "      <td>2020-05-16 15:01:06.274</td>\n",
       "      <td>b121e4d7d62387cd5199cca464a34a6d</td>\n",
       "      <td>694</td>\n",
       "      <td>185.0</td>\n",
       "      <td>0.0</td>\n",
       "      <td>Безопасность компьютерных систем</td>\n",
       "      <td>Теория баз данных</td>\n",
       "      <td>Язык SQL</td>\n",
       "      <td>Машинное обучение 2</td>\n",
       "      <td>Компьютерные сети</td>\n",
       "      <td>Промышленное программирование на языке Java</td>\n",
       "      <td>Нет</td>\n",
       "      <td>0.204036</td>\n",
       "      <td>0.0</td>\n",
       "      <td></td>\n",
       "      <td>0.0</td>\n",
       "    </tr>\n",
       "    <tr>\n",
       "      <th>97</th>\n",
       "      <td>2020-05-18 18:38:41.094</td>\n",
       "      <td>5ee2ad618729a6dc3bdb7f2858826ef0</td>\n",
       "      <td>628</td>\n",
       "      <td>185.0</td>\n",
       "      <td>0.0</td>\n",
       "      <td>Язык SQL</td>\n",
       "      <td>Безопасность компьютерных систем</td>\n",
       "      <td>Теория баз данных</td>\n",
       "      <td>Компьютерные сети</td>\n",
       "      <td>Промышленное программирование на языке Java</td>\n",
       "      <td>Дискретная оптимизация</td>\n",
       "      <td>Да</td>\n",
       "      <td>0.513453</td>\n",
       "      <td>0.0</td>\n",
       "      <td></td>\n",
       "      <td>0.0</td>\n",
       "    </tr>\n",
       "    <tr>\n",
       "      <th>98</th>\n",
       "      <td>2020-05-18 18:53:41.094</td>\n",
       "      <td>5ee2ad618729a6dc3bdb7f2858826ef0</td>\n",
       "      <td>628</td>\n",
       "      <td>185.0</td>\n",
       "      <td>0.0</td>\n",
       "      <td>Безопасность компьютерных систем</td>\n",
       "      <td>Язык SQL</td>\n",
       "      <td>Теория баз данных</td>\n",
       "      <td>Компьютерные сети</td>\n",
       "      <td>Промышленное программирование на языке Java</td>\n",
       "      <td>Дискретная оптимизация</td>\n",
       "      <td>Нет</td>\n",
       "      <td>0.513453</td>\n",
       "      <td>0.0</td>\n",
       "      <td></td>\n",
       "      <td>0.0</td>\n",
       "    </tr>\n",
       "    <tr>\n",
       "      <th>121</th>\n",
       "      <td>2020-05-18 20:47:28.759</td>\n",
       "      <td>5c49473012411a1eee72f8ea63767adf</td>\n",
       "      <td>573</td>\n",
       "      <td>183.0</td>\n",
       "      <td>0.0</td>\n",
       "      <td>Язык SQL</td>\n",
       "      <td>Безопасность компьютерных систем</td>\n",
       "      <td>Теория баз данных</td>\n",
       "      <td>Промышленное программирование на языке Java</td>\n",
       "      <td>Компьютерные сети</td>\n",
       "      <td>Дискретная оптимизация</td>\n",
       "      <td>Да</td>\n",
       "      <td>0.773543</td>\n",
       "      <td>0.0</td>\n",
       "      <td></td>\n",
       "      <td>0.0</td>\n",
       "    </tr>\n",
       "    <tr>\n",
       "      <th>126</th>\n",
       "      <td>2020-05-18 21:02:28.759</td>\n",
       "      <td>5c49473012411a1eee72f8ea63767adf</td>\n",
       "      <td>573</td>\n",
       "      <td>183.0</td>\n",
       "      <td>0.0</td>\n",
       "      <td>Безопасность компьютерных систем</td>\n",
       "      <td>Язык SQL</td>\n",
       "      <td>Теория баз данных</td>\n",
       "      <td>Промышленное программирование на языке Java</td>\n",
       "      <td>Компьютерные сети</td>\n",
       "      <td>Дискретная оптимизация</td>\n",
       "      <td>Нет</td>\n",
       "      <td>0.773543</td>\n",
       "      <td>0.0</td>\n",
       "      <td></td>\n",
       "      <td>0.0</td>\n",
       "    </tr>\n",
       "    <tr>\n",
       "      <th>129</th>\n",
       "      <td>2020-05-18 21:12:02.445</td>\n",
       "      <td>ffc58d371e2f52e1c7f45d49d3d629d0</td>\n",
       "      <td>659</td>\n",
       "      <td>187.0</td>\n",
       "      <td>0.0</td>\n",
       "      <td>Сбор и обработка данных с помощью краудсорсинга</td>\n",
       "      <td>Матричные вычисления</td>\n",
       "      <td>Моделирование временных рядов</td>\n",
       "      <td>Системы баз данных</td>\n",
       "      <td>Промышленное программирование на языке Java</td>\n",
       "      <td>Дополнительные главы прикладной статистики</td>\n",
       "      <td>Да</td>\n",
       "      <td>0.369955</td>\n",
       "      <td>0.0</td>\n",
       "      <td></td>\n",
       "      <td>1.0</td>\n",
       "    </tr>\n",
       "    <tr>\n",
       "      <th>139</th>\n",
       "      <td>2020-05-18 21:27:02.445</td>\n",
       "      <td>ffc58d371e2f52e1c7f45d49d3d629d0</td>\n",
       "      <td>659</td>\n",
       "      <td>187.0</td>\n",
       "      <td>0.0</td>\n",
       "      <td>Матричные вычисления</td>\n",
       "      <td>Сбор и обработка данных с помощью краудсорсинга</td>\n",
       "      <td>Моделирование временных рядов</td>\n",
       "      <td>Системы баз данных</td>\n",
       "      <td>Промышленное программирование на языке Java</td>\n",
       "      <td>Дополнительные главы прикладной статистики</td>\n",
       "      <td>Нет</td>\n",
       "      <td>0.369955</td>\n",
       "      <td>0.0</td>\n",
       "      <td></td>\n",
       "      <td>1.0</td>\n",
       "    </tr>\n",
       "    <tr>\n",
       "      <th>141</th>\n",
       "      <td>2020-05-18 21:34:22.233</td>\n",
       "      <td>f8fab519d78047712c06798c8b7fe38f</td>\n",
       "      <td>561</td>\n",
       "      <td>185.0</td>\n",
       "      <td>1.0</td>\n",
       "      <td>Теория баз данных</td>\n",
       "      <td>Моделирование временных рядов</td>\n",
       "      <td>Язык SQL</td>\n",
       "      <td>Промышленное программирование на языке Java</td>\n",
       "      <td>Машинное обучение 2</td>\n",
       "      <td>Компьютерные сети</td>\n",
       "      <td>Да</td>\n",
       "      <td>0.822870</td>\n",
       "      <td>0.0</td>\n",
       "      <td></td>\n",
       "      <td>0.0</td>\n",
       "    </tr>\n",
       "    <tr>\n",
       "      <th>144</th>\n",
       "      <td>2020-05-18 21:36:52.845</td>\n",
       "      <td>9015b809a29fb65ce23d7addf16d770d</td>\n",
       "      <td>665</td>\n",
       "      <td>188.0</td>\n",
       "      <td>1.0</td>\n",
       "      <td>Моделирование временных рядов</td>\n",
       "      <td>Язык SQL</td>\n",
       "      <td>Матричные вычисления</td>\n",
       "      <td>Машинное обучение 2</td>\n",
       "      <td>Промышленное программирование на языке Java</td>\n",
       "      <td>Компьютерные сети</td>\n",
       "      <td>Да</td>\n",
       "      <td>0.338565</td>\n",
       "      <td>0.0</td>\n",
       "      <td></td>\n",
       "      <td>0.0</td>\n",
       "    </tr>\n",
       "    <tr>\n",
       "      <th>150</th>\n",
       "      <td>2020-05-18 21:49:22.233</td>\n",
       "      <td>f8fab519d78047712c06798c8b7fe38f</td>\n",
       "      <td>561</td>\n",
       "      <td>185.0</td>\n",
       "      <td>1.0</td>\n",
       "      <td>Моделирование временных рядов</td>\n",
       "      <td>Теория баз данных</td>\n",
       "      <td>Язык SQL</td>\n",
       "      <td>Промышленное программирование на языке Java</td>\n",
       "      <td>Машинное обучение 2</td>\n",
       "      <td>Компьютерные сети</td>\n",
       "      <td>Нет</td>\n",
       "      <td>0.822870</td>\n",
       "      <td>0.0</td>\n",
       "      <td></td>\n",
       "      <td>0.0</td>\n",
       "    </tr>\n",
       "    <tr>\n",
       "      <th>152</th>\n",
       "      <td>2020-05-18 21:51:52.845</td>\n",
       "      <td>9015b809a29fb65ce23d7addf16d770d</td>\n",
       "      <td>665</td>\n",
       "      <td>188.0</td>\n",
       "      <td>1.0</td>\n",
       "      <td>Язык SQL</td>\n",
       "      <td>Моделирование временных рядов</td>\n",
       "      <td>Матричные вычисления</td>\n",
       "      <td>Машинное обучение 2</td>\n",
       "      <td>Промышленное программирование на языке Java</td>\n",
       "      <td>Компьютерные сети</td>\n",
       "      <td>Нет</td>\n",
       "      <td>0.338565</td>\n",
       "      <td>0.0</td>\n",
       "      <td></td>\n",
       "      <td>0.0</td>\n",
       "    </tr>\n",
       "    <tr>\n",
       "      <th>174</th>\n",
       "      <td>2020-05-18 22:36:34.323</td>\n",
       "      <td>8aa0f1b7331b49464174b02cd693be52</td>\n",
       "      <td>567</td>\n",
       "      <td>187.0</td>\n",
       "      <td>0.0</td>\n",
       "      <td>Язык SQL</td>\n",
       "      <td>Безопасность компьютерных систем</td>\n",
       "      <td>Теория баз данных</td>\n",
       "      <td>Компьютерные сети</td>\n",
       "      <td>Промышленное программирование на языке Java</td>\n",
       "      <td>Системы баз данных</td>\n",
       "      <td>Да</td>\n",
       "      <td>0.795964</td>\n",
       "      <td>0.0</td>\n",
       "      <td></td>\n",
       "      <td>0.0</td>\n",
       "    </tr>\n",
       "    <tr>\n",
       "      <th>176</th>\n",
       "      <td>2020-05-18 22:51:34.323</td>\n",
       "      <td>8aa0f1b7331b49464174b02cd693be52</td>\n",
       "      <td>567</td>\n",
       "      <td>187.0</td>\n",
       "      <td>0.0</td>\n",
       "      <td>Безопасность компьютерных систем</td>\n",
       "      <td>Язык SQL</td>\n",
       "      <td>Теория баз данных</td>\n",
       "      <td>Компьютерные сети</td>\n",
       "      <td>Промышленное программирование на языке Java</td>\n",
       "      <td>Системы баз данных</td>\n",
       "      <td>Нет</td>\n",
       "      <td>0.795964</td>\n",
       "      <td>0.0</td>\n",
       "      <td></td>\n",
       "      <td>0.0</td>\n",
       "    </tr>\n",
       "    <tr>\n",
       "      <th>186</th>\n",
       "      <td>2020-05-18 23:20:28.235</td>\n",
       "      <td>86c24daaa62246142d46ee58534a65e0</td>\n",
       "      <td>530</td>\n",
       "      <td>184.0</td>\n",
       "      <td>0.0</td>\n",
       "      <td>Моделирование временных рядов</td>\n",
       "      <td>Сбор и обработка данных с помощью краудсорсинга</td>\n",
       "      <td>Теория баз данных</td>\n",
       "      <td>Анализ данных в бизнесе</td>\n",
       "      <td>Численные методы</td>\n",
       "      <td>Системы баз данных</td>\n",
       "      <td>Да</td>\n",
       "      <td>0.939462</td>\n",
       "      <td>0.0</td>\n",
       "      <td></td>\n",
       "      <td>0.0</td>\n",
       "    </tr>\n",
       "    <tr>\n",
       "      <th>192</th>\n",
       "      <td>2020-05-18 23:35:28.235</td>\n",
       "      <td>86c24daaa62246142d46ee58534a65e0</td>\n",
       "      <td>530</td>\n",
       "      <td>184.0</td>\n",
       "      <td>0.0</td>\n",
       "      <td>Сбор и обработка данных с помощью краудсорсинга</td>\n",
       "      <td>Моделирование временных рядов</td>\n",
       "      <td>Теория баз данных</td>\n",
       "      <td>Анализ данных в бизнесе</td>\n",
       "      <td>Численные методы</td>\n",
       "      <td>Системы баз данных</td>\n",
       "      <td>Нет</td>\n",
       "      <td>0.939462</td>\n",
       "      <td>0.0</td>\n",
       "      <td></td>\n",
       "      <td>0.0</td>\n",
       "    </tr>\n",
       "    <tr>\n",
       "      <th>196</th>\n",
       "      <td>2020-05-18 23:40:41.196</td>\n",
       "      <td>47e2d8bbb630bc2d9b3fbf98fe77cffb</td>\n",
       "      <td>616</td>\n",
       "      <td>188.0</td>\n",
       "      <td>0.0</td>\n",
       "      <td>Язык SQL</td>\n",
       "      <td>Сбор и обработка данных с помощью краудсорсинга</td>\n",
       "      <td>Высокопроизводительные вычисления</td>\n",
       "      <td>Компьютерные сети</td>\n",
       "      <td>Промышленное программирование на языке Java</td>\n",
       "      <td>Машинное обучение 2</td>\n",
       "      <td>Да</td>\n",
       "      <td>0.576233</td>\n",
       "      <td>0.0</td>\n",
       "      <td></td>\n",
       "      <td>0.0</td>\n",
       "    </tr>\n",
       "    <tr>\n",
       "      <th>204</th>\n",
       "      <td>2020-05-18 23:55:41.196</td>\n",
       "      <td>47e2d8bbb630bc2d9b3fbf98fe77cffb</td>\n",
       "      <td>616</td>\n",
       "      <td>188.0</td>\n",
       "      <td>0.0</td>\n",
       "      <td>Сбор и обработка данных с помощью краудсорсинга</td>\n",
       "      <td>Язык SQL</td>\n",
       "      <td>Высокопроизводительные вычисления</td>\n",
       "      <td>Компьютерные сети</td>\n",
       "      <td>Промышленное программирование на языке Java</td>\n",
       "      <td>Машинное обучение 2</td>\n",
       "      <td>Нет</td>\n",
       "      <td>0.576233</td>\n",
       "      <td>0.0</td>\n",
       "      <td></td>\n",
       "      <td>0.0</td>\n",
       "    </tr>\n",
       "    <tr>\n",
       "      <th>257</th>\n",
       "      <td>2020-05-17 15:30:40.828</td>\n",
       "      <td>906692ccd33f59058380aac1598c5480</td>\n",
       "      <td>1143</td>\n",
       "      <td>0.0</td>\n",
       "      <td>0.0</td>\n",
       "      <td>Байесовские методы машинного обучения</td>\n",
       "      <td>Анализ неструктурированных данных</td>\n",
       "      <td>Глубинное обучение в обработке звука</td>\n",
       "      <td>Обучение с подкреплением</td>\n",
       "      <td>Генеративные модели в машинном обучении</td>\n",
       "      <td>Компьютерное зрение</td>\n",
       "      <td>Да</td>\n",
       "      <td>0.547101</td>\n",
       "      <td>172.0</td>\n",
       "      <td>DevOps</td>\n",
       "      <td>0.0</td>\n",
       "    </tr>\n",
       "    <tr>\n",
       "      <th>259</th>\n",
       "      <td>2020-05-17 15:55:40.828</td>\n",
       "      <td>906692ccd33f59058380aac1598c5480</td>\n",
       "      <td>1143</td>\n",
       "      <td>0.0</td>\n",
       "      <td>0.0</td>\n",
       "      <td>Анализ неструктурированных данных</td>\n",
       "      <td>Байесовские методы машинного обучения</td>\n",
       "      <td>Глубинное обучение в обработке звука</td>\n",
       "      <td>Обучение с подкреплением</td>\n",
       "      <td>Генеративные модели в машинном обучении</td>\n",
       "      <td>Компьютерное зрение</td>\n",
       "      <td>Нет</td>\n",
       "      <td>0.547101</td>\n",
       "      <td>172.0</td>\n",
       "      <td>DevOps</td>\n",
       "      <td>0.0</td>\n",
       "    </tr>\n",
       "    <tr>\n",
       "      <th>300</th>\n",
       "      <td>2020-05-18 19:58:36.111</td>\n",
       "      <td>9a66d84568b8017d98eb2e678b57296b</td>\n",
       "      <td>1205</td>\n",
       "      <td>0.0</td>\n",
       "      <td>0.0</td>\n",
       "      <td>Глубинное обучение в обработке звука</td>\n",
       "      <td>Анализ неструктурированных данных</td>\n",
       "      <td>Байесовские методы машинного обучения</td>\n",
       "      <td>Обучение с подкреплением</td>\n",
       "      <td>Генеративные модели в машинном обучении</td>\n",
       "      <td>Компьютерное зрение</td>\n",
       "      <td>Да</td>\n",
       "      <td>0.293478</td>\n",
       "      <td>171.0</td>\n",
       "      <td>DevOps</td>\n",
       "      <td>0.0</td>\n",
       "    </tr>\n",
       "    <tr>\n",
       "      <th>302</th>\n",
       "      <td>2020-05-18 20:23:36.111</td>\n",
       "      <td>9a66d84568b8017d98eb2e678b57296b</td>\n",
       "      <td>1205</td>\n",
       "      <td>0.0</td>\n",
       "      <td>0.0</td>\n",
       "      <td>Анализ неструктурированных данных</td>\n",
       "      <td>Глубинное обучение в обработке звука</td>\n",
       "      <td>Байесовские методы машинного обучения</td>\n",
       "      <td>Обучение с подкреплением</td>\n",
       "      <td>Генеративные модели в машинном обучении</td>\n",
       "      <td>Компьютерное зрение</td>\n",
       "      <td>Нет</td>\n",
       "      <td>0.293478</td>\n",
       "      <td>171.0</td>\n",
       "      <td>DevOps</td>\n",
       "      <td>0.0</td>\n",
       "    </tr>\n",
       "    <tr>\n",
       "      <th>321</th>\n",
       "      <td>2020-05-18 22:15:28.531</td>\n",
       "      <td>d9c068e5578253c2b0721558dd0813e1</td>\n",
       "      <td>1075</td>\n",
       "      <td>0.0</td>\n",
       "      <td>0.0</td>\n",
       "      <td>Statistical Learning Theory</td>\n",
       "      <td>Анализ неструктурированных данных</td>\n",
       "      <td>Принятие решений в условиях риска и неопределё...</td>\n",
       "      <td>Конфликты и кооперация</td>\n",
       "      <td>Обучение с подкреплением</td>\n",
       "      <td>Символьные вычисления</td>\n",
       "      <td>Да</td>\n",
       "      <td>0.807971</td>\n",
       "      <td>174.0</td>\n",
       "      <td>DevOps</td>\n",
       "      <td>0.0</td>\n",
       "    </tr>\n",
       "    <tr>\n",
       "      <th>325</th>\n",
       "      <td>2020-05-18 22:40:28.531</td>\n",
       "      <td>d9c068e5578253c2b0721558dd0813e1</td>\n",
       "      <td>1075</td>\n",
       "      <td>0.0</td>\n",
       "      <td>0.0</td>\n",
       "      <td>Анализ неструктурированных данных</td>\n",
       "      <td>Statistical Learning Theory</td>\n",
       "      <td>Принятие решений в условиях риска и неопределё...</td>\n",
       "      <td>Конфликты и кооперация</td>\n",
       "      <td>Обучение с подкреплением</td>\n",
       "      <td>Символьные вычисления</td>\n",
       "      <td>Нет</td>\n",
       "      <td>0.807971</td>\n",
       "      <td>174.0</td>\n",
       "      <td>DevOps</td>\n",
       "      <td>0.0</td>\n",
       "    </tr>\n",
       "    <tr>\n",
       "      <th>333</th>\n",
       "      <td>2020-05-18 22:59:48.715</td>\n",
       "      <td>50f6d5b6a7fd6c8b1b8959f9ce1f808d</td>\n",
       "      <td>1086</td>\n",
       "      <td>0.0</td>\n",
       "      <td>0.0</td>\n",
       "      <td>Глубинное обучение в обработке звука</td>\n",
       "      <td>Анализ неструктурированных данных</td>\n",
       "      <td>Моделирование временных рядов</td>\n",
       "      <td>Обучение с подкреплением</td>\n",
       "      <td>Методы сжатия и передачи медиаданных</td>\n",
       "      <td>Проектирование и разработка высоконагруженных ...</td>\n",
       "      <td>Да</td>\n",
       "      <td>0.764493</td>\n",
       "      <td>174.0</td>\n",
       "      <td>DevOps</td>\n",
       "      <td>0.0</td>\n",
       "    </tr>\n",
       "    <tr>\n",
       "      <th>342</th>\n",
       "      <td>2020-05-18 23:24:48.715</td>\n",
       "      <td>50f6d5b6a7fd6c8b1b8959f9ce1f808d</td>\n",
       "      <td>1086</td>\n",
       "      <td>0.0</td>\n",
       "      <td>0.0</td>\n",
       "      <td>Анализ неструктурированных данных</td>\n",
       "      <td>Глубинное обучение в обработке звука</td>\n",
       "      <td>Моделирование временных рядов</td>\n",
       "      <td>Обучение с подкреплением</td>\n",
       "      <td>Методы сжатия и передачи медиаданных</td>\n",
       "      <td>Проектирование и разработка высоконагруженных ...</td>\n",
       "      <td>Нет</td>\n",
       "      <td>0.764493</td>\n",
       "      <td>174.0</td>\n",
       "      <td>DevOps</td>\n",
       "      <td>0.0</td>\n",
       "    </tr>\n",
       "  </tbody>\n",
       "</table>\n",
       "</div>"
      ],
      "text/plain": [
       "                  timestamp                                id  rating  \\\n",
       "22  2020-05-15 22:15:31.902  a65d50ef4fadfac64508a54e972d8623     626   \n",
       "23  2020-05-15 22:30:31.902  a65d50ef4fadfac64508a54e972d8623     626   \n",
       "29  2020-05-16 14:46:06.274  b121e4d7d62387cd5199cca464a34a6d     694   \n",
       "30  2020-05-16 15:01:06.274  b121e4d7d62387cd5199cca464a34a6d     694   \n",
       "97  2020-05-18 18:38:41.094  5ee2ad618729a6dc3bdb7f2858826ef0     628   \n",
       "98  2020-05-18 18:53:41.094  5ee2ad618729a6dc3bdb7f2858826ef0     628   \n",
       "121 2020-05-18 20:47:28.759  5c49473012411a1eee72f8ea63767adf     573   \n",
       "126 2020-05-18 21:02:28.759  5c49473012411a1eee72f8ea63767adf     573   \n",
       "129 2020-05-18 21:12:02.445  ffc58d371e2f52e1c7f45d49d3d629d0     659   \n",
       "139 2020-05-18 21:27:02.445  ffc58d371e2f52e1c7f45d49d3d629d0     659   \n",
       "141 2020-05-18 21:34:22.233  f8fab519d78047712c06798c8b7fe38f     561   \n",
       "144 2020-05-18 21:36:52.845  9015b809a29fb65ce23d7addf16d770d     665   \n",
       "150 2020-05-18 21:49:22.233  f8fab519d78047712c06798c8b7fe38f     561   \n",
       "152 2020-05-18 21:51:52.845  9015b809a29fb65ce23d7addf16d770d     665   \n",
       "174 2020-05-18 22:36:34.323  8aa0f1b7331b49464174b02cd693be52     567   \n",
       "176 2020-05-18 22:51:34.323  8aa0f1b7331b49464174b02cd693be52     567   \n",
       "186 2020-05-18 23:20:28.235  86c24daaa62246142d46ee58534a65e0     530   \n",
       "192 2020-05-18 23:35:28.235  86c24daaa62246142d46ee58534a65e0     530   \n",
       "196 2020-05-18 23:40:41.196  47e2d8bbb630bc2d9b3fbf98fe77cffb     616   \n",
       "204 2020-05-18 23:55:41.196  47e2d8bbb630bc2d9b3fbf98fe77cffb     616   \n",
       "257 2020-05-17 15:30:40.828  906692ccd33f59058380aac1598c5480    1143   \n",
       "259 2020-05-17 15:55:40.828  906692ccd33f59058380aac1598c5480    1143   \n",
       "300 2020-05-18 19:58:36.111  9a66d84568b8017d98eb2e678b57296b    1205   \n",
       "302 2020-05-18 20:23:36.111  9a66d84568b8017d98eb2e678b57296b    1205   \n",
       "321 2020-05-18 22:15:28.531  d9c068e5578253c2b0721558dd0813e1    1075   \n",
       "325 2020-05-18 22:40:28.531  d9c068e5578253c2b0721558dd0813e1    1075   \n",
       "333 2020-05-18 22:59:48.715  50f6d5b6a7fd6c8b1b8959f9ce1f808d    1086   \n",
       "342 2020-05-18 23:24:48.715  50f6d5b6a7fd6c8b1b8959f9ce1f808d    1086   \n",
       "\n",
       "     18_group  is_mi                                           fall_1  \\\n",
       "22      184.0    0.0                Высокопроизводительные вычисления   \n",
       "23      184.0    0.0                 Безопасность компьютерных систем   \n",
       "29      185.0    0.0                                Теория баз данных   \n",
       "30      185.0    0.0                 Безопасность компьютерных систем   \n",
       "97      185.0    0.0                                         Язык SQL   \n",
       "98      185.0    0.0                 Безопасность компьютерных систем   \n",
       "121     183.0    0.0                                         Язык SQL   \n",
       "126     183.0    0.0                 Безопасность компьютерных систем   \n",
       "129     187.0    0.0  Сбор и обработка данных с помощью краудсорсинга   \n",
       "139     187.0    0.0                             Матричные вычисления   \n",
       "141     185.0    1.0                                Теория баз данных   \n",
       "144     188.0    1.0                    Моделирование временных рядов   \n",
       "150     185.0    1.0                    Моделирование временных рядов   \n",
       "152     188.0    1.0                                         Язык SQL   \n",
       "174     187.0    0.0                                         Язык SQL   \n",
       "176     187.0    0.0                 Безопасность компьютерных систем   \n",
       "186     184.0    0.0                    Моделирование временных рядов   \n",
       "192     184.0    0.0  Сбор и обработка данных с помощью краудсорсинга   \n",
       "196     188.0    0.0                                         Язык SQL   \n",
       "204     188.0    0.0  Сбор и обработка данных с помощью краудсорсинга   \n",
       "257       0.0    0.0            Байесовские методы машинного обучения   \n",
       "259       0.0    0.0                Анализ неструктурированных данных   \n",
       "300       0.0    0.0             Глубинное обучение в обработке звука   \n",
       "302       0.0    0.0                Анализ неструктурированных данных   \n",
       "321       0.0    0.0                      Statistical Learning Theory   \n",
       "325       0.0    0.0                Анализ неструктурированных данных   \n",
       "333       0.0    0.0             Глубинное обучение в обработке звука   \n",
       "342       0.0    0.0                Анализ неструктурированных данных   \n",
       "\n",
       "                                              fall_2  \\\n",
       "22                  Безопасность компьютерных систем   \n",
       "23                 Высокопроизводительные вычисления   \n",
       "29                  Безопасность компьютерных систем   \n",
       "30                                 Теория баз данных   \n",
       "97                  Безопасность компьютерных систем   \n",
       "98                                          Язык SQL   \n",
       "121                 Безопасность компьютерных систем   \n",
       "126                                         Язык SQL   \n",
       "129                             Матричные вычисления   \n",
       "139  Сбор и обработка данных с помощью краудсорсинга   \n",
       "141                    Моделирование временных рядов   \n",
       "144                                         Язык SQL   \n",
       "150                                Теория баз данных   \n",
       "152                    Моделирование временных рядов   \n",
       "174                 Безопасность компьютерных систем   \n",
       "176                                         Язык SQL   \n",
       "186  Сбор и обработка данных с помощью краудсорсинга   \n",
       "192                    Моделирование временных рядов   \n",
       "196  Сбор и обработка данных с помощью краудсорсинга   \n",
       "204                                         Язык SQL   \n",
       "257                Анализ неструктурированных данных   \n",
       "259            Байесовские методы машинного обучения   \n",
       "300                Анализ неструктурированных данных   \n",
       "302             Глубинное обучение в обработке звука   \n",
       "321                Анализ неструктурированных данных   \n",
       "325                      Statistical Learning Theory   \n",
       "333                Анализ неструктурированных данных   \n",
       "342             Глубинное обучение в обработке звука   \n",
       "\n",
       "                                                fall_3  \\\n",
       "22                                Матричные вычисления   \n",
       "23                                Матричные вычисления   \n",
       "29                                            Язык SQL   \n",
       "30                                            Язык SQL   \n",
       "97                                   Теория баз данных   \n",
       "98                                   Теория баз данных   \n",
       "121                                  Теория баз данных   \n",
       "126                                  Теория баз данных   \n",
       "129                      Моделирование временных рядов   \n",
       "139                      Моделирование временных рядов   \n",
       "141                                           Язык SQL   \n",
       "144                               Матричные вычисления   \n",
       "150                                           Язык SQL   \n",
       "152                               Матричные вычисления   \n",
       "174                                  Теория баз данных   \n",
       "176                                  Теория баз данных   \n",
       "186                                  Теория баз данных   \n",
       "192                                  Теория баз данных   \n",
       "196                  Высокопроизводительные вычисления   \n",
       "204                  Высокопроизводительные вычисления   \n",
       "257               Глубинное обучение в обработке звука   \n",
       "259               Глубинное обучение в обработке звука   \n",
       "300              Байесовские методы машинного обучения   \n",
       "302              Байесовские методы машинного обучения   \n",
       "321  Принятие решений в условиях риска и неопределё...   \n",
       "325  Принятие решений в условиях риска и неопределё...   \n",
       "333                      Моделирование временных рядов   \n",
       "342                      Моделирование временных рядов   \n",
       "\n",
       "                                        spring_1  \\\n",
       "22                        Дискретная оптимизация   \n",
       "23                        Дискретная оптимизация   \n",
       "29                           Машинное обучение 2   \n",
       "30                           Машинное обучение 2   \n",
       "97                             Компьютерные сети   \n",
       "98                             Компьютерные сети   \n",
       "121  Промышленное программирование на языке Java   \n",
       "126  Промышленное программирование на языке Java   \n",
       "129                           Системы баз данных   \n",
       "139                           Системы баз данных   \n",
       "141  Промышленное программирование на языке Java   \n",
       "144                          Машинное обучение 2   \n",
       "150  Промышленное программирование на языке Java   \n",
       "152                          Машинное обучение 2   \n",
       "174                            Компьютерные сети   \n",
       "176                            Компьютерные сети   \n",
       "186                      Анализ данных в бизнесе   \n",
       "192                      Анализ данных в бизнесе   \n",
       "196                            Компьютерные сети   \n",
       "204                            Компьютерные сети   \n",
       "257                     Обучение с подкреплением   \n",
       "259                     Обучение с подкреплением   \n",
       "300                     Обучение с подкреплением   \n",
       "302                     Обучение с подкреплением   \n",
       "321                       Конфликты и кооперация   \n",
       "325                       Конфликты и кооперация   \n",
       "333                     Обучение с подкреплением   \n",
       "342                     Обучение с подкреплением   \n",
       "\n",
       "                                        spring_2  \\\n",
       "22                              Численные методы   \n",
       "23                              Численные методы   \n",
       "29                             Компьютерные сети   \n",
       "30                             Компьютерные сети   \n",
       "97   Промышленное программирование на языке Java   \n",
       "98   Промышленное программирование на языке Java   \n",
       "121                            Компьютерные сети   \n",
       "126                            Компьютерные сети   \n",
       "129  Промышленное программирование на языке Java   \n",
       "139  Промышленное программирование на языке Java   \n",
       "141                          Машинное обучение 2   \n",
       "144  Промышленное программирование на языке Java   \n",
       "150                          Машинное обучение 2   \n",
       "152  Промышленное программирование на языке Java   \n",
       "174  Промышленное программирование на языке Java   \n",
       "176  Промышленное программирование на языке Java   \n",
       "186                             Численные методы   \n",
       "192                             Численные методы   \n",
       "196  Промышленное программирование на языке Java   \n",
       "204  Промышленное программирование на языке Java   \n",
       "257      Генеративные модели в машинном обучении   \n",
       "259      Генеративные модели в машинном обучении   \n",
       "300      Генеративные модели в машинном обучении   \n",
       "302      Генеративные модели в машинном обучении   \n",
       "321                     Обучение с подкреплением   \n",
       "325                     Обучение с подкреплением   \n",
       "333         Методы сжатия и передачи медиаданных   \n",
       "342         Методы сжатия и передачи медиаданных   \n",
       "\n",
       "                                              spring_3 is_first_time  \\\n",
       "22                             Анализ данных в бизнесе            Да   \n",
       "23                             Анализ данных в бизнесе           Нет   \n",
       "29         Промышленное программирование на языке Java            Да   \n",
       "30         Промышленное программирование на языке Java           Нет   \n",
       "97                              Дискретная оптимизация            Да   \n",
       "98                              Дискретная оптимизация           Нет   \n",
       "121                             Дискретная оптимизация            Да   \n",
       "126                             Дискретная оптимизация           Нет   \n",
       "129         Дополнительные главы прикладной статистики            Да   \n",
       "139         Дополнительные главы прикладной статистики           Нет   \n",
       "141                                  Компьютерные сети            Да   \n",
       "144                                  Компьютерные сети            Да   \n",
       "150                                  Компьютерные сети           Нет   \n",
       "152                                  Компьютерные сети           Нет   \n",
       "174                                 Системы баз данных            Да   \n",
       "176                                 Системы баз данных           Нет   \n",
       "186                                 Системы баз данных            Да   \n",
       "192                                 Системы баз данных           Нет   \n",
       "196                                Машинное обучение 2            Да   \n",
       "204                                Машинное обучение 2           Нет   \n",
       "257                                Компьютерное зрение            Да   \n",
       "259                                Компьютерное зрение           Нет   \n",
       "300                                Компьютерное зрение            Да   \n",
       "302                                Компьютерное зрение           Нет   \n",
       "321                              Символьные вычисления            Да   \n",
       "325                              Символьные вычисления           Нет   \n",
       "333  Проектирование и разработка высоконагруженных ...            Да   \n",
       "342  Проектирование и разработка высоконагруженных ...           Нет   \n",
       "\n",
       "     percentile  17_group blended  is_ml_student  \n",
       "22     0.526906       0.0                    0.0  \n",
       "23     0.526906       0.0                    0.0  \n",
       "29     0.204036       0.0                    0.0  \n",
       "30     0.204036       0.0                    0.0  \n",
       "97     0.513453       0.0                    0.0  \n",
       "98     0.513453       0.0                    0.0  \n",
       "121    0.773543       0.0                    0.0  \n",
       "126    0.773543       0.0                    0.0  \n",
       "129    0.369955       0.0                    1.0  \n",
       "139    0.369955       0.0                    1.0  \n",
       "141    0.822870       0.0                    0.0  \n",
       "144    0.338565       0.0                    0.0  \n",
       "150    0.822870       0.0                    0.0  \n",
       "152    0.338565       0.0                    0.0  \n",
       "174    0.795964       0.0                    0.0  \n",
       "176    0.795964       0.0                    0.0  \n",
       "186    0.939462       0.0                    0.0  \n",
       "192    0.939462       0.0                    0.0  \n",
       "196    0.576233       0.0                    0.0  \n",
       "204    0.576233       0.0                    0.0  \n",
       "257    0.547101     172.0  DevOps            0.0  \n",
       "259    0.547101     172.0  DevOps            0.0  \n",
       "300    0.293478     171.0  DevOps            0.0  \n",
       "302    0.293478     171.0  DevOps            0.0  \n",
       "321    0.807971     174.0  DevOps            0.0  \n",
       "325    0.807971     174.0  DevOps            0.0  \n",
       "333    0.764493     174.0  DevOps            0.0  \n",
       "342    0.764493     174.0  DevOps            0.0  "
      ]
     },
     "execution_count": 27,
     "metadata": {},
     "output_type": "execute_result"
    }
   ],
   "source": [
    "data[data.id.duplicated(keep=False)]"
   ]
  },
  {
   "cell_type": "code",
   "execution_count": 28,
   "metadata": {
    "scrolled": true
   },
   "outputs": [],
   "source": [
    "data = data.groupby('id', as_index=False).apply(lambda x: x.loc[x.timestamp.idxmax()])"
   ]
  },
  {
   "cell_type": "code",
   "execution_count": 29,
   "metadata": {
    "scrolled": true
   },
   "outputs": [
    {
     "data": {
      "text/html": [
       "<div>\n",
       "<style scoped>\n",
       "    .dataframe tbody tr th:only-of-type {\n",
       "        vertical-align: middle;\n",
       "    }\n",
       "\n",
       "    .dataframe tbody tr th {\n",
       "        vertical-align: top;\n",
       "    }\n",
       "\n",
       "    .dataframe thead th {\n",
       "        text-align: right;\n",
       "    }\n",
       "</style>\n",
       "<table border=\"1\" class=\"dataframe\">\n",
       "  <thead>\n",
       "    <tr style=\"text-align: right;\">\n",
       "      <th></th>\n",
       "      <th>timestamp</th>\n",
       "      <th>id</th>\n",
       "      <th>rating</th>\n",
       "      <th>18_group</th>\n",
       "      <th>is_mi</th>\n",
       "      <th>fall_1</th>\n",
       "      <th>fall_2</th>\n",
       "      <th>fall_3</th>\n",
       "      <th>spring_1</th>\n",
       "      <th>spring_2</th>\n",
       "      <th>spring_3</th>\n",
       "      <th>is_first_time</th>\n",
       "      <th>percentile</th>\n",
       "      <th>17_group</th>\n",
       "      <th>blended</th>\n",
       "      <th>is_ml_student</th>\n",
       "    </tr>\n",
       "  </thead>\n",
       "  <tbody>\n",
       "    <tr>\n",
       "      <th>112</th>\n",
       "      <td>2020-05-18 18:53:41.094</td>\n",
       "      <td>5ee2ad618729a6dc3bdb7f2858826ef0</td>\n",
       "      <td>628</td>\n",
       "      <td>185.0</td>\n",
       "      <td>0.0</td>\n",
       "      <td>Безопасность компьютерных систем</td>\n",
       "      <td>Язык SQL</td>\n",
       "      <td>Теория баз данных</td>\n",
       "      <td>Компьютерные сети</td>\n",
       "      <td>Промышленное программирование на языке Java</td>\n",
       "      <td>Дискретная оптимизация</td>\n",
       "      <td>Нет</td>\n",
       "      <td>0.513453</td>\n",
       "      <td>0.0</td>\n",
       "      <td></td>\n",
       "      <td>0.0</td>\n",
       "    </tr>\n",
       "  </tbody>\n",
       "</table>\n",
       "</div>"
      ],
      "text/plain": [
       "                  timestamp                                id  rating  \\\n",
       "112 2020-05-18 18:53:41.094  5ee2ad618729a6dc3bdb7f2858826ef0     628   \n",
       "\n",
       "     18_group  is_mi                            fall_1    fall_2  \\\n",
       "112     185.0    0.0  Безопасность компьютерных систем  Язык SQL   \n",
       "\n",
       "                fall_3           spring_1  \\\n",
       "112  Теория баз данных  Компьютерные сети   \n",
       "\n",
       "                                        spring_2                spring_3  \\\n",
       "112  Промышленное программирование на языке Java  Дискретная оптимизация   \n",
       "\n",
       "    is_first_time  percentile  17_group blended  is_ml_student  \n",
       "112           Нет    0.513453       0.0                    0.0  "
      ]
     },
     "execution_count": 29,
     "metadata": {},
     "output_type": "execute_result"
    }
   ],
   "source": [
    "# Действительно осталась только последняя запись\n",
    "\n",
    "data[data.id == '5ee2ad618729a6dc3bdb7f2858826ef0']"
   ]
  },
  {
   "cell_type": "markdown",
   "metadata": {},
   "source": [
    "#### 5. [0.5 балла] Какие  blended-курсы для четверокурсников существуют? На какой blended-курс записалось наибольшее количество студентов? На каком из курсов собрались студенты с самым высоким средним рейтингом? "
   ]
  },
  {
   "cell_type": "code",
   "execution_count": 30,
   "metadata": {},
   "outputs": [
    {
     "data": {
      "text/plain": [
       "['Соревновательный анализ данных',\n",
       " 'DevOps',\n",
       " 'Введение в дифференциальную геометрию']"
      ]
     },
     "execution_count": 30,
     "metadata": {},
     "output_type": "execute_result"
    }
   ],
   "source": [
    "data[data['17_group'] > 0].blended.unique().tolist()"
   ]
  },
  {
   "cell_type": "code",
   "execution_count": 31,
   "metadata": {},
   "outputs": [],
   "source": [
    "count_popular_blended_17 = data[data['17_group'] > 0].groupby('blended').size()\n",
    "mean_rating_blended_17 = data[data['17_group'] > 0].groupby('blended').agg({'rating': 'mean'})"
   ]
  },
  {
   "cell_type": "code",
   "execution_count": 32,
   "metadata": {},
   "outputs": [
    {
     "data": {
      "text/plain": [
       "blended\n",
       "DevOps                                   87\n",
       "Введение в дифференциальную геометрию    15\n",
       "Соревновательный анализ данных           32\n",
       "dtype: int64"
      ]
     },
     "execution_count": 32,
     "metadata": {},
     "output_type": "execute_result"
    }
   ],
   "source": [
    "count_popular_blended_17"
   ]
  },
  {
   "cell_type": "code",
   "execution_count": 33,
   "metadata": {},
   "outputs": [
    {
     "data": {
      "text/plain": [
       "'DevOps'"
      ]
     },
     "execution_count": 33,
     "metadata": {},
     "output_type": "execute_result"
    }
   ],
   "source": [
    "most_popular_blended_17 = count_popular_blended_17.idxmax()\n",
    "most_popular_blended_17"
   ]
  },
  {
   "cell_type": "code",
   "execution_count": 34,
   "metadata": {
    "scrolled": true
   },
   "outputs": [
    {
     "data": {
      "text/html": [
       "<div>\n",
       "<style scoped>\n",
       "    .dataframe tbody tr th:only-of-type {\n",
       "        vertical-align: middle;\n",
       "    }\n",
       "\n",
       "    .dataframe tbody tr th {\n",
       "        vertical-align: top;\n",
       "    }\n",
       "\n",
       "    .dataframe thead th {\n",
       "        text-align: right;\n",
       "    }\n",
       "</style>\n",
       "<table border=\"1\" class=\"dataframe\">\n",
       "  <thead>\n",
       "    <tr style=\"text-align: right;\">\n",
       "      <th></th>\n",
       "      <th>rating</th>\n",
       "    </tr>\n",
       "    <tr>\n",
       "      <th>blended</th>\n",
       "      <th></th>\n",
       "    </tr>\n",
       "  </thead>\n",
       "  <tbody>\n",
       "    <tr>\n",
       "      <th>DevOps</th>\n",
       "      <td>1154.172414</td>\n",
       "    </tr>\n",
       "    <tr>\n",
       "      <th>Введение в дифференциальную геометрию</th>\n",
       "      <td>1210.733333</td>\n",
       "    </tr>\n",
       "    <tr>\n",
       "      <th>Соревновательный анализ данных</th>\n",
       "      <td>1144.218750</td>\n",
       "    </tr>\n",
       "  </tbody>\n",
       "</table>\n",
       "</div>"
      ],
      "text/plain": [
       "                                            rating\n",
       "blended                                           \n",
       "DevOps                                 1154.172414\n",
       "Введение в дифференциальную геометрию  1210.733333\n",
       "Соревновательный анализ данных         1144.218750"
      ]
     },
     "execution_count": 34,
     "metadata": {},
     "output_type": "execute_result"
    }
   ],
   "source": [
    "mean_rating_blended_17"
   ]
  },
  {
   "cell_type": "code",
   "execution_count": 35,
   "metadata": {},
   "outputs": [
    {
     "data": {
      "text/plain": [
       "rating    Введение в дифференциальную геометрию\n",
       "dtype: object"
      ]
     },
     "execution_count": 35,
     "metadata": {},
     "output_type": "execute_result"
    }
   ],
   "source": [
    "most_highrated_blended_17 = mean_rating_blended_17.idxmax()\n",
    "most_highrated_blended_17"
   ]
  },
  {
   "cell_type": "markdown",
   "metadata": {},
   "source": [
    "#### 6. [1 балл] Выясните, есть ли в данных студенты с абсолютно одинаковыми предпочтениями по всем курсам (не забудьте учесть blended-курсы для четверокурсников). Сколько таких наборов, которые взяли несколько студентов? Выведите их все вместе с количеством выбравших их студентов."
   ]
  },
  {
   "cell_type": "code",
   "execution_count": 36,
   "metadata": {},
   "outputs": [],
   "source": [
    "columns_courses = ['fall_1', 'fall_2', 'fall_3', 'spring_1', 'spring_2', 'spring_3', 'blended']\n",
    "df_groupby_courses = data.groupby(columns_courses).size()"
   ]
  },
  {
   "cell_type": "code",
   "execution_count": 37,
   "metadata": {
    "scrolled": true
   },
   "outputs": [
    {
     "data": {
      "text/html": [
       "<div>\n",
       "<style scoped>\n",
       "    .dataframe tbody tr th:only-of-type {\n",
       "        vertical-align: middle;\n",
       "    }\n",
       "\n",
       "    .dataframe tbody tr th {\n",
       "        vertical-align: top;\n",
       "    }\n",
       "\n",
       "    .dataframe thead th {\n",
       "        text-align: right;\n",
       "    }\n",
       "</style>\n",
       "<table border=\"1\" class=\"dataframe\">\n",
       "  <thead>\n",
       "    <tr style=\"text-align: right;\">\n",
       "      <th></th>\n",
       "      <th>fall_1</th>\n",
       "      <th>fall_2</th>\n",
       "      <th>fall_3</th>\n",
       "      <th>spring_1</th>\n",
       "      <th>spring_2</th>\n",
       "      <th>spring_3</th>\n",
       "      <th>blended</th>\n",
       "      <th>count</th>\n",
       "    </tr>\n",
       "  </thead>\n",
       "  <tbody>\n",
       "    <tr>\n",
       "      <th>0</th>\n",
       "      <td>Statistical Learning Theory</td>\n",
       "      <td>Анализ неструктурированных данных</td>\n",
       "      <td>Сбор и обработка данных с помощью краудсорсинга</td>\n",
       "      <td>Обучение с подкреплением</td>\n",
       "      <td>Конфликты и кооперация</td>\n",
       "      <td>Компьютерное зрение</td>\n",
       "      <td>DevOps</td>\n",
       "      <td>2</td>\n",
       "    </tr>\n",
       "    <tr>\n",
       "      <th>1</th>\n",
       "      <td>Байесовские методы машинного обучения</td>\n",
       "      <td>Анализ неструктурированных данных</td>\n",
       "      <td>Глубинное обучение в обработке звука</td>\n",
       "      <td>Обучение с подкреплением</td>\n",
       "      <td>Генеративные модели в машинном обучении</td>\n",
       "      <td>Компьютерное зрение</td>\n",
       "      <td>DevOps</td>\n",
       "      <td>2</td>\n",
       "    </tr>\n",
       "    <tr>\n",
       "      <th>2</th>\n",
       "      <td>Байесовские методы машинного обучения</td>\n",
       "      <td>Анализ неструктурированных данных</td>\n",
       "      <td>Сбор и обработка данных с помощью краудсорсинга</td>\n",
       "      <td>Обучение с подкреплением</td>\n",
       "      <td>Компьютерное зрение</td>\n",
       "      <td>Генеративные модели в машинном обучении</td>\n",
       "      <td>DevOps</td>\n",
       "      <td>2</td>\n",
       "    </tr>\n",
       "    <tr>\n",
       "      <th>3</th>\n",
       "      <td>Безопасность компьютерных систем</td>\n",
       "      <td>Statistical Learning Theory</td>\n",
       "      <td>Матричные вычисления</td>\n",
       "      <td>Дискретная оптимизация</td>\n",
       "      <td>Промышленное программирование на языке Java</td>\n",
       "      <td>Дополнительные главы прикладной статистики</td>\n",
       "      <td></td>\n",
       "      <td>3</td>\n",
       "    </tr>\n",
       "    <tr>\n",
       "      <th>4</th>\n",
       "      <td>Безопасность компьютерных систем</td>\n",
       "      <td>Высокопроизводительные вычисления</td>\n",
       "      <td>Анализ неструктурированных данных</td>\n",
       "      <td>Проектирование и разработка высоконагруженных ...</td>\n",
       "      <td>Методы сжатия и передачи медиаданных</td>\n",
       "      <td>Конфликты и кооперация</td>\n",
       "      <td>DevOps</td>\n",
       "      <td>2</td>\n",
       "    </tr>\n",
       "    <tr>\n",
       "      <th>5</th>\n",
       "      <td>Безопасность компьютерных систем</td>\n",
       "      <td>Высокопроизводительные вычисления</td>\n",
       "      <td>Язык SQL</td>\n",
       "      <td>Компьютерные сети</td>\n",
       "      <td>Промышленное программирование на языке Java</td>\n",
       "      <td>Дискретная оптимизация</td>\n",
       "      <td></td>\n",
       "      <td>3</td>\n",
       "    </tr>\n",
       "    <tr>\n",
       "      <th>6</th>\n",
       "      <td>Безопасность компьютерных систем</td>\n",
       "      <td>Высокопроизводительные вычисления</td>\n",
       "      <td>Язык SQL</td>\n",
       "      <td>Промышленное программирование на языке Java</td>\n",
       "      <td>Компьютерные сети</td>\n",
       "      <td>Системы баз данных</td>\n",
       "      <td></td>\n",
       "      <td>2</td>\n",
       "    </tr>\n",
       "    <tr>\n",
       "      <th>7</th>\n",
       "      <td>Безопасность компьютерных систем</td>\n",
       "      <td>Матричные вычисления</td>\n",
       "      <td>Моделирование временных рядов</td>\n",
       "      <td>Промышленное программирование на языке Java</td>\n",
       "      <td>Компьютерные сети</td>\n",
       "      <td>Дискретная оптимизация</td>\n",
       "      <td></td>\n",
       "      <td>2</td>\n",
       "    </tr>\n",
       "    <tr>\n",
       "      <th>8</th>\n",
       "      <td>Безопасность компьютерных систем</td>\n",
       "      <td>Сбор и обработка данных с помощью краудсорсинга</td>\n",
       "      <td>Матричные вычисления</td>\n",
       "      <td>Компьютерные сети</td>\n",
       "      <td>Промышленное программирование на языке Java</td>\n",
       "      <td>Анализ данных в бизнесе</td>\n",
       "      <td></td>\n",
       "      <td>2</td>\n",
       "    </tr>\n",
       "    <tr>\n",
       "      <th>9</th>\n",
       "      <td>Безопасность компьютерных систем</td>\n",
       "      <td>Теория баз данных</td>\n",
       "      <td>Язык SQL</td>\n",
       "      <td>Машинное обучение 2</td>\n",
       "      <td>Компьютерные сети</td>\n",
       "      <td>Промышленное программирование на языке Java</td>\n",
       "      <td></td>\n",
       "      <td>2</td>\n",
       "    </tr>\n",
       "    <tr>\n",
       "      <th>10</th>\n",
       "      <td>Высокопроизводительные вычисления</td>\n",
       "      <td>Безопасность компьютерных систем</td>\n",
       "      <td>Сбор и обработка данных с помощью краудсорсинга</td>\n",
       "      <td>Проектирование и разработка высоконагруженных ...</td>\n",
       "      <td>Методы сжатия и передачи медиаданных</td>\n",
       "      <td>Компьютерное зрение</td>\n",
       "      <td>DevOps</td>\n",
       "      <td>2</td>\n",
       "    </tr>\n",
       "    <tr>\n",
       "      <th>11</th>\n",
       "      <td>Высокопроизводительные вычисления</td>\n",
       "      <td>Сбор и обработка данных с помощью краудсорсинга</td>\n",
       "      <td>Моделирование временных рядов</td>\n",
       "      <td>Проектирование и разработка высоконагруженных ...</td>\n",
       "      <td>Методы сжатия и передачи медиаданных</td>\n",
       "      <td>Методы сжатия и передачи медиаданных</td>\n",
       "      <td>DevOps</td>\n",
       "      <td>2</td>\n",
       "    </tr>\n",
       "    <tr>\n",
       "      <th>12</th>\n",
       "      <td>Моделирование временных рядов</td>\n",
       "      <td>Сбор и обработка данных с помощью краудсорсинга</td>\n",
       "      <td>Безопасность компьютерных систем</td>\n",
       "      <td>Компьютерные сети</td>\n",
       "      <td>Дополнительные главы прикладной статистики</td>\n",
       "      <td>Системы баз данных</td>\n",
       "      <td></td>\n",
       "      <td>2</td>\n",
       "    </tr>\n",
       "    <tr>\n",
       "      <th>13</th>\n",
       "      <td>Сбор и обработка данных с помощью краудсорсинга</td>\n",
       "      <td>Язык SQL</td>\n",
       "      <td>Теория баз данных</td>\n",
       "      <td>Промышленное программирование на языке Java</td>\n",
       "      <td>Машинное обучение 2</td>\n",
       "      <td>Компьютерные сети</td>\n",
       "      <td></td>\n",
       "      <td>2</td>\n",
       "    </tr>\n",
       "    <tr>\n",
       "      <th>14</th>\n",
       "      <td>Язык SQL</td>\n",
       "      <td>Высокопроизводительные вычисления</td>\n",
       "      <td>Теория баз данных</td>\n",
       "      <td>Компьютерные сети</td>\n",
       "      <td>Промышленное программирование на языке Java</td>\n",
       "      <td>Дискретная оптимизация</td>\n",
       "      <td></td>\n",
       "      <td>2</td>\n",
       "    </tr>\n",
       "  </tbody>\n",
       "</table>\n",
       "</div>"
      ],
      "text/plain": [
       "                                             fall_1  \\\n",
       "0                       Statistical Learning Theory   \n",
       "1             Байесовские методы машинного обучения   \n",
       "2             Байесовские методы машинного обучения   \n",
       "3                  Безопасность компьютерных систем   \n",
       "4                  Безопасность компьютерных систем   \n",
       "5                  Безопасность компьютерных систем   \n",
       "6                  Безопасность компьютерных систем   \n",
       "7                  Безопасность компьютерных систем   \n",
       "8                  Безопасность компьютерных систем   \n",
       "9                  Безопасность компьютерных систем   \n",
       "10                Высокопроизводительные вычисления   \n",
       "11                Высокопроизводительные вычисления   \n",
       "12                    Моделирование временных рядов   \n",
       "13  Сбор и обработка данных с помощью краудсорсинга   \n",
       "14                                         Язык SQL   \n",
       "\n",
       "                                             fall_2  \\\n",
       "0                 Анализ неструктурированных данных   \n",
       "1                 Анализ неструктурированных данных   \n",
       "2                 Анализ неструктурированных данных   \n",
       "3                       Statistical Learning Theory   \n",
       "4                 Высокопроизводительные вычисления   \n",
       "5                 Высокопроизводительные вычисления   \n",
       "6                 Высокопроизводительные вычисления   \n",
       "7                              Матричные вычисления   \n",
       "8   Сбор и обработка данных с помощью краудсорсинга   \n",
       "9                                 Теория баз данных   \n",
       "10                 Безопасность компьютерных систем   \n",
       "11  Сбор и обработка данных с помощью краудсорсинга   \n",
       "12  Сбор и обработка данных с помощью краудсорсинга   \n",
       "13                                         Язык SQL   \n",
       "14                Высокопроизводительные вычисления   \n",
       "\n",
       "                                             fall_3  \\\n",
       "0   Сбор и обработка данных с помощью краудсорсинга   \n",
       "1              Глубинное обучение в обработке звука   \n",
       "2   Сбор и обработка данных с помощью краудсорсинга   \n",
       "3                              Матричные вычисления   \n",
       "4                 Анализ неструктурированных данных   \n",
       "5                                          Язык SQL   \n",
       "6                                          Язык SQL   \n",
       "7                     Моделирование временных рядов   \n",
       "8                              Матричные вычисления   \n",
       "9                                          Язык SQL   \n",
       "10  Сбор и обработка данных с помощью краудсорсинга   \n",
       "11                    Моделирование временных рядов   \n",
       "12                 Безопасность компьютерных систем   \n",
       "13                                Теория баз данных   \n",
       "14                                Теория баз данных   \n",
       "\n",
       "                                             spring_1  \\\n",
       "0                            Обучение с подкреплением   \n",
       "1                            Обучение с подкреплением   \n",
       "2                            Обучение с подкреплением   \n",
       "3                              Дискретная оптимизация   \n",
       "4   Проектирование и разработка высоконагруженных ...   \n",
       "5                                   Компьютерные сети   \n",
       "6         Промышленное программирование на языке Java   \n",
       "7         Промышленное программирование на языке Java   \n",
       "8                                   Компьютерные сети   \n",
       "9                                 Машинное обучение 2   \n",
       "10  Проектирование и разработка высоконагруженных ...   \n",
       "11  Проектирование и разработка высоконагруженных ...   \n",
       "12                                  Компьютерные сети   \n",
       "13        Промышленное программирование на языке Java   \n",
       "14                                  Компьютерные сети   \n",
       "\n",
       "                                       spring_2  \\\n",
       "0                        Конфликты и кооперация   \n",
       "1       Генеративные модели в машинном обучении   \n",
       "2                           Компьютерное зрение   \n",
       "3   Промышленное программирование на языке Java   \n",
       "4          Методы сжатия и передачи медиаданных   \n",
       "5   Промышленное программирование на языке Java   \n",
       "6                             Компьютерные сети   \n",
       "7                             Компьютерные сети   \n",
       "8   Промышленное программирование на языке Java   \n",
       "9                             Компьютерные сети   \n",
       "10         Методы сжатия и передачи медиаданных   \n",
       "11         Методы сжатия и передачи медиаданных   \n",
       "12   Дополнительные главы прикладной статистики   \n",
       "13                          Машинное обучение 2   \n",
       "14  Промышленное программирование на языке Java   \n",
       "\n",
       "                                       spring_3 blended  count  \n",
       "0                           Компьютерное зрение  DevOps      2  \n",
       "1                           Компьютерное зрение  DevOps      2  \n",
       "2       Генеративные модели в машинном обучении  DevOps      2  \n",
       "3    Дополнительные главы прикладной статистики              3  \n",
       "4                        Конфликты и кооперация  DevOps      2  \n",
       "5                        Дискретная оптимизация              3  \n",
       "6                            Системы баз данных              2  \n",
       "7                        Дискретная оптимизация              2  \n",
       "8                       Анализ данных в бизнесе              2  \n",
       "9   Промышленное программирование на языке Java              2  \n",
       "10                          Компьютерное зрение  DevOps      2  \n",
       "11         Методы сжатия и передачи медиаданных  DevOps      2  \n",
       "12                           Системы баз данных              2  \n",
       "13                            Компьютерные сети              2  \n",
       "14                       Дискретная оптимизация              2  "
      ]
     },
     "execution_count": 37,
     "metadata": {},
     "output_type": "execute_result"
    }
   ],
   "source": [
    "df_groupby_courses[df_groupby_courses > 1].reset_index().rename(columns={0: 'count'})"
   ]
  },
  {
   "cell_type": "markdown",
   "metadata": {},
   "source": [
    "#### 7. [0.5 балла] Найдите курсы по выбору, на которые записывались как студенты 18-го года набора, так и студенты 17-го года."
   ]
  },
  {
   "cell_type": "code",
   "execution_count": 38,
   "metadata": {},
   "outputs": [],
   "source": [
    "courses_17 = set(pd.unique(data[data['17_group'] > 0][columns_courses].values.ravel('K')))\n",
    "courses_18 = set(pd.unique(data[data['18_group'] > 0][columns_courses].values.ravel('K'))) - {''}\n"
   ]
  },
  {
   "cell_type": "code",
   "execution_count": 39,
   "metadata": {},
   "outputs": [],
   "source": [
    "common_cources = courses_17 & courses_18"
   ]
  },
  {
   "cell_type": "code",
   "execution_count": 40,
   "metadata": {
    "scrolled": true
   },
   "outputs": [
    {
     "name": "stdout",
     "output_type": "stream",
     "text": [
      "Common courses:\n"
     ]
    },
    {
     "data": {
      "text/plain": [
       "{'Statistical Learning Theory',\n",
       " 'Безопасность компьютерных систем',\n",
       " 'Высокопроизводительные вычисления',\n",
       " 'Моделирование временных рядов',\n",
       " 'Принятие решений в условиях риска и неопределённости',\n",
       " 'Сбор и обработка данных с помощью краудсорсинга',\n",
       " 'Численные методы'}"
      ]
     },
     "execution_count": 40,
     "metadata": {},
     "output_type": "execute_result"
    }
   ],
   "source": [
    "print(\"Common courses:\")\n",
    "common_cources"
   ]
  },
  {
   "cell_type": "markdown",
   "metadata": {},
   "source": [
    "Методом исключения найдите курсы, которые предлагались только студентам 18-го года и только студентам 17-го года."
   ]
  },
  {
   "cell_type": "code",
   "execution_count": 41,
   "metadata": {
    "scrolled": true
   },
   "outputs": [],
   "source": [
    "unique_17_cources = courses_17 - common_cources\n",
    "unique_18_cources = courses_18 - common_cources"
   ]
  },
  {
   "cell_type": "code",
   "execution_count": 42,
   "metadata": {
    "scrolled": true
   },
   "outputs": [
    {
     "name": "stdout",
     "output_type": "stream",
     "text": [
      "Unique courses 17 year:\n"
     ]
    },
    {
     "data": {
      "text/plain": [
       "{'DevOps',\n",
       " 'Анализ неструктурированных данных',\n",
       " 'Байесовские методы машинного обучения',\n",
       " 'Введение в дифференциальную геометрию',\n",
       " 'Генеративные модели в машинном обучении',\n",
       " 'Глубинное обучение в обработке звука',\n",
       " 'Компьютерное зрение',\n",
       " 'Конфликты и кооперация',\n",
       " 'Методы сжатия и передачи медиаданных',\n",
       " 'Обучение с подкреплением',\n",
       " 'Проектирование и разработка высоконагруженных сервисов',\n",
       " 'Символьные вычисления',\n",
       " 'Соревновательный анализ данных'}"
      ]
     },
     "execution_count": 42,
     "metadata": {},
     "output_type": "execute_result"
    }
   ],
   "source": [
    "print(\"Unique courses 17 year:\")\n",
    "unique_17_cources"
   ]
  },
  {
   "cell_type": "code",
   "execution_count": 43,
   "metadata": {},
   "outputs": [
    {
     "name": "stdout",
     "output_type": "stream",
     "text": [
      "Unique courses 18 year:\n"
     ]
    },
    {
     "data": {
      "text/plain": [
       "{'Анализ данных в бизнесе',\n",
       " 'Дискретная оптимизация',\n",
       " 'Дополнительные главы прикладной статистики',\n",
       " 'Компьютерные сети',\n",
       " 'Матричные вычисления',\n",
       " 'Машинное обучение 2',\n",
       " 'Промышленное программирование на языке Java',\n",
       " 'Системы баз данных',\n",
       " 'Теория баз данных',\n",
       " 'Язык SQL'}"
      ]
     },
     "execution_count": 43,
     "metadata": {},
     "output_type": "execute_result"
    }
   ],
   "source": [
    "print(\"Unique courses 18 year:\")\n",
    "unique_18_cources"
   ]
  },
  {
   "cell_type": "markdown",
   "metadata": {},
   "source": [
    "### Визуализации и matplotlib"
   ]
  },
  {
   "cell_type": "markdown",
   "metadata": {},
   "source": [
    "При работе с данными часто неудобно делать какие-то выводы, если смотреть на таблицу и числа в частности, поэтому важно уметь визуализировать данные. Здесь будут описаны ключевые правила оформления графиков для **всех** домашних заданий.\n",
    "\n",
    "У matplotlib, конечно же, есть [документация](https://matplotlib.org/users/index.html) с большим количеством [примеров](https://matplotlib.org/examples/), но для начала достаточно знать про несколько основных типов графиков:\n",
    "- plot — обычный поточечный график, которым можно изображать кривые или отдельные точки;\n",
    "- hist — гистограмма, показывающая распределение некоторой величины;\n",
    "- scatter — график, показывающий взаимосвязь двух величин;\n",
    "- bar — столбцовый график, показывающий взаимосвязь количественной величины от категориальной.\n",
    "\n",
    "В этом задании вы попробуете построить один из них. Не забывайте про базовые принципы построения приличных графиков:\n",
    "- оси должны быть подписаны, причём не слишком мелко;\n",
    "- у графика должно быть название;\n",
    "- если изображено несколько графиков, то необходима поясняющая легенда;\n",
    "- все линии на графиках должны быть чётко видны (нет похожих цветов или цветов, сливающихся с фоном);\n",
    "- если отображена величина, имеющая очевидный диапазон значений (например, проценты могут быть от 0 до 100), то желательно масштабировать ось на весь диапазон значений (исключением является случай, когда вам необходимо показать малое отличие, которое незаметно в таких масштабах);\n",
    "- сетка на графике помогает оценить значения в точках на глаз, это обычно полезно, поэтому лучше ее отрисовывать;\n",
    "- если распределение на гистограмме имеет тяжёлые хвосты, лучше использовать логарифмическую шкалу."
   ]
  },
  {
   "cell_type": "code",
   "execution_count": 44,
   "metadata": {},
   "outputs": [],
   "source": [
    "%matplotlib inline\n",
    "import matplotlib.pyplot as plt"
   ]
  },
  {
   "cell_type": "markdown",
   "metadata": {},
   "source": [
    "#### 8. [0.5 балла] Постройте график средних рейтингов по дням получения ответов (bar plot)."
   ]
  },
  {
   "cell_type": "code",
   "execution_count": 45,
   "metadata": {},
   "outputs": [],
   "source": [
    "data['day'] = data.timestamp.astype(dtype='datetime64[D]')"
   ]
  },
  {
   "cell_type": "code",
   "execution_count": 46,
   "metadata": {},
   "outputs": [
    {
     "data": {
      "image/png": "[encoded data removed]",
      "text/plain": [
       "<Figure size 720x720 with 1 Axes>"
      ]
     },
     "metadata": {
      "needs_background": "light"
     },
     "output_type": "display_data"
    }
   ],
   "source": [
    "mean_rating_per_day = data.groupby('day')['rating'].mean()\n",
    "\n",
    "plt.figure(figsize=(10, 10))\n",
    "\n",
    "plt.bar(mean_rating_per_day.index, height=mean_rating_per_day)\n",
    "\n",
    "plt.grid()\n",
    "plt.title('Average rating per request day', {'size': 20})\n",
    "plt.ylabel('Average rating', {'size': 16})\n",
    "plt.xlabel('Day of request', {'size': 16})\n",
    "\n",
    "plt.savefig('average_rating_per_day.pdf')\n",
    "\n",
    "plt.show()"
   ]
  },
  {
   "cell_type": "markdown",
   "metadata": {},
   "source": [
    "Сохраните график в формате pdf (так он останется векторизованным)."
   ]
  },
  {
   "cell_type": "markdown",
   "metadata": {},
   "source": [
    "#### Сохранил в коде выше"
   ]
  },
  {
   "cell_type": "markdown",
   "metadata": {},
   "source": [
    "Еще одна билиотека для визуализации: [seaborn](https://jakevdp.github.io/PythonDataScienceHandbook/04.14-visualization-with-seaborn.html). Это настройка над matplotlib, иногда удобнее и красивее делать визуализации через неё. "
   ]
  },
  {
   "cell_type": "markdown",
   "metadata": {},
   "source": [
    "### 2. Распределение студентов по курсам."
   ]
  },
  {
   "cell_type": "markdown",
   "metadata": {},
   "source": [
    "Теперь вам нужно распределить студентов по осенним курсам по выбору, учитывая их предпочтения."
   ]
  },
  {
   "cell_type": "markdown",
   "metadata": {},
   "source": [
    "Алгоритм распределения студентов по курсам:\n",
    "1. По умолчанию на каждой дисциплине по выбору у 3 и 4 курсов может учиться 1 группа (до 30 студентов). Исключения описаны ниже. На blended-дисциплинах для четверокурсников количество мест не ограничено.\n",
    "2. Проводится первая волна отбора. Для каждой дисциплины формируется список тех, кто указал её первым приоритетом (если студент должен выбрать два курса по выбору, то для него дисциплины, которые он указал первым и вторым приоритетом, рассматриваются как дисциплины первого приоритета). Если желающих больше, чем мест, то выбирается топ по перцентилю рейтинга.\n",
    "3. На дисциплинах, где остались места после первой волны, формируются списки тех, кто выбрал их вторым приоритетом, и места заполняются лучшими по перцентили рейтинга студентами. После этого проводится такая же процедура для дисциплин третьего приоритета.\n",
    "4. Если студент не попал на необходимое количество курсов по итогам трёх волн, с ним связывается учебный офис и решает вопрос в индивидуальном порядке."
   ]
  },
  {
   "cell_type": "markdown",
   "metadata": {},
   "source": [
    "Обращаем ваше внимание на следующие детали:\n",
    "\n",
    "- По умолчанию студент выбирает один осенний и один весенний курс по выбору, а также четверокурсники выбирают один blended-курс. Студенты групп 17-го года специализаций МОП и ТИ выбирают по 2 осенних и 2 весенних курса по выбору, также студенты групп 18' специализации МИ выбирают 2 осенних курса.\n",
    "\n",
    "- Студенты специализации МОП не могут выбрать весенним курсом по выбору Машинное обучение 2.\n",
    "\n",
    "- Blended-курсы не трогайте, по ним не надо распределять, на другие курсы они никак не влияют.\n",
    "\n",
    "- Постарайтесь воздержаться от использования циклов там, где это возможно.\n",
    "\n",
    "- На выходе ожидается файл res_fall.csv с результатами распределения на осенние курсы по выбору. Файл должен быть следующего формата:\n",
    "\n",
    "    * три столбца: ID, course1, course2\n",
    "    \n",
    "    * Если студент не попал на курс, но должен был, то вместо названия курса в ячейке должна быть строка \"???\"\n",
    "    \n",
    "    * Если студент должен выбрать только один курс, то в колонке course2 для него должна стоять строка \"-\"\n",
    "    \n",
    "    * Формат csv: для сохранения воспользуйтесь df.to_csv('solution.csv', index=None)\n",
    "    \n",
    "\n",
    "Для работы вам могут понадобиться следующие данные:\n",
    "\n",
    "- Результаты опроса (вы уже использовали этот файл в первой части задания, но на всякий случай ссылка: https://www.dropbox.com/s/f4rm8sjc3v99p0m/_end_seminar.xlsx?dl=0)\n",
    "\n",
    "- Соответствие номеров групп специализациям:\n",
    "\n",
    "    * 171, 172 - МОП; 173 - ТИ; 174 — АДИС; 175, 176 — РС; 177 — АПР\n",
    "    \n",
    "    * 181, 182 - МОП; 183 - ТИ; 184 - АДИС; 185, 186 - РС; 187 - АПР; 188 - МИ \n",
    "\n",
    "- Ограничения по количеству мест на курсах по выбору:\n",
    "\n",
    "    * Осенние: везде 30 мест, кроме Statistical Learning Theory (60 мест), Высокопроизводительных вычислений (60 мест), Анализа неструктурированных данных ($\\infty$ мест)\n",
    "\n",
    "    * Весенние: везде 30 мест, кроме Обучения с подкреплением (60 мест), Анализа данных в бизнесе (60 мест).\n",
    "\n",
    "\n",
    "Кстати, убедитесь, что в данных больше нет пропусков и повторных записей."
   ]
  },
  {
   "cell_type": "markdown",
   "metadata": {},
   "source": [
    "#### 0. Проверка\n",
    "\n",
    "Для начала давайте убедимся, что вы успешно выполнили задания первой части и проверим ваши данные на наличие пропусков и повторов:"
   ]
  },
  {
   "cell_type": "code",
   "execution_count": 47,
   "metadata": {},
   "outputs": [],
   "source": [
    "spec = {\n",
    "    \"MOP\": set([171, 172, 181, 182]),\n",
    "    \"TI\": set([173, 183]),\n",
    "    \"ADIS\": set([174, 184]),\n",
    "    \"RS\": set([175, 176, 185, 186]),\n",
    "    \"APR\": set([177, 187]),\n",
    "    \"MI\": set([188])\n",
    "}"
   ]
  },
  {
   "cell_type": "code",
   "execution_count": 48,
   "metadata": {},
   "outputs": [],
   "source": [
    "from gc import collect"
   ]
  },
  {
   "cell_type": "code",
   "execution_count": 49,
   "metadata": {},
   "outputs": [
    {
     "data": {
      "text/plain": [
       "3733"
      ]
     },
     "execution_count": 49,
     "metadata": {},
     "output_type": "execute_result"
    }
   ],
   "source": [
    "df = data.copy()\n",
    "del data\n",
    "collect()"
   ]
  },
  {
   "cell_type": "code",
   "execution_count": 50,
   "metadata": {},
   "outputs": [],
   "source": [
    "assert df.shape[0] == 347, 'В таблице остались повторы или потеряны данные'\n",
    "\n",
    "assert df.isna().sum().sum() == 0, 'В таблице остались пропуски'"
   ]
  },
  {
   "cell_type": "markdown",
   "metadata": {},
   "source": [
    "Если вы не получили AssertionError, то можете продолжать."
   ]
  },
  {
   "cell_type": "markdown",
   "metadata": {},
   "source": [
    "#### 1. [1 балл] Создайте новый признак, обозначающий, сколько осенних курсов должен выбрать студент\n",
    "\n",
    "В этом вам может помочь информация о специализации и группе стундента."
   ]
  },
  {
   "cell_type": "code",
   "execution_count": 51,
   "metadata": {},
   "outputs": [
    {
     "data": {
      "text/plain": [
       "[181, 182, 183, 171, 172, 173]"
      ]
     },
     "execution_count": 51,
     "metadata": {},
     "output_type": "execute_result"
    }
   ],
   "source": [
    "list(spec['MOP'] | spec['TI'])"
   ]
  },
  {
   "cell_type": "code",
   "execution_count": 52,
   "metadata": {
    "scrolled": false
   },
   "outputs": [],
   "source": [
    "df['amount_fall_course'] = 1\n",
    "\n",
    "df.loc[(df['17_group'] > 0) & (df['17_group'].isin(spec['MOP'] | spec['TI'])), 'amount_fall_course'] += 1\n",
    "df.loc[(df['18_group'] > 0) & (df['is_mi']), 'amount_fall_course'] += 1\n",
    "\n",
    "remaining_courses_fall = pd.DataFrame(df[['id', 'amount_fall_course']])\\\n",
    "    .rename(columns={'amount_fall_course': 'courses_remaining'})"
   ]
  },
  {
   "cell_type": "markdown",
   "metadata": {},
   "source": [
    "Проверка:"
   ]
  },
  {
   "cell_type": "code",
   "execution_count": 53,
   "metadata": {},
   "outputs": [],
   "source": [
    "col_name = 'amount_fall_course'\n",
    "\n",
    "assert(df[df['id'] == '2662600c2c37e11e62f6ee0b88452f22'][col_name] == 2).all()\n",
    "assert(df[df['id'] == 'd555d2805e1d93d4f023e57dc4c8f403'][col_name] == 2).all()\n",
    "assert(df[df['id'] == '8fe79f84f36e3a5d2d6745621321302c'][col_name] == 1).all()\n",
    "assert(df[df['id'] == 'e4caca755ee0bdd711e18fb8084958b5'][col_name] == 1).all()"
   ]
  },
  {
   "cell_type": "markdown",
   "metadata": {},
   "source": [
    "#### 2. [2 балла] Распределите студентов в соответствии с первым приоритетом"
   ]
  },
  {
   "cell_type": "code",
   "execution_count": 54,
   "metadata": {},
   "outputs": [],
   "source": [
    "fall_columns = ['fall_1', 'fall_2', 'fall_3']\n",
    "spring_columns = ['spring_1', 'spring_2', 'spring_3']\n",
    "blended_columns = ['blended']\n",
    "\n",
    "fall_courses_cap = pd.DataFrame(index=set(df[fall_columns].values.ravel('K')))\n",
    "spring_courses_cap = pd.DataFrame(index=set(df[spring_columns].values.ravel('K')))\n",
    "blended_courses_cap = pd.DataFrame(index=set(df[blended_columns].values.ravel('K')))\n",
    "\n",
    "fall_courses_cap['left_cap'] = 30\n",
    "fall_courses_cap.loc['Statistical Learning Theory', 'left_cap'] = 60\n",
    "fall_courses_cap.loc['Высокопроизводительные вычисления', 'left_cap'] = 60\n",
    "fall_courses_cap.loc['Анализ неструктурированных данных', 'left_cap'] = 500\n",
    "\n",
    "spring_courses_cap['left_cap'] = 30\n",
    "spring_courses_cap.loc['Обучение с подкреплением', 'left_cap'] = 60\n",
    "spring_courses_cap.loc['Анализ данных в бизнесе', 'left_cap'] = 60\n",
    "    \n",
    "blended_courses_cap['left_cap'] = 500"
   ]
  },
  {
   "cell_type": "markdown",
   "metadata": {},
   "source": [
    "### Fall"
   ]
  },
  {
   "cell_type": "code",
   "execution_count": 55,
   "metadata": {
    "scrolled": false
   },
   "outputs": [],
   "source": [
    "def resolve_wave(candidates, capacity, answer, remaining_courses):\n",
    "    grouped = candidates.groupby('course')\n",
    "    for course, group in grouped:\n",
    "        group_size = min(capacity.loc[course, 'left_cap'], group.shape[0])\n",
    "        print('{}. Remaining: {}. Requests: {}'.format(course, capacity.loc[course, 'left_cap'], group.shape[0]))\n",
    "        if group_size != 0:\n",
    "            accepted = group.nsmallest(group_size, 'percentile')\n",
    "                \n",
    "            positions_for_this_course = answer.ID.isin(accepted.id.values)\n",
    "            empty_first_course = answer.course1.isna()\n",
    "            answer.loc[positions_for_this_course & empty_first_course, 'course1'] = course\n",
    "            answer.loc[positions_for_this_course & (~empty_first_course), 'course2'] = course\n",
    "\n",
    "            capacity.loc[course, 'left_cap'] -= group_size\n",
    "\n",
    "            remaining_courses.loc[\n",
    "                remaining_courses.id.isin(accepted.id.values), 'courses_remaining'\n",
    "            ] -= 1\n",
    "            df.loc[df.id == accepted.head(1).id.values[0], 'is_first_place'] = True\n",
    "            df.loc[df.id == accepted.tail(1).id.values[0], 'is_last_place'] = True"
   ]
  },
  {
   "cell_type": "code",
   "execution_count": 56,
   "metadata": {},
   "outputs": [],
   "source": [
    "ans_fall = pd.DataFrame(df['id']).rename(columns={'id': 'ID'})\n",
    "ans_fall['course1'] = np.nan\n",
    "ans_fall['course2'] = np.nan"
   ]
  },
  {
   "cell_type": "code",
   "execution_count": 57,
   "metadata": {
    "scrolled": true
   },
   "outputs": [],
   "source": [
    "candidates_first_fall = df[['id', 'percentile', 'fall_1']].rename(columns={'fall_1': 'course'})\n",
    "\n",
    "candidates_first_fall = candidates_first_fall.append(\n",
    "    df.loc[df['amount_fall_course'] == 2, ['id', 'percentile', 'fall_2']]\\\n",
    "    .rename(columns={'fall_2': 'course'})\n",
    ")\n",
    "\n",
    "candidates_first_fall['wave'] = 1\n",
    "\n",
    "candidates_second_fall = df.loc[ \n",
    "    (df['amount_fall_course'] != 2), ['id', 'percentile', 'fall_2']\n",
    "].rename(columns={'fall_2': 'course'})\n",
    "\n",
    "candidates_second_fall = candidates_second_fall.append(\n",
    "    df.loc[(df['amount_fall_course'] == 2), ['id', 'percentile', 'fall_3']]\\\n",
    "    .rename(columns={'fall_3': 'course'})\n",
    ").drop_duplicates()\n",
    "\n",
    "candidates_second_fall['wave'] = 2\n",
    "\n",
    "candidates_third_fall = df.loc[\n",
    "    df['amount_fall_course'] != 2, ['id', 'percentile', 'fall_3']\n",
    "].rename(columns={'fall_3': 'course'})\n",
    "\n",
    "candidates_third_fall['wave'] = 3"
   ]
  },
  {
   "cell_type": "code",
   "execution_count": 58,
   "metadata": {},
   "outputs": [],
   "source": [
    "candidates_fall =  pd.concat([candidates_first_fall, candidates_second_fall, candidates_third_fall])\n",
    "\n",
    "candidates_fall = candidates_fall.drop_duplicates(subset=['course', 'id'], keep='first')"
   ]
  },
  {
   "cell_type": "code",
   "execution_count": 59,
   "metadata": {},
   "outputs": [
    {
     "name": "stdout",
     "output_type": "stream",
     "text": [
      "Statistical Learning Theory. Remaining: 60. Requests: 33\n",
      "Анализ неструктурированных данных. Remaining: 500. Requests: 48\n",
      "Байесовские методы машинного обучения. Remaining: 30. Requests: 24\n",
      "Безопасность компьютерных систем. Remaining: 30. Requests: 115\n",
      "Высокопроизводительные вычисления. Remaining: 60. Requests: 44\n",
      "Глубинное обучение в обработке звука. Remaining: 30. Requests: 23\n",
      "Матричные вычисления. Remaining: 30. Requests: 15\n",
      "Моделирование временных рядов. Remaining: 30. Requests: 31\n",
      "Принятие решений в условиях риска и неопределённости. Remaining: 30. Requests: 8\n",
      "Сбор и обработка данных с помощью краудсорсинга. Remaining: 30. Requests: 50\n",
      "Теория баз данных. Remaining: 30. Requests: 14\n",
      "Язык SQL. Remaining: 30. Requests: 29\n"
     ]
    }
   ],
   "source": [
    "resolve_wave(\n",
    "    candidates_fall[(candidates_fall.wave == 1) &\n",
    "                    (candidates_fall.id.isin(\n",
    "                        remaining_courses_fall[remaining_courses_fall.courses_remaining > 0].id.values\n",
    "                    ))],\n",
    "    fall_courses_cap,\n",
    "    ans_fall,\n",
    "    remaining_courses_fall\n",
    ")"
   ]
  },
  {
   "cell_type": "code",
   "execution_count": 60,
   "metadata": {
    "scrolled": true
   },
   "outputs": [
    {
     "data": {
      "text/plain": [
       "30"
      ]
     },
     "execution_count": 60,
     "metadata": {},
     "output_type": "execute_result"
    }
   ],
   "source": [
    "ans_fall[(ans_fall.course1 == 'Безопасность компьютерных систем') |\\\n",
    "         (ans_fall.course2 == 'Безопасность компьютерных систем')].shape[0]"
   ]
  },
  {
   "cell_type": "code",
   "execution_count": 61,
   "metadata": {},
   "outputs": [
    {
     "data": {
      "text/plain": [
       "44"
      ]
     },
     "execution_count": 61,
     "metadata": {},
     "output_type": "execute_result"
    }
   ],
   "source": [
    "ans_fall[(ans_fall.course1 == 'Высокопроизводительные вычисления') |\\\n",
    "         (ans_fall.course2 == 'Высокопроизводительные вычисления')].shape[0]"
   ]
  },
  {
   "cell_type": "code",
   "execution_count": 62,
   "metadata": {},
   "outputs": [
    {
     "data": {
      "text/html": [
       "<div>\n",
       "<style scoped>\n",
       "    .dataframe tbody tr th:only-of-type {\n",
       "        vertical-align: middle;\n",
       "    }\n",
       "\n",
       "    .dataframe tbody tr th {\n",
       "        vertical-align: top;\n",
       "    }\n",
       "\n",
       "    .dataframe thead th {\n",
       "        text-align: right;\n",
       "    }\n",
       "</style>\n",
       "<table border=\"1\" class=\"dataframe\">\n",
       "  <thead>\n",
       "    <tr style=\"text-align: right;\">\n",
       "      <th></th>\n",
       "      <th>left_cap</th>\n",
       "    </tr>\n",
       "  </thead>\n",
       "  <tbody>\n",
       "    <tr>\n",
       "      <th>Моделирование временных рядов</th>\n",
       "      <td>0</td>\n",
       "    </tr>\n",
       "    <tr>\n",
       "      <th>Безопасность компьютерных систем</th>\n",
       "      <td>0</td>\n",
       "    </tr>\n",
       "    <tr>\n",
       "      <th>Statistical Learning Theory</th>\n",
       "      <td>27</td>\n",
       "    </tr>\n",
       "    <tr>\n",
       "      <th>Сбор и обработка данных с помощью краудсорсинга</th>\n",
       "      <td>0</td>\n",
       "    </tr>\n",
       "    <tr>\n",
       "      <th>Высокопроизводительные вычисления</th>\n",
       "      <td>16</td>\n",
       "    </tr>\n",
       "    <tr>\n",
       "      <th>Принятие решений в условиях риска и неопределённости</th>\n",
       "      <td>22</td>\n",
       "    </tr>\n",
       "    <tr>\n",
       "      <th>Матричные вычисления</th>\n",
       "      <td>15</td>\n",
       "    </tr>\n",
       "    <tr>\n",
       "      <th>Глубинное обучение в обработке звука</th>\n",
       "      <td>7</td>\n",
       "    </tr>\n",
       "    <tr>\n",
       "      <th>Язык SQL</th>\n",
       "      <td>1</td>\n",
       "    </tr>\n",
       "    <tr>\n",
       "      <th>Теория баз данных</th>\n",
       "      <td>16</td>\n",
       "    </tr>\n",
       "    <tr>\n",
       "      <th>Байесовские методы машинного обучения</th>\n",
       "      <td>6</td>\n",
       "    </tr>\n",
       "    <tr>\n",
       "      <th>Анализ неструктурированных данных</th>\n",
       "      <td>452</td>\n",
       "    </tr>\n",
       "  </tbody>\n",
       "</table>\n",
       "</div>"
      ],
      "text/plain": [
       "                                                    left_cap\n",
       "Моделирование временных рядов                              0\n",
       "Безопасность компьютерных систем                           0\n",
       "Statistical Learning Theory                               27\n",
       "Сбор и обработка данных с помощью краудсорсинга            0\n",
       "Высокопроизводительные вычисления                         16\n",
       "Принятие решений в условиях риска и неопределён...        22\n",
       "Матричные вычисления                                      15\n",
       "Глубинное обучение в обработке звука                       7\n",
       "Язык SQL                                                   1\n",
       "Теория баз данных                                         16\n",
       "Байесовские методы машинного обучения                      6\n",
       "Анализ неструктурированных данных                        452"
      ]
     },
     "execution_count": 62,
     "metadata": {},
     "output_type": "execute_result"
    }
   ],
   "source": [
    "fall_courses_cap"
   ]
  },
  {
   "cell_type": "markdown",
   "metadata": {},
   "source": [
    "Здесь для проверки приведена таблица, в которой есть 2 дополнительные колонки:\n",
    "    \n",
    "    1) is_first_place - является ли студент лучшим по перцентили хотя бы на одном из курсов, куда он был зачислен \n",
    "    (True / NaN)\n",
    "    \n",
    "    2) is_last_place  - является ли студент худшим по перцентили хотя бы на одном из курсов, куда он был зачислен (True / NaN)"
   ]
  },
  {
   "cell_type": "code",
   "execution_count": 63,
   "metadata": {},
   "outputs": [],
   "source": [
    "# !wget  -O '2_task_check.csv' -q 'https://www.dropbox.com/s/v8o2zzq3iz5gc9w/_2_task_check.csv?dl=0'\n",
    "check_df = pd.read_csv('2_task_check.csv')"
   ]
  },
  {
   "cell_type": "markdown",
   "metadata": {},
   "source": [
    "После распределения студентов в соответствии с первым приоритетом добавьте в свой датафрейм аналогичные признаки и запустите проверку:"
   ]
  },
  {
   "cell_type": "code",
   "execution_count": 64,
   "metadata": {},
   "outputs": [],
   "source": [
    "fir_col_name = 'is_first_place'\n",
    "last_col_name = 'is_last_place'\n",
    "\n",
    "\n",
    "assert((df[df[fir_col_name].isna() == False][['id']].sort_values('id').reset_index(drop=True)\n",
    "            == \n",
    "       check_df[check_df['is_first_place'].isna() == False][['id']].sort_values('id').reset_index(drop=True)\n",
    "      ).all().id)\n",
    "\n",
    "\n",
    "assert((df[df[last_col_name].isna() == False][['id']].sort_values('id').reset_index(drop=True)\n",
    "       == \n",
    "       check_df[check_df['is_last_place'].isna() == False][['id']].sort_values('id').reset_index(drop=True)\n",
    "      ).all().id)"
   ]
  },
  {
   "cell_type": "markdown",
   "metadata": {},
   "source": [
    "#### 3. [3 балла] Проведите все три волны отбора студентов на курсы по выбору"
   ]
  },
  {
   "cell_type": "code",
   "execution_count": 65,
   "metadata": {
    "scrolled": true
   },
   "outputs": [
    {
     "name": "stdout",
     "output_type": "stream",
     "text": [
      "Statistical Learning Theory. Remaining: 27. Requests: 8\n",
      "Анализ неструктурированных данных. Remaining: 452. Requests: 5\n",
      "Байесовские методы машинного обучения. Remaining: 6. Requests: 1\n",
      "Безопасность компьютерных систем. Remaining: 0. Requests: 4\n",
      "Высокопроизводительные вычисления. Remaining: 16. Requests: 25\n",
      "Глубинное обучение в обработке звука. Remaining: 7. Requests: 7\n",
      "Матричные вычисления. Remaining: 15. Requests: 9\n",
      "Моделирование временных рядов. Remaining: 0. Requests: 10\n",
      "Принятие решений в условиях риска и неопределённости. Remaining: 22. Requests: 1\n",
      "Сбор и обработка данных с помощью краудсорсинга. Remaining: 0. Requests: 15\n",
      "Теория баз данных. Remaining: 16. Requests: 4\n",
      "Язык SQL. Remaining: 1. Requests: 14\n"
     ]
    }
   ],
   "source": [
    "resolve_wave(\n",
    "    candidates_fall[(candidates_fall.wave == 2) &\n",
    "                    (candidates_fall.id.isin(\n",
    "                        remaining_courses_fall[remaining_courses_fall.courses_remaining > 0].id.values\n",
    "                    ))],\n",
    "    fall_courses_cap,\n",
    "    ans_fall,\n",
    "    remaining_courses_fall\n",
    ")"
   ]
  },
  {
   "cell_type": "code",
   "execution_count": 66,
   "metadata": {},
   "outputs": [
    {
     "name": "stdout",
     "output_type": "stream",
     "text": [
      "Statistical Learning Theory. Remaining: 19. Requests: 2\n",
      "Анализ неструктурированных данных. Remaining: 447. Requests: 3\n",
      "Высокопроизводительные вычисления. Remaining: 0. Requests: 4\n",
      "Матричные вычисления. Remaining: 6. Requests: 10\n",
      "Моделирование временных рядов. Remaining: 0. Requests: 2\n",
      "Принятие решений в условиях риска и неопределённости. Remaining: 21. Requests: 1\n",
      "Сбор и обработка данных с помощью краудсорсинга. Remaining: 0. Requests: 6\n",
      "Теория баз данных. Remaining: 12. Requests: 6\n",
      "Язык SQL. Remaining: 0. Requests: 8\n"
     ]
    }
   ],
   "source": [
    "resolve_wave(\n",
    "    candidates_fall[(candidates_fall.wave == 3) &\n",
    "                    (candidates_fall.id.isin(\n",
    "                        remaining_courses_fall[remaining_courses_fall.courses_remaining > 0].id.values\n",
    "                    ))],\n",
    "    fall_courses_cap,\n",
    "    ans_fall,\n",
    "    remaining_courses_fall\n",
    ")"
   ]
  },
  {
   "cell_type": "code",
   "execution_count": 67,
   "metadata": {},
   "outputs": [
    {
     "data": {
      "text/html": [
       "<div>\n",
       "<style scoped>\n",
       "    .dataframe tbody tr th:only-of-type {\n",
       "        vertical-align: middle;\n",
       "    }\n",
       "\n",
       "    .dataframe tbody tr th {\n",
       "        vertical-align: top;\n",
       "    }\n",
       "\n",
       "    .dataframe thead th {\n",
       "        text-align: right;\n",
       "    }\n",
       "</style>\n",
       "<table border=\"1\" class=\"dataframe\">\n",
       "  <thead>\n",
       "    <tr style=\"text-align: right;\">\n",
       "      <th></th>\n",
       "      <th>ID</th>\n",
       "      <th>course1</th>\n",
       "      <th>course2</th>\n",
       "    </tr>\n",
       "  </thead>\n",
       "  <tbody>\n",
       "    <tr>\n",
       "      <th>98</th>\n",
       "      <td>5a66e3b77559d14dd20fc4df99671688</td>\n",
       "      <td>Язык SQL</td>\n",
       "      <td>NaN</td>\n",
       "    </tr>\n",
       "    <tr>\n",
       "      <th>192</th>\n",
       "      <td>9963fc00d9405a35b894cc04a7e19855</td>\n",
       "      <td>Высокопроизводительные вычисления</td>\n",
       "      <td>NaN</td>\n",
       "    </tr>\n",
       "    <tr>\n",
       "      <th>338</th>\n",
       "      <td>fc833a2815fa010d53b0047244438d9d</td>\n",
       "      <td>Statistical Learning Theory</td>\n",
       "      <td>Байесовские методы машинного обучения</td>\n",
       "    </tr>\n",
       "    <tr>\n",
       "      <th>209</th>\n",
       "      <td>aa21f50934a72e00bbc7e65a54ea0bcc</td>\n",
       "      <td>Высокопроизводительные вычисления</td>\n",
       "      <td>NaN</td>\n",
       "    </tr>\n",
       "    <tr>\n",
       "      <th>186</th>\n",
       "      <td>95cf121698ebc89ac0cf74625d714d1d</td>\n",
       "      <td>Безопасность компьютерных систем</td>\n",
       "      <td>NaN</td>\n",
       "    </tr>\n",
       "    <tr>\n",
       "      <th>105</th>\n",
       "      <td>5bb63d6635c5f4c530b727fe1d6d84bf</td>\n",
       "      <td>Глубинное обучение в обработке звука</td>\n",
       "      <td>NaN</td>\n",
       "    </tr>\n",
       "    <tr>\n",
       "      <th>178</th>\n",
       "      <td>8cc921fb155319d983cf72e9a6e8caa8</td>\n",
       "      <td>Statistical Learning Theory</td>\n",
       "      <td>Высокопроизводительные вычисления</td>\n",
       "    </tr>\n",
       "    <tr>\n",
       "      <th>150</th>\n",
       "      <td>7af276b31fb741aa81baa85aa5c82bd9</td>\n",
       "      <td>Высокопроизводительные вычисления</td>\n",
       "      <td>NaN</td>\n",
       "    </tr>\n",
       "    <tr>\n",
       "      <th>28</th>\n",
       "      <td>1d30f1c70a51faa60f497fe959851731</td>\n",
       "      <td>Анализ неструктурированных данных</td>\n",
       "      <td>Глубинное обучение в обработке звука</td>\n",
       "    </tr>\n",
       "    <tr>\n",
       "      <th>23</th>\n",
       "      <td>1a45910254951a8a55dd65cf4dc24b6d</td>\n",
       "      <td>Анализ неструктурированных данных</td>\n",
       "      <td>Байесовские методы машинного обучения</td>\n",
       "    </tr>\n",
       "  </tbody>\n",
       "</table>\n",
       "</div>"
      ],
      "text/plain": [
       "                                   ID                               course1  \\\n",
       "98   5a66e3b77559d14dd20fc4df99671688                              Язык SQL   \n",
       "192  9963fc00d9405a35b894cc04a7e19855     Высокопроизводительные вычисления   \n",
       "338  fc833a2815fa010d53b0047244438d9d           Statistical Learning Theory   \n",
       "209  aa21f50934a72e00bbc7e65a54ea0bcc     Высокопроизводительные вычисления   \n",
       "186  95cf121698ebc89ac0cf74625d714d1d      Безопасность компьютерных систем   \n",
       "105  5bb63d6635c5f4c530b727fe1d6d84bf  Глубинное обучение в обработке звука   \n",
       "178  8cc921fb155319d983cf72e9a6e8caa8           Statistical Learning Theory   \n",
       "150  7af276b31fb741aa81baa85aa5c82bd9     Высокопроизводительные вычисления   \n",
       "28   1d30f1c70a51faa60f497fe959851731     Анализ неструктурированных данных   \n",
       "23   1a45910254951a8a55dd65cf4dc24b6d     Анализ неструктурированных данных   \n",
       "\n",
       "                                   course2  \n",
       "98                                     NaN  \n",
       "192                                    NaN  \n",
       "338  Байесовские методы машинного обучения  \n",
       "209                                    NaN  \n",
       "186                                    NaN  \n",
       "105                                    NaN  \n",
       "178      Высокопроизводительные вычисления  \n",
       "150                                    NaN  \n",
       "28    Глубинное обучение в обработке звука  \n",
       "23   Байесовские методы машинного обучения  "
      ]
     },
     "execution_count": 67,
     "metadata": {},
     "output_type": "execute_result"
    }
   ],
   "source": [
    "ans_fall.sample(10)"
   ]
  },
  {
   "cell_type": "code",
   "execution_count": 68,
   "metadata": {},
   "outputs": [],
   "source": [
    "# Fill na\n",
    "ans_fall.course1 = ans_fall.course1.fillna('???')\n",
    "\n",
    "ans_fall.loc[\n",
    "    (ans_fall.ID.isin(df.loc[df.amount_fall_course == 2, 'id'])) &\n",
    "    (ans_fall.course2.isna()), 'course2'\n",
    "] = '???'\n",
    "\n",
    "ans_fall = ans_fall.fillna('-')"
   ]
  },
  {
   "cell_type": "code",
   "execution_count": 69,
   "metadata": {},
   "outputs": [
    {
     "data": {
      "text/plain": [
       "(60, 3)"
      ]
     },
     "execution_count": 69,
     "metadata": {},
     "output_type": "execute_result"
    }
   ],
   "source": [
    "# Check that course 'Высокопроизводительные вычисления' if fully packed\n",
    "\n",
    "ans_fall[\n",
    "    (ans_fall.course1 == 'Высокопроизводительные вычисления') |\n",
    "    (ans_fall.course2 == 'Высокопроизводительные вычисления')\n",
    "].shape"
   ]
  },
  {
   "cell_type": "code",
   "execution_count": 70,
   "metadata": {
    "scrolled": true
   },
   "outputs": [
    {
     "data": {
      "text/html": [
       "<div>\n",
       "<style scoped>\n",
       "    .dataframe tbody tr th:only-of-type {\n",
       "        vertical-align: middle;\n",
       "    }\n",
       "\n",
       "    .dataframe tbody tr th {\n",
       "        vertical-align: top;\n",
       "    }\n",
       "\n",
       "    .dataframe thead th {\n",
       "        text-align: right;\n",
       "    }\n",
       "</style>\n",
       "<table border=\"1\" class=\"dataframe\">\n",
       "  <thead>\n",
       "    <tr style=\"text-align: right;\">\n",
       "      <th></th>\n",
       "      <th>left_cap</th>\n",
       "    </tr>\n",
       "  </thead>\n",
       "  <tbody>\n",
       "    <tr>\n",
       "      <th>Моделирование временных рядов</th>\n",
       "      <td>0</td>\n",
       "    </tr>\n",
       "    <tr>\n",
       "      <th>Безопасность компьютерных систем</th>\n",
       "      <td>0</td>\n",
       "    </tr>\n",
       "    <tr>\n",
       "      <th>Statistical Learning Theory</th>\n",
       "      <td>17</td>\n",
       "    </tr>\n",
       "    <tr>\n",
       "      <th>Сбор и обработка данных с помощью краудсорсинга</th>\n",
       "      <td>0</td>\n",
       "    </tr>\n",
       "    <tr>\n",
       "      <th>Высокопроизводительные вычисления</th>\n",
       "      <td>0</td>\n",
       "    </tr>\n",
       "    <tr>\n",
       "      <th>Принятие решений в условиях риска и неопределённости</th>\n",
       "      <td>20</td>\n",
       "    </tr>\n",
       "    <tr>\n",
       "      <th>Матричные вычисления</th>\n",
       "      <td>0</td>\n",
       "    </tr>\n",
       "    <tr>\n",
       "      <th>Глубинное обучение в обработке звука</th>\n",
       "      <td>0</td>\n",
       "    </tr>\n",
       "    <tr>\n",
       "      <th>Язык SQL</th>\n",
       "      <td>0</td>\n",
       "    </tr>\n",
       "    <tr>\n",
       "      <th>Теория баз данных</th>\n",
       "      <td>6</td>\n",
       "    </tr>\n",
       "    <tr>\n",
       "      <th>Байесовские методы машинного обучения</th>\n",
       "      <td>5</td>\n",
       "    </tr>\n",
       "    <tr>\n",
       "      <th>Анализ неструктурированных данных</th>\n",
       "      <td>444</td>\n",
       "    </tr>\n",
       "  </tbody>\n",
       "</table>\n",
       "</div>"
      ],
      "text/plain": [
       "                                                    left_cap\n",
       "Моделирование временных рядов                              0\n",
       "Безопасность компьютерных систем                           0\n",
       "Statistical Learning Theory                               17\n",
       "Сбор и обработка данных с помощью краудсорсинга            0\n",
       "Высокопроизводительные вычисления                          0\n",
       "Принятие решений в условиях риска и неопределён...        20\n",
       "Матричные вычисления                                       0\n",
       "Глубинное обучение в обработке звука                       0\n",
       "Язык SQL                                                   0\n",
       "Теория баз данных                                          6\n",
       "Байесовские методы машинного обучения                      5\n",
       "Анализ неструктурированных данных                        444"
      ]
     },
     "execution_count": 70,
     "metadata": {},
     "output_type": "execute_result"
    }
   ],
   "source": [
    "fall_courses_cap"
   ]
  },
  {
   "cell_type": "markdown",
   "metadata": {},
   "source": [
    "### Export "
   ]
  },
  {
   "cell_type": "code",
   "execution_count": 71,
   "metadata": {},
   "outputs": [],
   "source": [
    "ans_fall.to_csv('res_fall.csv', index=None)"
   ]
  },
  {
   "cell_type": "markdown",
   "metadata": {},
   "source": [
    "**Отправьте свой файл res_fall.csv в контест (https://contest.yandex.ru/contest/19782/problems/A/) и прикрепите/укажите ниже ваш никнейм и ссылку на успешную посылку.**"
   ]
  },
  {
   "cell_type": "markdown",
   "metadata": {},
   "source": [
    "*Дисклеймер:*\n",
    "\n",
    "Контест выдаётся для самопроверки. Если ваша посылка получила ОК, то код, скорее всего, правильный. Но при этом оценка всё равно может быть снижена в случае обнаружения неэффективностей или ошибок в коде. Если вы сдадите в AnyTask очевидно неработающий код или ноутбук без кода, но при этом в контест будет сдан корректный файл, то это будет расцениваться как плагиат."
   ]
  },
  {
   "cell_type": "markdown",
   "metadata": {},
   "source": [
    "На всякий случай просим вас сдать вместе с ноутбуком файл res_fall.csv в anytask"
   ]
  },
  {
   "cell_type": "markdown",
   "metadata": {},
   "source": [
    "**Дополнительное задание. [2 бонусных балла] Распределите таким же образом студентов еще и на весенние курсы по выбору.**\n",
    "\n",
    "Если ваш код был хорошо структурирован, то это не составит проблем. \n",
    "\n",
    "Если вы выполнили это задание, сдайте среди прочего файл res_spring.csv в таком же формате, как и res_fall.csv."
   ]
  }
 ],
 "metadata": {
  "kernelspec": {
   "display_name": "Python 3",
   "language": "python",
   "name": "python3"
  },
  "language_info": {
   "codemirror_mode": {
    "name": "ipython",
    "version": 3
   },
   "file_extension": ".py",
   "mimetype": "text/x-python",
   "name": "python",
   "nbconvert_exporter": "python",
   "pygments_lexer": "ipython3",
   "version": "3.8.5"
  }
 },
 "nbformat": 4,
 "nbformat_minor": 2
}
